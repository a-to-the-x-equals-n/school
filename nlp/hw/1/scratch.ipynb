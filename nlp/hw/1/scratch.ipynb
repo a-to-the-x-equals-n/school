{
 "cells": [
  {
   "cell_type": "code",
   "execution_count": 5,
   "metadata": {},
   "outputs": [
    {
     "name": "stdout",
     "output_type": "stream",
     "text": [
      "\n",
      "[LM]: \n",
      "defaultdict(<class 'collections.Counter'>, {'': Counter({\"let's\": 1, 'test': 1, 'this': 1, 'out': 1, 'and': 1, 'see': 1})})\n"
     ]
    }
   ],
   "source": [
    "ss = \"Let's test this out and see\".lower().split()\n",
    "\n",
    "from collections import defaultdict, Counter\n",
    "from hw1_util import _train\n",
    "from math import log\n",
    "from typing import Generator\n",
    "\n",
    "\n",
    "# def train_ngram_lm(data: list[str], n: int = 3) -> dict[str, dict[str, float]]:\n",
    "#     n -= 1\n",
    "#     data = (['<S>'] * n) + data\n",
    "#     lm = defaultdict(Counter)\n",
    "#     # collect n..0-grams\n",
    "#     for i in range(len(data) - n):  # Iterate over n-grams in data\n",
    "#         gen = _train(data[i : i + n])  # Create generator once per n-gram\n",
    "#         while (h := next(gen)):  # Properly iterate over generator\n",
    "#             lm[h][data[i + n]] += 1  # Update language model counts\n",
    "#     # convert raw counts into MLEs\n",
    "#     lm = { \n",
    "#         h : {w: count / sum(word_counts.values()) for w, count in word_counts.items()} \n",
    "#         for h, word_counts in lm.items() \n",
    "#     }\n",
    "#     return lm\n",
    "\n",
    "def _train_helper(h: list[str]) -> Generator[str, None, None]:\n",
    "    if not h: \n",
    "        yield ''\n",
    "        return\n",
    "    yield ' '.join(h)\n",
    "    yield from _train_helper(h[:-1])\n",
    "\n",
    "\n",
    "def train_ngram_lm(data: list[str], n: int = 3) -> dict[str, dict[str, float]]:\n",
    "    \n",
    "    n -= 1\n",
    "    data = (['<S>'] * n) + data\n",
    "    lm = defaultdict(Counter)\n",
    "\n",
    "    # collect n..0-grams\n",
    "    # for i in range(len(data) - n):  # Iterate over n-grams in data\n",
    "    #     gen = _train(data[i : i + n])  # Create generator once per n-gram\n",
    "    #     while (h := next(gen)):  # Properly iterate over generator\n",
    "    #         lm[h][data[i + n]] += 1  # Update language model counts\n",
    "\n",
    "    for i in range(len(data) - n):\n",
    "        gen = _train_helper(data[i : i + n])  # Create generator once per n-gram\n",
    "        w = data[i + n]\n",
    "\n",
    "        while(h := next(gen, '')):\n",
    "            lm[h][w] += 1\n",
    "\n",
    "        else:\n",
    "            lm[''][w] += 1\n",
    "            \n",
    "    return lm\n",
    "\n",
    "\n",
    "print(f'\\n[LM]: \\n{train_ngram_lm(ss, 1)}')\n",
    "# print(f'\\n[STRING]: \\')\n",
    "\n",
    "# Test case\n",
    "\n",
    "\n",
    "\n",
    "\n"
   ]
  }
 ],
 "metadata": {
  "kernelspec": {
   "display_name": "Python 3",
   "language": "python",
   "name": "python3"
  },
  "language_info": {
   "codemirror_mode": {
    "name": "ipython",
    "version": 3
   },
   "file_extension": ".py",
   "mimetype": "text/x-python",
   "name": "python",
   "nbconvert_exporter": "python",
   "pygments_lexer": "ipython3",
   "version": "3.10.12"
  }
 },
 "nbformat": 4,
 "nbformat_minor": 2
}
