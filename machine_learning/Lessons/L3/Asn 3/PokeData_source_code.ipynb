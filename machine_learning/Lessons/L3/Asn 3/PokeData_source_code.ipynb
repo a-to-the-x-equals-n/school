{
 "cells": [
  {
   "cell_type": "markdown",
   "id": "15e507e3-85da-4169-8fb7-3d7651e389cc",
   "metadata": {},
   "source": [
    "# **Assignment 3**\n",
    "*Author: Logan Reine*"
   ]
  },
  {
   "cell_type": "code",
   "execution_count": 3,
   "id": "d9a2169e-8a83-409e-b747-a2929abfcdf7",
   "metadata": {},
   "outputs": [],
   "source": [
    "import pandas as pd\n",
    "import matplotlib.pyplot as plot\n",
    "import math\n",
    "import numpy as np\n",
    "import seaborn as sea\n",
    "import warnings\n",
    "\n",
    "# Deprecated component to the SPLOM in the seaborn package, this line of code silences the warning\n",
    "warnings.filterwarnings(\"ignore\", category = FutureWarning)\n",
    "pd.options.mode.chained_assignment = None\n",
    "\n",
    "# Load data sets\n",
    "Pokedex = pd.read_csv(\"data/pokemon_data.tsv\", delimiter = '\\t')\n",
    "continuous_Pokedex = Pokedex[[\"Base_Total\", \"HP\", \"Defense\", \"Attack\", \"Speed\", \"Sp_Attack\", \"Sp_Defense\"]]\n",
    "categorical_Pokedex = Pokedex[[\"Pokedex_ID\", \"Name\", \"Type_1\", \"Type_2\", \"Generation\"]]\n",
    "\n",
    "# Format all floating points to two decimal places\n",
    "pd.set_option('display.float_format', '{:.2f}'.format)\n",
    "# pd.reset_option('display.float_format')"
   ]
  },
  {
   "attachments": {},
   "cell_type": "markdown",
   "id": "30868c23-a8f5-46e9-8fa8-562e5c6195cf",
   "metadata": {},
   "source": [
    "# **1. Data Quality Reports**\n",
    "\n",
    "### *Continuous Data*"
   ]
  },
  {
   "cell_type": "code",
   "execution_count": null,
   "id": "dda4253c-2be2-4b1f-9d03-fc30b200d6a7",
   "metadata": {},
   "outputs": [],
   "source": [
    "selected_Features = continuous_Pokedex.columns.tolist()\n",
    "\n",
    "con_Data_Quality = pd.DataFrame({\n",
    "  'Feature': selected_Features,\n",
    "  'Count':[continuous_Pokedex[x].count() for x in selected_Features],\n",
    "  '% Miss.':[continuous_Pokedex[x].isna().sum() / len(continuous_Pokedex[x]) * 100 for x in selected_Features],\n",
    "  'Card.':[continuous_Pokedex[x].nunique() for x in selected_Features],\n",
    "  'Min.':[continuous_Pokedex[x].min() for x in selected_Features],\n",
    "  '1st Qrt.':[continuous_Pokedex[x].quantile(.25) for x in selected_Features],\n",
    "  'Mean':[continuous_Pokedex[x].mean() for x in selected_Features],\n",
    "  'Median':[continuous_Pokedex[x].median() for x in selected_Features],\n",
    "  '3rd Qrt.':[continuous_Pokedex[x].quantile(.75) for x in selected_Features],\n",
    "  'Max.' :[continuous_Pokedex[x].max() for x in selected_Features],\n",
    "  'Std. Dev.':[continuous_Pokedex[x].std() for x in selected_Features]\n",
    "})\n",
    "\n",
    "con_Data_Quality"
   ]
  },
  {
   "cell_type": "markdown",
   "id": "ae5cf52d-3ade-4c92-b197-ab262d5d5cb6",
   "metadata": {},
   "source": [
    "### *Categorical Data*"
   ]
  },
  {
   "cell_type": "code",
   "execution_count": null,
   "id": "e35b6163-5b8e-4893-993d-caaf5269e655",
   "metadata": {},
   "outputs": [],
   "source": [
    "selected_Features = categorical_Pokedex.columns.tolist()\n",
    "\n",
    "cat_Data_Quality = pd.DataFrame({\n",
    "    'Feature': selected_Features,\n",
    "    'Count': [categorical_Pokedex[x].count() for x in selected_Features],\n",
    "    '% Miss.': [categorical_Pokedex[x].isna().sum() / len(categorical_Pokedex[x]) * 100 for x in selected_Features],\n",
    "    'Card.': [categorical_Pokedex[x].nunique() for x in selected_Features],\n",
    "    'Mode': [categorical_Pokedex[x].mode().iloc[0] if not categorical_Pokedex[x].empty else None for x in selected_Features],\n",
    "    'Mode Freq.': [categorical_Pokedex[x].value_counts().iloc[0] if not categorical_Pokedex[x].empty else None for x in selected_Features],\n",
    "    'Mode %': [(categorical_Pokedex[x].value_counts().iloc[0] / len(categorical_Pokedex[x])) * 100 if not categorical_Pokedex[x].empty else None for x in selected_Features],\n",
    "    '2nd Mode': [categorical_Pokedex[x].value_counts().index[1] if len(categorical_Pokedex[x].mode()) > 0 else None for x in selected_Features],\n",
    "    '2nd Mode Freq.': [categorical_Pokedex[x].value_counts().iloc[1] if len(categorical_Pokedex[x].mode()) > 0 and not categorical_Pokedex[x].empty else None for x in selected_Features],\n",
    "    '2nd Mode %': [(categorical_Pokedex[x].value_counts().iloc[1] / len(categorical_Pokedex[x])) * 100 if len(categorical_Pokedex[x].mode()) > 0 and not categorical_Pokedex[x].empty else None for x in selected_Features]\n",
    "    })\n",
    "\n",
    "cat_Data_Quality"
   ]
  },
  {
   "cell_type": "markdown",
   "id": "71bd8077-e1e7-45cb-9f1d-5013e5068d01",
   "metadata": {},
   "source": [
    "# **2. Histograms of Continuous features**\n",
    "### *Note: The number of bins used for each histogram were determind by taking the ceiling of the square root of that series' max.*\n",
    "\n",
    "## *Feature: Base_Total*"
   ]
  },
  {
   "cell_type": "code",
   "execution_count": null,
   "id": "25e71e8b-a1b5-490f-bccb-d558199f5e08",
   "metadata": {},
   "outputs": [],
   "source": [
    "plot.hist(continuous_Pokedex[\"Base_Total\"], \n",
    "          bins = math.ceil(math.sqrt(continuous_Pokedex[\"Base_Total\"].max())),\n",
    "          color = 'black',\n",
    "          edgecolor = 'white')\n",
    "\n",
    "plot.xlabel('Base Total')\n",
    "plot.ylabel('Frequency')\n",
    "plot.title('Distribution of Base Totals')\n",
    "plot.show()"
   ]
  },
  {
   "cell_type": "markdown",
   "id": "3e5fb278-8a3c-490d-9eb2-dc4846ef2bcc",
   "metadata": {},
   "source": [
    "### *The **Base Total** of the population is fairly multimodal, with a few outliers near the 800 range.*"
   ]
  },
  {
   "cell_type": "markdown",
   "id": "363223e7-de78-4f6e-a4f6-39147152a019",
   "metadata": {},
   "source": [
    "## *Feature: HP*"
   ]
  },
  {
   "cell_type": "code",
   "execution_count": null,
   "id": "f17ba28a-23bc-461f-a8cf-09a6852e40b2",
   "metadata": {},
   "outputs": [],
   "source": [
    "plot.hist(continuous_Pokedex[\"HP\"], \n",
    "          bins = math.ceil(math.sqrt(continuous_Pokedex[\"HP\"].max())),\n",
    "          color = 'black',\n",
    "          edgecolor = 'white')\n",
    "\n",
    "plot.xlabel('HP')\n",
    "plot.ylabel('Frequency')\n",
    "plot.title('Distribution of Health Points (HP)')\n",
    "plot.show()"
   ]
  },
  {
   "cell_type": "markdown",
   "id": "0c91c987-060c-475d-bada-00d507939081",
   "metadata": {},
   "source": [
    "### *The **HP** of the population is unimodal with a positive skew.  It's arguably exponential as well with how aggressive the decline slopes off.  The mean of this sample population is less than the median.*"
   ]
  },
  {
   "cell_type": "markdown",
   "id": "1edd37ad-6e47-41aa-a7b9-b7bedcfc9c7d",
   "metadata": {},
   "source": [
    "## *Feature: Defense*"
   ]
  },
  {
   "cell_type": "code",
   "execution_count": null,
   "id": "c2c125b0-6b42-4dc4-b057-8b072ccca733",
   "metadata": {},
   "outputs": [],
   "source": [
    "plot.hist(continuous_Pokedex[\"Defense\"], \n",
    "          bins = math.ceil(math.sqrt(continuous_Pokedex[\"Defense\"].max())),\n",
    "          color = 'black',\n",
    "          edgecolor = 'white')\n",
    "\n",
    "plot.xlabel('Defense')\n",
    "plot.ylabel('Frequency')\n",
    "plot.title('Distribution of Defense')\n",
    "plot.show()"
   ]
  },
  {
   "cell_type": "markdown",
   "id": "87694db9-239a-4a41-af75-26c5e7fc735a",
   "metadata": {},
   "source": [
    "### *The **Defense** of the population is positively skewed, with the mean falling below the median.  This sample also shares similarities with an exponential distribution, although not as drastic as the previous sample.*"
   ]
  },
  {
   "cell_type": "markdown",
   "id": "b0011628-e7af-455c-935b-45e959991da9",
   "metadata": {},
   "source": [
    "## *Feature: Attack*"
   ]
  },
  {
   "cell_type": "code",
   "execution_count": null,
   "id": "60f496ee-b04f-4b79-ab5e-26ba6c6544d8",
   "metadata": {},
   "outputs": [],
   "source": [
    "plot.hist(continuous_Pokedex[\"Attack\"], \n",
    "          bins = math.ceil(math.sqrt(continuous_Pokedex[\"Attack\"].max())),\n",
    "          color = 'black',\n",
    "          edgecolor = 'white')\n",
    "\n",
    "plot.xlabel('Attack')\n",
    "plot.ylabel('Frequency')\n",
    "plot.title('Distribution of Attack')\n",
    "plot.show()"
   ]
  },
  {
   "cell_type": "markdown",
   "id": "17f53f57-1597-49db-9c13-d14041bc7e2d",
   "metadata": {},
   "source": [
    "### *The **Attack** subset is the closest we've come to a normal distribution, although I'd still regard this set as negatively skewed.*"
   ]
  },
  {
   "cell_type": "markdown",
   "id": "71a74df0-b757-4e5a-9672-d1c721848ecb",
   "metadata": {},
   "source": [
    "## *Feature: Speed*"
   ]
  },
  {
   "cell_type": "code",
   "execution_count": null,
   "id": "e3126de2-0211-4b68-b4bc-8a4fabd20533",
   "metadata": {},
   "outputs": [],
   "source": [
    "plot.hist(continuous_Pokedex[\"Speed\"], \n",
    "          bins = math.ceil(math.sqrt(continuous_Pokedex[\"Speed\"].max())),\n",
    "          color = 'black',\n",
    "          edgecolor = 'white')\n",
    "\n",
    "plot.xlabel('Speed')\n",
    "plot.ylabel('Frequency')\n",
    "plot.title('Distribution of Speed')\n",
    "plot.show()"
   ]
  },
  {
   "cell_type": "markdown",
   "id": "1bb52509-9819-4a7d-a90d-c76db61c7661",
   "metadata": {},
   "source": [
    "### *The **Speed** statistic is also nearing a normal distribution, and mostly unimodal.  I wouldn't confidently describe this set as skewed in either direction, but somewhere inbetween skewed right and normal.*"
   ]
  },
  {
   "cell_type": "markdown",
   "id": "ab603493-398e-4441-96df-e007b722b1b9",
   "metadata": {},
   "source": [
    "## *Feature: Sp_Attack*"
   ]
  },
  {
   "cell_type": "code",
   "execution_count": null,
   "id": "b538b67c-77d8-4af4-9fc1-077add2e7079",
   "metadata": {},
   "outputs": [],
   "source": [
    "plot.hist(continuous_Pokedex[\"Sp_Attack\"], \n",
    "          bins = math.ceil(math.sqrt(continuous_Pokedex[\"Sp_Attack\"].max())),\n",
    "          color = 'black',\n",
    "          edgecolor = 'white')\n",
    "\n",
    "plot.xlabel('Sp_Attack')\n",
    "plot.ylabel('Frequency')\n",
    "plot.title('Distribution of Special Attack')\n",
    "plot.show()"
   ]
  },
  {
   "cell_type": "markdown",
   "id": "26b68252-d3ab-4810-af58-77497e25e7e3",
   "metadata": {},
   "source": [
    "### *With the **Sp_Attack** statistic, we've returned to the skewed unimodal sets.  Once again, the central tendency of this set is below the median.*"
   ]
  },
  {
   "cell_type": "markdown",
   "id": "2256edb4-58a4-4acf-9fef-fcfd5ba1a378",
   "metadata": {},
   "source": [
    "## *Feature: Sp_Defense*"
   ]
  },
  {
   "cell_type": "code",
   "execution_count": null,
   "id": "e2c0bd51-f7df-48d0-beb6-8d7d06430f90",
   "metadata": {},
   "outputs": [],
   "source": [
    "plot.hist(continuous_Pokedex[\"Sp_Defense\"], \n",
    "          bins = math.ceil(math.sqrt(continuous_Pokedex[\"Sp_Defense\"].max())),\n",
    "          color = 'black',\n",
    "          edgecolor = 'white')\n",
    "\n",
    "plot.xlabel('Sp_Defense')\n",
    "plot.ylabel('Frequency')\n",
    "plot.title('Distribution of Special Defense')\n",
    "plot.show()"
   ]
  },
  {
   "cell_type": "markdown",
   "id": "eed9a0be-4a3c-4a81-96d3-a0903c86976f",
   "metadata": {},
   "source": [
    "### *The **Sp_Defense** has a more pronounced skew to the right, and knocking on the door of another exponential model.*"
   ]
  },
  {
   "cell_type": "markdown",
   "id": "4e5eb7fc-2248-4277-98da-cb0dabc43a0e",
   "metadata": {},
   "source": [
    "# **3. Identification of Data Quality Issues**"
   ]
  },
  {
   "cell_type": "code",
   "execution_count": null,
   "id": "8985a5b1-2350-4d73-8568-5cd183e70f19",
   "metadata": {},
   "outputs": [],
   "source": [
    "Data_Quality_Issues = pd.DataFrame({\n",
    "  'Feature': [\"Name\", \"Pokedex_ID\", \"Type_2\"], \n",
    "  'Quality Issue':[\"Uninformative\", \"Uninformative\", \"Missing Values (48%)\"],\n",
    "  'Handing Strategy':[\"Remove\", \"Remove\", \"Imputation\"],\n",
    "})\n",
    "\n",
    "Data_Quality_Issues"
   ]
  },
  {
   "cell_type": "markdown",
   "id": "0274d503-7bc7-4223-8e80-3fe0d1ee5300",
   "metadata": {},
   "source": [
    "### *The **Name** and **ID**, depending on the scope of the analysis, aren't very informative.  Every instance of these features are unique, and serve only as identifiers to each Pokemon.  If I'm looking at an overall patterns in the set, I don't need necessarily need each Pokemon's ID.  By removing these categories, there's potentially an overall noise reduction in the dataset.*\n",
    "\n",
    "### *To correct the missing values in **Type_2**, I would duplicate the feature values from the **Type_1** column of the same index.*"
   ]
  },
  {
   "cell_type": "code",
   "execution_count": null,
   "id": "d177f60a-b338-4926-be00-4fb3b25aa0f4",
   "metadata": {},
   "outputs": [],
   "source": [
    "# Updating the quality solutions\n",
    "revised_categorical_Pokedex = categorical_Pokedex[['Type_1', 'Type_2', 'Generation']]\n",
    "revised_categorical_Pokedex['Type_2'].fillna(revised_categorical_Pokedex['Type_1'], inplace = True)\n",
    "revised_categorical_Pokedex['Generation'] = revised_categorical_Pokedex['Generation'].astype(str)"
   ]
  },
  {
   "cell_type": "markdown",
   "id": "0e01e76c-85cf-4af5-a1d3-0d60d675a5bc",
   "metadata": {},
   "source": [
    "# **4. Scatterplot Matrix**"
   ]
  },
  {
   "cell_type": "code",
   "execution_count": null,
   "id": "fa35e424-2793-421c-8d3c-91f9ae380941",
   "metadata": {},
   "outputs": [],
   "source": [
    "sea.pairplot(continuous_Pokedex, diag_kind ='kde')"
   ]
  },
  {
   "cell_type": "markdown",
   "id": "e8e150b0-c31c-48d2-9bc1-17b8e7a25799",
   "metadata": {},
   "source": [
    "### *There appears to be a significantly common semi-linear grouping pattern throughout virtually every single metric.*"
   ]
  },
  {
   "cell_type": "markdown",
   "id": "0b8ef200-7318-4558-a984-48ab7da96f75",
   "metadata": {},
   "source": [
    "# **5. Visualizing Pairs of Categorical Features**"
   ]
  },
  {
   "cell_type": "code",
   "execution_count": null,
   "id": "771602b5-39a0-40ea-9ec5-85d2ab7349c4",
   "metadata": {},
   "outputs": [],
   "source": [
    "# revised_categorical_Pokedex = categorical_Pokedex[['Type_1', 'Type_2', 'Generation']]\n",
    "\n",
    "# Build barplot\n",
    "cross_tab = pd.crosstab(revised_categorical_Pokedex['Type_1'], revised_categorical_Pokedex['Generation'])\n",
    "fig, ax = plot.subplots(figsize = (12, 4))\n",
    "cross_tab.plot(kind = 'bar', stacked = False, ax = ax)\n",
    "plot.xlabel('Types')\n",
    "plot.ylabel('Frequency')\n",
    "plot.title('Bar Plot of Type_1 and Generation')\n",
    "\n",
    "# Show plot\n",
    "plot.show()"
   ]
  },
  {
   "cell_type": "code",
   "execution_count": null,
   "id": "f028f8ce-9905-4275-90b7-98d99423464c",
   "metadata": {},
   "outputs": [],
   "source": [
    "# revised_categorical_Pokedex = categorical_Pokedex[['Type_1', 'Type_2', 'Generation']]\n",
    "\n",
    "# Build barplot\n",
    "cross_tab = pd.crosstab(revised_categorical_Pokedex['Type_2'], revised_categorical_Pokedex['Generation'])\n",
    "fig, ax = plot.subplots(figsize = (12, 4))\n",
    "cross_tab.plot(kind = 'bar', stacked = False, ax = ax)\n",
    "plot.xlabel('Types')\n",
    "plot.ylabel('Frequency')\n",
    "plot.title('Bar Plot of Type_2 with Generation')\n",
    "\n",
    "# Show plot\n",
    "plot.show()"
   ]
  },
  {
   "cell_type": "code",
   "execution_count": null,
   "id": "d82d8b74-18d0-4c7e-b9ca-6bf4dbfff34d",
   "metadata": {},
   "outputs": [],
   "source": [
    "# revised_categorical_Pokedex = categorical_Pokedex[['Type_1', 'Type_2', 'Generation']]\n",
    "\n",
    "# Build barplot\n",
    "cross_tab = pd.crosstab(revised_categorical_Pokedex['Type_1'], revised_categorical_Pokedex['Type_2'])\n",
    "fig, ax = plot.subplots(figsize = (12, 4))\n",
    "cross_tab.plot(kind = 'bar', stacked = False, ax = ax)\n",
    "plot.xlabel('Types')\n",
    "plot.ylabel('Frequency')\n",
    "plot.title('Bar Plot of Type_1 with Type_2')\n",
    "ax.legend(loc='upper right', ncol = 9)\n",
    "\n",
    "# Show plot\n",
    "plot.show()"
   ]
  },
  {
   "cell_type": "markdown",
   "id": "541674e6-2348-4b86-a646-f9dc847a61e1",
   "metadata": {},
   "source": [
    "# **6. Visualizing Relationship Between a Categorical and Continuous Feature**"
   ]
  },
  {
   "cell_type": "code",
   "execution_count": null,
   "id": "24430674-32d7-4bb2-bb5c-91e5b4e359c5",
   "metadata": {},
   "outputs": [],
   "source": [
    "# Data prep\n",
    "subset_cat_con_stacked = Pokedex[['Generation', 'Base_Total']]\n",
    "x = subset_cat_con_stacked.index\n",
    "\n",
    "# Build/customize bar plot\n",
    "fig, ax = plot.subplots(figsize=(12, 5))\n",
    "ax.bar(x, subset_cat_con_stacked[\"Generation\"], label = 'Generation')\n",
    "ax.bar(x, subset_cat_con_stacked[\"Base_Total\"], bottom = subset_cat_con_stacked[\"Generation\"], label = 'Base_Total')\n",
    "ax.set_xlabel('Generation / Base Total')\n",
    "ax.set_ylabel('Value')\n",
    "ax.set_title('Generation and Base Total Stacked Bar Plot')\n",
    "ax.legend()\n",
    "\n",
    "# Stacked bar plot\n",
    "plot.show()"
   ]
  },
  {
   "cell_type": "markdown",
   "id": "4e751850-f7a8-4f83-bc44-ad8ba666fd99",
   "metadata": {
    "jp-MarkdownHeadingCollapsed": true
   },
   "source": [
    "## *'Generation' and 'Base Total' Stacked Barplot Analysis*\n",
    "\n",
    "### *I wanted to the relationship between later generations and base power, to see if over the years the base stats have increased, or even decreased.  To my surprise, some of the highest stat based Pokemon were created in the mid-early to mid generations.*"
   ]
  },
  {
   "cell_type": "markdown",
   "id": "a5968a83-c6e0-42ab-b8f9-a22636aca30d",
   "metadata": {},
   "source": [
    "# **7. Boxplot Visualizations**"
   ]
  },
  {
   "cell_type": "code",
   "execution_count": null,
   "id": "dc98c583-5905-4113-9bbc-9f41910f85c0",
   "metadata": {},
   "outputs": [],
   "source": [
    "# Data prep\n",
    "subset_cat_con_boxplot = Pokedex[['Generation', 'Base_Total']]\n",
    "\n",
    "# Build/customize boxplot\n",
    "plot.figure(figsize = (14.5, 5))\n",
    "plot.yticks([1, 2], ['Generation', 'Base Total'])\n",
    "plot.boxplot(subset_cat_con_boxplot, vert = False)\n",
    "plot.title('Generation vs Base Total Box plots')\n",
    "\n",
    "# Show the plot\n",
    "plot.show()"
   ]
  },
  {
   "cell_type": "markdown",
   "id": "2c50d06b-5a07-4319-b1a8-21a56849f671",
   "metadata": {},
   "source": [
    "## *'Generation' and 'Base Total' Boxplot Analysis*\n",
    "\n",
    "### *Due to the nature of how these features are catalogued, they aren't ideal factors to compare.  Without reformatting the data into other forms -- such as binning the base totals -- its difficult for me to infer anything useful.*"
   ]
  },
  {
   "cell_type": "markdown",
   "id": "98095ecd-7706-45ab-9918-75c4aff49458",
   "metadata": {},
   "source": [
    "# **8. Covariance Matrix**"
   ]
  },
  {
   "cell_type": "code",
   "execution_count": null,
   "id": "eac1a6a9-69e7-45fe-a742-503800344e07",
   "metadata": {
    "jupyter": {
     "source_hidden": true
    }
   },
   "outputs": [],
   "source": [
    "# continuous_Pokedex = Pokedex[[\"Base_Total\", \"HP\", \"Defense\", \"Attack\", \"Speed\", \"Sp_Attack\", \"Sp_Defense\"]]\n",
    "con_cov_matrix = pd.DataFrame.cov(continuous_Pokedex)\n",
    "print(con_cov_matrix)"
   ]
  },
  {
   "cell_type": "markdown",
   "id": "59317994-1cc7-49ce-b462-26991465b8a8",
   "metadata": {},
   "source": [
    "### *Similar to the inferences from the scatterplot matrix, there aren't any negative covariances, meaning these features tend to increase and decrease together.  These results support the earlier notion that there is a positive relationship with almost all of these pairs.*"
   ]
  },
  {
   "cell_type": "markdown",
   "id": "cfb12707-a3fb-4349-937a-7b463218641f",
   "metadata": {},
   "source": [
    "# **9.Correlation Matrix**"
   ]
  },
  {
   "cell_type": "code",
   "execution_count": null,
   "id": "cd1ccdca-2683-467c-9fd3-da20b191a2a1",
   "metadata": {
    "jupyter": {
     "source_hidden": true
    }
   },
   "outputs": [],
   "source": [
    "# continuous_Pokedex = Pokedex[[\"Base_Total\", \"HP\", \"Defense\", \"Attack\", \"Speed\", \"Sp_Attack\", \"Sp_Defense\"]]\n",
    "con_corr_matrix = pd.DataFrame.corr(continuous_Pokedex)\n",
    "print(con_corr_matrix)"
   ]
  },
  {
   "cell_type": "markdown",
   "id": "ddc23675-bc9b-4e71-a600-57fabb77649b",
   "metadata": {},
   "source": [
    "### *The highest correlations are the pairs with the **Base_Total**.  Which tracks, because the higher the base stat pool of any Pokemon would yield higher values.  There also seems a be a correlation between special and normal attack and defense.  There is a correlation .47 between **Defense** and **Attack**, and there's a .51 correlation between **Sp_Defense** and **Sp_Attack**.  This could suggest that each Pokemon has a natural affinity towards normal (physical) means of defense and offense, or they have a special (magical) affinity in combat.*"
   ]
  },
  {
   "cell_type": "markdown",
   "id": "32630d6c-4f03-4d03-a9bc-e6e08189b046",
   "metadata": {},
   "source": [
    "# **10. Range Normalization**"
   ]
  },
  {
   "cell_type": "code",
   "execution_count": null,
   "id": "2c17cae0-8702-4691-baee-e84760168688",
   "metadata": {
    "jupyter": {
     "source_hidden": true
    }
   },
   "outputs": [],
   "source": [
    "# continuous_Pokedex = Pokedex[['Base_Total', 'HP', 'Defense', 'Attack', 'Speed', 'Sp_Attack', 'Sp_Defense']]\n",
    "norm_before_continuous_Pokedex = continuous_Pokedex[['HP', 'Defense', 'Attack', 'Speed', 'Sp_Attack', 'Sp_Defense']]\n",
    "\n",
    "def normalize(continuous_Pokedex_vector):\n",
    "    norm_range = [0, 1]\n",
    "    vector_min, vector_max = continuous_Pokedex_vector.min(), continuous_Pokedex_vector.max()\n",
    "    return [((x - vector_min) / (vector_max - vector_min)) * (norm_range[1] - norm_range[0]) + norm_range[0] for x in continuous_Pokedex_vector]\n",
    "\n",
    "\n",
    "norm_after_continuous_Pokedex = norm_before_continuous_Pokedex.apply(normalize)"
   ]
  },
  {
   "cell_type": "markdown",
   "id": "1e9ed07b-4c26-4a1a-ae9d-ca0bfecdb6ae",
   "metadata": {},
   "source": [
    "### **Before Range Normalization**\n",
    "*Note: only the 'head' of the DataFrames are shown due to the size (1602) of the combined poplulations.  If you wish to see the full samples, you can delete the '#' below commenting out the full dataframe displays.*"
   ]
  },
  {
   "cell_type": "code",
   "execution_count": null,
   "id": "ef82329d-3c28-4e9f-b481-836c4212d01a",
   "metadata": {
    "jupyter": {
     "source_hidden": true
    }
   },
   "outputs": [],
   "source": [
    "norm_before_continuous_Pokedex.head(10)\n",
    "# norm_before_continuous_Pokedex"
   ]
  },
  {
   "cell_type": "markdown",
   "id": "75fb551a-9049-4213-b4a0-dfefe4feef58",
   "metadata": {},
   "source": [
    "### **After Range Normalization**"
   ]
  },
  {
   "cell_type": "code",
   "execution_count": null,
   "id": "decea157-2768-40a5-b84b-8f08737bde41",
   "metadata": {
    "jupyter": {
     "source_hidden": true
    }
   },
   "outputs": [],
   "source": [
    "norm_after_continuous_Pokedex.head(10)\n",
    "# normal_continuous_Pokedex"
   ]
  },
  {
   "cell_type": "markdown",
   "id": "c383cb8d-a2af-4668-92dd-815d11b2c802",
   "metadata": {},
   "source": [
    "### *I chose HP, Defense, Attack, Speed, Sp_Attack, and Sp_Defense.  All of these values are indicators of a strength in a specific trait.  If I normalize the values of each vector, then I can compare them effectively against stats from other vectors related to combat, instead of scaling their magnitude against values of the same subset.*"
   ]
  },
  {
   "cell_type": "markdown",
   "id": "3441fccc-712d-4cb8-9849-f4b99345bcdd",
   "metadata": {},
   "source": [
    "# **11. Binning**"
   ]
  },
  {
   "cell_type": "markdown",
   "id": "525fcf25-8438-4845-9414-378e1d08f361",
   "metadata": {},
   "source": [
    "### *Equal Width Binning of 'Base_Total'*"
   ]
  },
  {
   "cell_type": "code",
   "execution_count": null,
   "id": "5c61bcbd-b34e-4025-a005-dfececdd2385",
   "metadata": {},
   "outputs": [],
   "source": [
    "# continuous_Pokedex = Pokedex[[\"Base_Total\", \"HP\", \"Defense\", \"Attack\", \"Speed\", \"Sp_Attack\", \"Sp_Defense\"]]\n",
    "equal_bin_pokedex = continuous_Pokedex[['Base_Total']]\n",
    "\n",
    "# number of bins and bin width\n",
    "num_bins = 10\n",
    "\n",
    "# equal width binning\n",
    "equal_bin_pokedex['Equal Width Bin'] = pd.cut(equal_bin_pokedex['Base_Total'], bins = num_bins, precision = 2)\n",
    "\n",
    "equal_bin_pokedex"
   ]
  },
  {
   "cell_type": "markdown",
   "id": "9949a545-ceac-45cc-a413-d6be1d97444f",
   "metadata": {},
   "source": [
    "### *Equal Frequency Binning of 'Attack'*"
   ]
  },
  {
   "cell_type": "code",
   "execution_count": null,
   "id": "040d610a-ccaf-46e2-9674-d3682f5a7127",
   "metadata": {},
   "outputs": [],
   "source": [
    "freq_bin_pokedex = continuous_Pokedex[['Attack']]\n",
    "freq_bin_pokedex['Normalised'] = norm_after_continuous_Pokedex[['Attack']]\n",
    "\n",
    "# qcut to perform frequency binning\n",
    "freq_bin_pokedex['Equal Freq. Bin'] = pd.qcut(freq_bin_pokedex['Attack'], q = num_bins, labels = False)\n",
    "\n",
    "freq_bin_pokedex"
   ]
  },
  {
   "cell_type": "markdown",
   "id": "3d760342-1992-484b-8ca7-fc3bad98a34f",
   "metadata": {},
   "source": [
    "# **12. Undersampling**"
   ]
  },
  {
   "cell_type": "code",
   "execution_count": 7,
   "id": "d7afc499-3b15-4bf8-a64a-d3be462db7fd",
   "metadata": {
    "collapsed": true,
    "jupyter": {
     "outputs_hidden": true,
     "source_hidden": true
    }
   },
   "outputs": [
    {
     "name": "stdout",
     "output_type": "stream",
     "text": [
      "0     114\n",
      "1     105\n",
      "2      78\n",
      "3      72\n",
      "4      53\n",
      "5      52\n",
      "6      45\n",
      "7      39\n",
      "8      32\n",
      "9      32\n",
      "10     29\n",
      "11     28\n",
      "12     27\n",
      "13     27\n",
      "14     24\n",
      "15     23\n",
      "16     18\n",
      "17      3\n",
      "Name: Frequency, dtype: int64\n"
     ]
    }
   ],
   "source": [
    "type_1_values = categorical_Pokedex['Type_1'].value_counts()\n",
    "\n",
    "type_1_freq = pd.DataFrame({\n",
    "    'Type': type_1_values.index, \n",
    "    'Frequency': type_1_values.values\n",
    "})\n",
    "\n",
    "print(type_1_freq['Frequency'])\n",
    "\n",
    "# type_1_freq"
   ]
  },
  {
   "cell_type": "code",
   "execution_count": 4,
   "id": "1e37de7e-d40e-45ff-9d70-e367cadb7004",
   "metadata": {
    "collapsed": true,
    "jupyter": {
     "outputs_hidden": true
    }
   },
   "outputs": [
    {
     "name": "stdout",
     "output_type": "stream",
     "text": [
      "0        water\n",
      "1       normal\n",
      "2        grass\n",
      "3          bug\n",
      "4      psychic\n",
      "5         fire\n",
      "6         rock\n",
      "7     electric\n",
      "8       poison\n",
      "9       ground\n",
      "10        dark\n",
      "11    fighting\n",
      "12       ghost\n",
      "13      dragon\n",
      "14       steel\n",
      "15         ice\n",
      "16       fairy\n",
      "17      flying\n",
      "Name: Type, dtype: object\n"
     ]
    }
   ],
   "source": [
    "print(type_1_freq['Type'])"
   ]
  },
  {
   "cell_type": "markdown",
   "id": "918e4b92-dc32-4a00-a488-df4b0ca34cc9",
   "metadata": {
    "jupyter": {
     "source_hidden": true
    }
   },
   "source": [
    "### *The dataframe above shows the frequency of each variable from **Type_1**.  If we look at the feature type **water**, it appears in the set 114 times.  With a total population size of 801, this means that 14% of all resulting data is going to be from the **water** type.  Depending on the scope of the query, one variable impacting 14% of the results may distort the information, and give a disproportionate view of the population.  This may create a need to undersample the **water** type in an attempt to create an equal distribution of statistics, so that one value doesn't outweigh or distort the set.*"
   ]
  },
  {
   "cell_type": "markdown",
   "id": "4af755f5-5e80-44e6-8fbd-e8f4fb48686f",
   "metadata": {},
   "source": [
    "# **13. Oversampling**"
   ]
  },
  {
   "cell_type": "code",
   "execution_count": 39,
   "id": "57016bd6-2250-47be-8bc2-29c84ab8f1eb",
   "metadata": {},
   "outputs": [
    {
     "name": "stdout",
     "output_type": "stream",
     "text": [
      "114\n"
     ]
    }
   ],
   "source": [
    "type_1_values = categorical_Pokedex['Type_1'].value_counts()\n",
    "\n",
    "type_1_freq = pd.DataFrame({\n",
    "    'Type': type_1_values.index, \n",
    "    'Frequency': type_1_values.values\n",
    "})\n",
    "\n",
    "print(type_1_values.values[0])"
   ]
  },
  {
   "cell_type": "code",
   "execution_count": 57,
   "id": "b6ff7700-5f94-43dd-be29-1c9b23b5898b",
   "metadata": {},
   "outputs": [
    {
     "data": {
      "text/plain": [
       "3.880547553784042"
      ]
     },
     "execution_count": 57,
     "metadata": {},
     "output_type": "execute_result"
    }
   ],
   "source": [
    "type_1_values = categorical_Pokedex['Type_1'].value_counts()\n",
    "\n",
    "\n",
    "type_1_freq = pd.DataFrame({\n",
    "    'Type': type_1_values.index, \n",
    "    'Frequency': type_1_values.values\n",
    "})\n",
    "\n",
    "def log2(x):\n",
    "    return math.log(x, 2)\n",
    "    \n",
    "def p(x, n):\n",
    "    return x / n\n",
    "    \n",
    "def entropy(_D):\n",
    "    levels_D = _D.value_counts()\n",
    "    return -1 * sum([p(x, _D.size) * log2(p(x, _D.size)) for x in levels_D.values])\n",
    "\n",
    "entropy(categorical_Pokedex['Type_1'])"
   ]
  },
  {
   "cell_type": "markdown",
   "id": "a16c9f5b-c66a-490f-95f9-c1fa6dd8bc3c",
   "metadata": {},
   "source": [
    "### *Referencing the same dataset from **12.** **Undersampling**, if we were to examine the last type in the set **flying**, it has a frequency rate of 3.  That's a rate of .004%.  For all intents and purposes, the chance of the **flying** type occuring in a sample set is near impossible.  Depending on the scope of the query, this could potentially be a case where oversampling would be necessary to create an equally proportionate distribution.*"
   ]
  }
 ],
 "metadata": {
  "kernelspec": {
   "display_name": "Python 3",
   "language": "python",
   "name": "python3"
  },
  "language_info": {
   "codemirror_mode": {
    "name": "ipython",
    "version": 3
   },
   "file_extension": ".py",
   "mimetype": "text/x-python",
   "name": "python",
   "nbconvert_exporter": "python",
   "pygments_lexer": "ipython3",
   "version": "3.10.12"
  }
 },
 "nbformat": 4,
 "nbformat_minor": 5
}
