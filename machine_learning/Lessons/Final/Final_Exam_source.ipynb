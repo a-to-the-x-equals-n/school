{
 "cells": [
  {
   "cell_type": "markdown",
   "id": "26c4998d-fc5c-4b57-bb0f-0c0aad91e4b6",
   "metadata": {},
   "source": [
    "# Final Exam\n",
    "*author: Logan Reine*"
   ]
  },
  {
   "cell_type": "markdown",
   "id": "4959d00b-a96d-4f0d-be39-c7a989e48bab",
   "metadata": {},
   "source": [
    "## Introduction"
   ]
  },
  {
   "cell_type": "markdown",
   "id": "c1483918-830e-4d2d-8687-fd8b4621a67e",
   "metadata": {},
   "source": [
    "### `MLequations_v3.ipynb` is a machine learning library of my own making.  All functions and equations used to calculate virtually all answers are defined in the MLequations file.  It will be submitted with this assignment as a `.ipynb` file and a pdf file."
   ]
  },
  {
   "cell_type": "markdown",
   "id": "dee4a3b4-cdd1-4c08-98a7-0c0eee356632",
   "metadata": {},
   "source": [
    "## Headings"
   ]
  },
  {
   "cell_type": "code",
   "execution_count": 57,
   "id": "242c11e7-4a1b-48bd-8f8b-475129f50e04",
   "metadata": {},
   "outputs": [],
   "source": [
    "%run MLequations_v3.ipynb\n",
    "import warnings\n",
    "warnings.simplefilter(action = 'ignore', category = FutureWarning)\n",
    "warnings.simplefilter(action = 'ignore', category = pd.errors.SettingWithCopyWarning)"
   ]
  },
  {
   "cell_type": "markdown",
   "id": "6aab4f34-724d-4392-b4ea-24949f194d73",
   "metadata": {},
   "source": [
    "## Data"
   ]
  },
  {
   "cell_type": "code",
   "execution_count": 21,
   "id": "a9cc78cd-4bfa-48c7-8fae-59377b2488fd",
   "metadata": {},
   "outputs": [],
   "source": [
    "education = pd.read_csv(\"education.csv\")\n",
    "entertainment = pd.read_csv(\"entertainment.csv\")\n",
    "cancer = pd.read_csv(\"cancer.csv\")\n",
    "mailshot = pd.read_csv(\"mailshot.csv\")\n",
    "clustering = pd.read_csv(\"clustering.csv\")"
   ]
  },
  {
   "cell_type": "markdown",
   "id": "ca6ecf57-4c39-438f-83d5-c9a09395b11b",
   "metadata": {},
   "source": [
    "# 1  Classification vs. Regression"
   ]
  },
  {
   "cell_type": "markdown",
   "id": "5f62de30-77a7-4200-8a25-97b657233a7c",
   "metadata": {},
   "source": [
    "### [3 points] A pollster is collecting data to predict the 2024 United States Presidential election winner. Is this a classification or regression problem? Explain. Also, what are suitable predictive features/attributes for this machine learning problem?"
   ]
  },
  {
   "cell_type": "markdown",
   "id": "a4ef6031-76ca-4f3f-aa8a-a117fe821514",
   "metadata": {},
   "source": [
    "**I think this would be a regression problem, assuming the data the pollster is collecting is based on political party affiliation.  That metric could be used for predictive features; tallying up the communities political party affiliation would be indicative of the outcome of how that district may vote.**"
   ]
  },
  {
   "cell_type": "markdown",
   "id": "a3f12d08-4e3f-4408-b5e3-cb0db222477f",
   "metadata": {},
   "source": [
    "# 2 ML Application Pipeline"
   ]
  },
  {
   "cell_type": "markdown",
   "id": "04675855-4498-42be-b3fd-078babab8ae5",
   "metadata": {},
   "source": [
    "### [3 points] 80% of the work done on predictive data analytics projects is often expended in the Business Understanding, Data Understanding, and Data Preparation phases, and just 20% is spent on the Modeling, Evaluation, and Deployment phases. Why do you think this would be the case?"
   ]
  },
  {
   "cell_type": "markdown",
   "id": "df2b5699-e036-445f-b86c-fd2972105ed0",
   "metadata": {},
   "source": [
    "**This is probably the case because you need to have a proper scope and abstraction of the business problem/question to appropriately design the data.  Once the abstraction is complete, then you'd need to realize and collect relevant data to the business questions, and data collection alone can take an extended period of time.  Once all of the relevant data has been collected, the data may need to be appropriately formatted to fit within the scheme of the model.**"
   ]
  },
  {
   "cell_type": "markdown",
   "id": "ca861d1c-217e-4901-b592-1d72cff0e662",
   "metadata": {},
   "source": [
    "# 3 Predictive Data Analytics Use Case"
   ]
  },
  {
   "cell_type": "markdown",
   "id": "f9a56fb4-66a2-4cec-b844-2c6ea205818e",
   "metadata": {},
   "source": [
    "### [4 points] An online fashion retailer is struggling to generate the volume of sales that they had originally hoped for when they started the business. List at least two ways in which predictive data analytics could be used to help address this business problem. For each proposed approach, describe the predictive model that will be built, how the model will be used by the business, and how using the model will help address the original business problem."
   ]
  },
  {
   "cell_type": "markdown",
   "id": "d8713a26-0bf7-4797-87e6-10b2c839659e",
   "metadata": {},
   "source": [
    "**The most obvious data analytics would probably be similarity based learning.  The Russel-Rao, Sokal-Michener, or Jaccard formulas could be applied to recommend items to shoppers whose past trends are similar to other shoppers.  Another form of predictive data analytics I think that could be interesting is error based learning.  Based on what similarity based algorithm suggested, an error learning algorithm could be used to adjust whether the recommended purchase was succesful or not.  This could be used to find to discover which items have the most effective purchase rate. Now you're not only suggesting similar items to shoppers, but now items with a high purchase history for your shopping demographic are being recommended.**"
   ]
  },
  {
   "cell_type": "markdown",
   "id": "69c9e336-2b85-4d3b-8290-8c6743f226b1",
   "metadata": {},
   "source": [
    "# 4 Data Quality Assessment"
   ]
  },
  {
   "cell_type": "markdown",
   "id": "9817cb15-4f03-412c-a6d0-e74131e19067",
   "metadata": {},
   "source": [
    "### [10 points] Worldwide, breast cancer is the most common form of cancer for women and the second most common form of cancer overall. Reliable, population-wide screening is one tool that can be used to reduce the impact of breast cancer, and there is an opportunity for machine learning to be used for this. A large hospital group has collected a cancer screening dataset for possible use with machine learning that contains features extracted from tissue samples extracted by biopsy from adults presenting for screening. Features have been extracted from these biopsies by lab technicians who rate samples across a number of categories on a scale of 1 to 10. The samples have then been manually categorized by clinicians as either benign or malignant. The descriptive features in this dataset are defined as follows:\n",
    "\n",
    "    AGE: The age of the person screened.\n",
    "    SEX: The sex of the person screened, either male or female.\n",
    "    SIZE UNIFORMITY: A measure of the variation in size of cells in the tissue samples, higher values indicate more uniform sizes (1 to 10).\n",
    "    SHAPE UNIFORMITY: A measure of the variation in shape of cells in the tissue samples, higher values indicate more uniform shapes (1 to 10).\n",
    "    MARGINAL ADHESION: A measure of how much cells in the biopsy stick together (1 to 10).\n",
    "    MITOSES: A measure of how fast cells are growing (1 to 10).\n",
    "    CLUMP THICKNESS: A measure of the amount of layering in cells (1 to 10).\n",
    "    BLAND CHROMATIN: A measure of the texture of cell nuclei (1 to 10).\n",
    "    CLASS: The clinician’s assessment of the biopsy sample as either benign or malignant.\n",
    "\n",
    "### The following data is given to you (an extract from the Analytics Base Table (ABT) — the full ABT contains 680 instances; data quality report; and distribution of feature values):"
   ]
  },
  {
   "cell_type": "markdown",
   "id": "e303d81b-d369-4930-bb74-87b91952d467",
   "metadata": {},
   "source": [
    "![Local Image](fig-1.png)"
   ]
  },
  {
   "cell_type": "markdown",
   "id": "e506aa54-8df0-4858-82c3-3fccb0f1cc17",
   "metadata": {},
   "source": [
    "![Local Image](fig-2.png)"
   ]
  },
  {
   "cell_type": "markdown",
   "id": "432ac509-9cca-45c2-8b21-f60681630ac6",
   "metadata": {},
   "source": [
    "![Local Image](fig-3.png)"
   ]
  },
  {
   "cell_type": "markdown",
   "id": "23e8fde3-c02c-45cc-8d54-78a9f4e57913",
   "metadata": {},
   "source": [
    "### Discuss this data quality report in terms of the following:"
   ]
  },
  {
   "cell_type": "markdown",
   "id": "efdd9990-c920-412b-b268-73493e2ea78d",
   "metadata": {},
   "source": [
    "### a. Missing Values"
   ]
  },
  {
   "cell_type": "markdown",
   "id": "114c69e4-cdf8-4722-aea4-494012fe8ebd",
   "metadata": {},
   "source": [
    "**The *Size* and *Shape Uniformity* are missing approximately 10% of their data, and *Bland Chromatin* data is missing by approx. 23%.**"
   ]
  },
  {
   "cell_type": "markdown",
   "id": "a0f039c8-7f4f-4346-aa20-3203b8efdea7",
   "metadata": {},
   "source": [
    "### b. Irregular cardinality"
   ]
  },
  {
   "cell_type": "markdown",
   "id": "df4f5b21-8ee8-49b2-833c-3883fa56404d",
   "metadata": {},
   "source": [
    "***Shape Uniformity* has a cardinality of 11 when the scale is between 1-10. *Mitoses* has a cardinality of 9 where the scale is 1-10; it is plausible that no measure of *Mitoses* scaled to a 10, but it is worth noting either way.**"
   ]
  },
  {
   "cell_type": "markdown",
   "id": "6485a0f5-0d87-416b-a229-7718f44b1974",
   "metadata": {},
   "source": [
    "### c. Outliers"
   ]
  },
  {
   "cell_type": "markdown",
   "id": "5de14fcc-d68f-44c5-b6e5-7b68be282964",
   "metadata": {},
   "source": [
    "**The *ABT* and *Data Quality Report* both report an age of 0, and after cross referencing with the bar charts, this age range could be an outlier, along with the other end of the specturm with the age of 100+.**"
   ]
  },
  {
   "cell_type": "markdown",
   "id": "180af640-5b2d-45f9-8b03-03cc573f8d90",
   "metadata": {},
   "source": [
    "### d. Feature distribution"
   ]
  },
  {
   "cell_type": "markdown",
   "id": "9f13b6c8-dd4b-4451-8c84-0a4218fdab2e",
   "metadata": {},
   "source": [
    "**For feature distribution, there is substantial disproportion between *males* and *females*.  The *female* population accounts for almost 93% of the entire dataset.** "
   ]
  },
  {
   "cell_type": "markdown",
   "id": "bd8e1399-0c6c-4a62-90b2-d22ef30933f3",
   "metadata": {},
   "source": [
    "# 5 Regression Parameters"
   ]
  },
  {
   "cell_type": "markdown",
   "id": "840a6822-c24a-48c0-9acb-6260bcc67c0d",
   "metadata": {},
   "source": [
    "### [5 points] Why is it bad to have large values for regression parameters?"
   ]
  },
  {
   "cell_type": "markdown",
   "id": "3ec30b0f-aec0-41f9-9675-17302e04722d",
   "metadata": {},
   "source": [
    "**Large values may lead to overfitting and/or a failure to generalize.  Outlying large values can distort the machine learning process by over-accounting for the larger value.**"
   ]
  },
  {
   "cell_type": "markdown",
   "id": "ea5ea539-7046-4960-b8d3-98e6b10c37d8",
   "metadata": {},
   "source": [
    "# 6 ML Definition"
   ]
  },
  {
   "cell_type": "markdown",
   "id": "5e95d082-f9da-4f8f-8080-7c7b050fcefa",
   "metadata": {},
   "source": [
    "### [5 points] Many machine learning models are represented using parameters. Use this idea to define what machine learning is."
   ]
  },
  {
   "cell_type": "markdown",
   "id": "4e97f448-2291-4c36-9cab-72b1fed0adfc",
   "metadata": {},
   "source": [
    "**Parameters are the variables, values, or weights machine learning use to make a decision.  These parameters are adjusted based on the accuracy of the machine learning's predictions, and thus the machine \"learns\".**"
   ]
  },
  {
   "cell_type": "markdown",
   "id": "d90afd65-56f0-4315-a504-f34bff73f938",
   "metadata": {},
   "source": [
    "# 7 Ensemble Models"
   ]
  },
  {
   "cell_type": "markdown",
   "id": "64b3af08-a616-496a-a568-05dd99aac546",
   "metadata": {},
   "source": [
    "### [5 points] What is an ensemble model? When do you use this model?"
   ]
  },
  {
   "cell_type": "markdown",
   "id": "a0f754fc-52ee-485e-82b8-069006009907",
   "metadata": {},
   "source": [
    "**An ensemble model is where you would have multiple randomly populated sample populations of the actual population.  This method can be useful when you have an unequal distribution of features or diversity in the dataset, but an equal or random distribution of features is necessary to conduct the research.  So processes like bootstrap aggregating or subspace sampling are employed to mimic or imitate random samples of populations and/or random samples of features.**"
   ]
  },
  {
   "cell_type": "markdown",
   "id": "eb596f99-4837-4d7c-8160-0138904c2d7f",
   "metadata": {},
   "source": [
    "# 8 Random Forest"
   ]
  },
  {
   "cell_type": "markdown",
   "id": "b32e59bc-6f87-4086-9889-06ea5d7e4670",
   "metadata": {},
   "source": [
    "### [5 points] Explain how the random forest machine learning model addresses bias and overfitting?"
   ]
  },
  {
   "cell_type": "markdown",
   "id": "72481061-d736-4f75-a602-a7cac0b09ced",
   "metadata": {},
   "source": [
    "**In a random forest model, there are many decision trees, and each tree is constructed with random samples with replacement (bootstrap aggregating), and each tree is trained independently of the other decision trees.  Due to this nature of random construction, overfitting isn't really relevant, and since all trees are random, there isn't a concern for any implicit biases or such.  Also, decision trees are pruned if the error sum of the child nodes are greater than the parent node.  This practice also combats overfitting.**"
   ]
  },
  {
   "cell_type": "markdown",
   "id": "759a98df-dfdb-42be-a1ba-517e32212bbd",
   "metadata": {},
   "source": [
    "# 9 k-NN and Naive Bayes"
   ]
  },
  {
   "cell_type": "markdown",
   "id": "5125f1dc-b876-4dc2-a508-9c2664e9248e",
   "metadata": {},
   "source": [
    "### [5 points] You have studied the k-NN and naive Bayes’ machine learning models. Describe application characteristics where the k-NN is preferred over naive Bayes’. Also, what application characteristics warrant naive Bayes’ over k-NN?"
   ]
  },
  {
   "cell_type": "markdown",
   "id": "41d280e2-a94a-4e98-88da-ff87152523e8",
   "metadata": {},
   "source": [
    "**The k-NN model doesn't require any training, so if the data is subject to frequent changes, then a k-NN model may serve better than a Bayes model.  But k-NN models suffer from the dimensionality curse, and the higher the dimension of the data the more computationally intensive the predictions can become.  But in a Bayes model, each feature is conditionally independent so features/decisions are calculated linearly regardless of the dimensionality.**"
   ]
  },
  {
   "cell_type": "markdown",
   "id": "bace6b65-af72-444c-8870-4b60f6cc0528",
   "metadata": {},
   "source": [
    "# 10 Support Vector Machines 1"
   ]
  },
  {
   "cell_type": "markdown",
   "id": "474d89f5-63ba-45c6-a9c8-37007edcab8d",
   "metadata": {},
   "source": [
    "### [5 points] What are support vectors? What is a kernel in the context of a support vector machine (SVM)?"
   ]
  },
  {
   "cell_type": "markdown",
   "id": "c86e8a68-f443-487e-ab1c-e149256aea9f",
   "metadata": {},
   "source": [
    "**Support vectors are the data points/vectors that outline where the decision boundaries lie in an SVM.  a kernel is a function that maps the data to the necessary dimensions for SVMs to define decision boundaries.**"
   ]
  },
  {
   "cell_type": "markdown",
   "id": "c1e4f5f7-61f5-4acd-8f0d-53d1d927d73b",
   "metadata": {},
   "source": [
    "# 11 Support Vector Machines 2"
   ]
  },
  {
   "cell_type": "markdown",
   "id": "36586328-7509-4427-9d30-2f0870b9ec84",
   "metadata": {},
   "source": [
    "### [5 points] Can we use the Support Vector Machine (SVM) model for both regression and classification? If not, why not?"
   ]
  },
  {
   "cell_type": "markdown",
   "id": "44e7a78e-7331-4229-ac9f-fba09cbc5396",
   "metadata": {},
   "source": [
    "**Yes, support vector machines can define a hyperplane boundary that separates the data into the corresponding classes.  Support vector machines can also model for regression with the hyperplane modeling the trend of the continuous features.**"
   ]
  },
  {
   "cell_type": "markdown",
   "id": "da899c1e-2c10-48f8-9385-a927212c1e99",
   "metadata": {},
   "source": [
    "# 12 Harmonic Mean"
   ]
  },
  {
   "cell_type": "markdown",
   "id": "83e96a7c-0cf0-479a-a868-880c9385164d",
   "metadata": {},
   "source": [
    "### [5 points] When evaluating machine learning models, we often prefer harmonic mean over arithmetic mean. Why?"
   ]
  },
  {
   "cell_type": "markdown",
   "id": "031cdb36-640e-48f4-87a4-aaf5a4e56611",
   "metadata": {},
   "source": [
    "**Arithmetic means can greatly overexaggerate data in terms of rates of ratios, where harmonic means have a way of effectively delivering the same information with \"normalized\" rates and ratios.**"
   ]
  },
  {
   "cell_type": "markdown",
   "id": "f348915a-2ed1-4827-8f03-b5dfbe63e1f1",
   "metadata": {},
   "source": [
    "# 13 Naive Bayes"
   ]
  },
  {
   "cell_type": "markdown",
   "id": "c5ca967e-7479-4500-8357-2ab9cc0af66c",
   "metadata": {},
   "source": [
    "### [10 points] Imagine that you have been given a dataset of 1,000 documents that have been classified as being about entertainment or education. There are 700 entertainment documents in the dataset and 300 education documents in the dataset. The tables below give the number of documents from each topic that a selection of words occurred in."
   ]
  },
  {
   "cell_type": "code",
   "execution_count": 70,
   "id": "6adc07b9-90fa-45c2-96d8-3426d5b88c31",
   "metadata": {},
   "outputs": [
    {
     "data": {
      "text/html": [
       "<div>\n",
       "<style scoped>\n",
       "    .dataframe tbody tr th:only-of-type {\n",
       "        vertical-align: middle;\n",
       "    }\n",
       "\n",
       "    .dataframe tbody tr th {\n",
       "        vertical-align: top;\n",
       "    }\n",
       "\n",
       "    .dataframe thead th {\n",
       "        text-align: right;\n",
       "    }\n",
       "</style>\n",
       "<table border=\"1\" class=\"dataframe\">\n",
       "  <thead>\n",
       "    <tr style=\"text-align: right;\">\n",
       "      <th></th>\n",
       "      <th>fun</th>\n",
       "      <th>is</th>\n",
       "      <th>machine</th>\n",
       "      <th>christmas</th>\n",
       "      <th>family</th>\n",
       "      <th>learning</th>\n",
       "    </tr>\n",
       "  </thead>\n",
       "  <tbody>\n",
       "    <tr>\n",
       "      <th>0</th>\n",
       "      <td>415</td>\n",
       "      <td>695</td>\n",
       "      <td>35</td>\n",
       "      <td>0</td>\n",
       "      <td>400</td>\n",
       "      <td>70</td>\n",
       "    </tr>\n",
       "  </tbody>\n",
       "</table>\n",
       "</div>"
      ],
      "text/plain": [
       "   fun   is  machine  christmas  family  learning\n",
       "0  415  695       35          0     400        70"
      ]
     },
     "execution_count": 70,
     "metadata": {},
     "output_type": "execute_result"
    }
   ],
   "source": [
    "entertainment"
   ]
  },
  {
   "cell_type": "code",
   "execution_count": 71,
   "id": "51d44f56-7fd1-430e-9f10-50d141b3c533",
   "metadata": {},
   "outputs": [
    {
     "data": {
      "text/html": [
       "<div>\n",
       "<style scoped>\n",
       "    .dataframe tbody tr th:only-of-type {\n",
       "        vertical-align: middle;\n",
       "    }\n",
       "\n",
       "    .dataframe tbody tr th {\n",
       "        vertical-align: top;\n",
       "    }\n",
       "\n",
       "    .dataframe thead th {\n",
       "        text-align: right;\n",
       "    }\n",
       "</style>\n",
       "<table border=\"1\" class=\"dataframe\">\n",
       "  <thead>\n",
       "    <tr style=\"text-align: right;\">\n",
       "      <th></th>\n",
       "      <th>fun</th>\n",
       "      <th>is</th>\n",
       "      <th>machine</th>\n",
       "      <th>christmas</th>\n",
       "      <th>family</th>\n",
       "      <th>learning</th>\n",
       "    </tr>\n",
       "  </thead>\n",
       "  <tbody>\n",
       "    <tr>\n",
       "      <th>0</th>\n",
       "      <td>200</td>\n",
       "      <td>295</td>\n",
       "      <td>120</td>\n",
       "      <td>0</td>\n",
       "      <td>10</td>\n",
       "      <td>105</td>\n",
       "    </tr>\n",
       "  </tbody>\n",
       "</table>\n",
       "</div>"
      ],
      "text/plain": [
       "   fun   is  machine  christmas  family  learning\n",
       "0  200  295      120          0      10       105"
      ]
     },
     "execution_count": 71,
     "metadata": {},
     "output_type": "execute_result"
    }
   ],
   "source": [
    "education"
   ]
  },
  {
   "cell_type": "markdown",
   "id": "a0209134-888c-4557-a19d-d5b81bde3469",
   "metadata": {},
   "source": [
    "### a. What target level will a naive Bayes model predict for the following query document: “machine learning is fun”?"
   ]
  },
  {
   "cell_type": "code",
   "execution_count": 25,
   "id": "f13998e1-1b47-46d0-8541-4f6b62c302f0",
   "metadata": {},
   "outputs": [
    {
     "name": "stdout",
     "output_type": "stream",
     "text": [
      "Prediction in 'entertainment' document: 0.0029%\n",
      "Prediction in 'education' document: 0.0918%\n"
     ]
    }
   ],
   "source": [
    "columns = ['machine', 'learning', 'is', 'fun']\n",
    "entertainment_values = [35, 70, 695, 415]\n",
    "\n",
    "print(f'Prediction in \\'entertainment\\' document: {bayes_predict_sin(entertainment, columns, entertainment_values, 700):.4f}%') \n",
    "\n",
    "columns = ['machine', 'learning', 'is', 'fun']\n",
    "education_values = [120, 105, 295, 200]\n",
    "\n",
    "print(f'Prediction in \\'education\\' document: {bayes_predict_sin(education, columns, education_values, 300):.4f}%') "
   ]
  },
  {
   "cell_type": "markdown",
   "id": "d38d1a27-022b-41fd-abbc-3fc6ad502224",
   "metadata": {},
   "source": [
    "### b. What target level will a naive Bayes model predict for the following query document: “christmas family fun”?"
   ]
  },
  {
   "cell_type": "markdown",
   "id": "643088f3-3f36-4e31-8eef-6d76c913aed8",
   "metadata": {},
   "source": [
    "**No calculation is necessary; the feature 'christmas' has zero occurences in both documents.  Therefore a naive Bayes model would predict 0% probability.**"
   ]
  },
  {
   "cell_type": "markdown",
   "id": "2571ea50-4396-435c-aa71-ebb5492c5822",
   "metadata": {},
   "source": [
    "### c. What target level will a naive Bayes model predict for the query document in Part (b) of this question, if Laplace smoothing with k=10 and a vocabulary size of 6 is used?"
   ]
  },
  {
   "cell_type": "code",
   "execution_count": 52,
   "id": "f733361b-7d27-4fbd-9bcc-a704bb342eb1",
   "metadata": {},
   "outputs": [
    {
     "name": "stdout",
     "output_type": "stream",
     "text": [
      "Prediction in 'entertainment' with k = 10 and domain = 6: 0.0040%\n",
      "\n",
      "Prediction in 'education' with k = 10 and domain = 6: 0.0009%\n"
     ]
    }
   ],
   "source": [
    "columns = ['christmas', 'family', 'fun']\n",
    "entertainment_values = [0, 400, 415]\n",
    "\n",
    "print(f'Prediction in \\'entertainment\\' with k = {10} and domain = {6}: {bayes_predict_sin(entertainment, columns, entertainment_values, 700, 10, 6):.4f}%') \n",
    "\n",
    "columns = ['christmas', 'family', 'fun']\n",
    "education_values = [0, 10, 200]\n",
    "\n",
    "print(f'\\nPrediction in \\'education\\' with k = {10} and domain = {6}: {bayes_predict_sin(education, columns, education_values, 300, 10, 6):.4f}%') "
   ]
  },
  {
   "cell_type": "markdown",
   "id": "2ded0218-fbfb-45b9-9f13-3048e7cedf2e",
   "metadata": {
    "jp-MarkdownHeadingCollapsed": true
   },
   "source": [
    "# 14 Multivariate logistic regression model"
   ]
  },
  {
   "cell_type": "markdown",
   "id": "bf002ca5-2f2c-499f-a48c-2f4b297e2c1a",
   "metadata": {},
   "source": [
    "### [10 points] A multivariate logistic regression model has been built to diagnose breast cancer in patients on the basis of features extracted from tissue samples extracted by biopsy. The model uses three descriptive features — MITOSES, a measure of how fast cells are growing; CLUMP THICKNESS, a measure of the amount of layering in cells; and BLAND CHROMATIN, a measure of the texture of cell nuclei — and predicts the status of a biopsy as either benign or malignant. The weights in the trained model are shown in the following table."
   ]
  },
  {
   "cell_type": "raw",
   "id": "55cea7bf-72f3-4019-ab4e-850215ab61c1",
   "metadata": {},
   "source": [
    "Intercept (w[0])\t13.92\n",
    "MITOSES \t        3.09\n",
    "CLUMP THICKNESS \t0.63\n",
    "BLAND CHROMATIN \t1.11"
   ]
  },
  {
   "cell_type": "code",
   "execution_count": 51,
   "id": "f983ce5a-c4ca-4cf3-b477-867b538c1ceb",
   "metadata": {},
   "outputs": [
    {
     "data": {
      "text/html": [
       "<div>\n",
       "<style scoped>\n",
       "    .dataframe tbody tr th:only-of-type {\n",
       "        vertical-align: middle;\n",
       "    }\n",
       "\n",
       "    .dataframe tbody tr th {\n",
       "        vertical-align: top;\n",
       "    }\n",
       "\n",
       "    .dataframe thead th {\n",
       "        text-align: right;\n",
       "    }\n",
       "</style>\n",
       "<table border=\"1\" class=\"dataframe\">\n",
       "  <thead>\n",
       "    <tr style=\"text-align: right;\">\n",
       "      <th></th>\n",
       "      <th>ID</th>\n",
       "      <th>MITOSES</th>\n",
       "      <th>THICKNESS</th>\n",
       "      <th>CHROMATIN</th>\n",
       "    </tr>\n",
       "  </thead>\n",
       "  <tbody>\n",
       "    <tr>\n",
       "      <th>0</th>\n",
       "      <td>1</td>\n",
       "      <td>7</td>\n",
       "      <td>4</td>\n",
       "      <td>3</td>\n",
       "    </tr>\n",
       "    <tr>\n",
       "      <th>1</th>\n",
       "      <td>2</td>\n",
       "      <td>3</td>\n",
       "      <td>5</td>\n",
       "      <td>1</td>\n",
       "    </tr>\n",
       "    <tr>\n",
       "      <th>2</th>\n",
       "      <td>3</td>\n",
       "      <td>3</td>\n",
       "      <td>3</td>\n",
       "      <td>3</td>\n",
       "    </tr>\n",
       "    <tr>\n",
       "      <th>3</th>\n",
       "      <td>4</td>\n",
       "      <td>5</td>\n",
       "      <td>3</td>\n",
       "      <td>1</td>\n",
       "    </tr>\n",
       "    <tr>\n",
       "      <th>4</th>\n",
       "      <td>5</td>\n",
       "      <td>7</td>\n",
       "      <td>4</td>\n",
       "      <td>4</td>\n",
       "    </tr>\n",
       "    <tr>\n",
       "      <th>5</th>\n",
       "      <td>6</td>\n",
       "      <td>10</td>\n",
       "      <td>4</td>\n",
       "      <td>1</td>\n",
       "    </tr>\n",
       "    <tr>\n",
       "      <th>6</th>\n",
       "      <td>7</td>\n",
       "      <td>5</td>\n",
       "      <td>2</td>\n",
       "      <td>1</td>\n",
       "    </tr>\n",
       "  </tbody>\n",
       "</table>\n",
       "</div>"
      ],
      "text/plain": [
       "   ID  MITOSES  THICKNESS  CHROMATIN\n",
       "0   1        7          4          3\n",
       "1   2        3          5          1\n",
       "2   3        3          3          3\n",
       "3   4        5          3          1\n",
       "4   5        7          4          4\n",
       "5   6       10          4          1\n",
       "6   7        5          2          1"
      ]
     },
     "execution_count": 51,
     "metadata": {},
     "output_type": "execute_result"
    }
   ],
   "source": [
    "cancer"
   ]
  },
  {
   "cell_type": "code",
   "execution_count": 50,
   "id": "622d4705-8513-422f-b85a-3421747ed4e1",
   "metadata": {},
   "outputs": [
    {
     "name": "stdout",
     "output_type": "stream",
     "text": [
      "\tQuery 1 Prediction: 41.4000\n",
      "\tQuery 2 Prediction: 27.4500\n",
      "\tQuery 3 Prediction: 28.4100\n",
      "\tQuery 4 Prediction: 32.3700\n",
      "\tQuery 5 Prediction: 42.5100\n",
      "\tQuery 6 Prediction: 48.4500\n",
      "\tQuery 7 Prediction: 31.7400\n"
     ]
    }
   ],
   "source": [
    "w = [13.92, 3.09, 0.63, 1.11]\n",
    "\n",
    "for i in range(len(cancer)):\n",
    "    d = cancer.iloc[i, 1:].tolist()\n",
    "    print(f\"\\tQuery {i + 1} Prediction: {multi_reg(w ,d):.4f}\")"
   ]
  },
  {
   "cell_type": "markdown",
   "id": "7e8e225f-6e6c-4dd6-85d9-64928d55b349",
   "metadata": {
    "jp-MarkdownHeadingCollapsed": true
   },
   "source": [
    "# 15 Confusion Matrix"
   ]
  },
  {
   "cell_type": "markdown",
   "id": "7036074b-b2d0-442d-8b69-f675456e2536",
   "metadata": {},
   "source": [
    "### [10 points] A marketing company working for a charity has developed two different models that predict the likelihood that donors will respond to a mailshot asking them to make a special extra donation. The prediction scores generated for a test set for these two models are shown in the table below."
   ]
  },
  {
   "cell_type": "code",
   "execution_count": 12,
   "id": "77f8c857-554b-4d40-a87c-f73b88e481fc",
   "metadata": {},
   "outputs": [
    {
     "data": {
      "text/html": [
       "<div>\n",
       "<style scoped>\n",
       "    .dataframe tbody tr th:only-of-type {\n",
       "        vertical-align: middle;\n",
       "    }\n",
       "\n",
       "    .dataframe tbody tr th {\n",
       "        vertical-align: top;\n",
       "    }\n",
       "\n",
       "    .dataframe thead th {\n",
       "        text-align: right;\n",
       "    }\n",
       "</style>\n",
       "<table border=\"1\" class=\"dataframe\">\n",
       "  <thead>\n",
       "    <tr style=\"text-align: right;\">\n",
       "      <th></th>\n",
       "      <th>ID</th>\n",
       "      <th>Target</th>\n",
       "      <th>Score 1</th>\n",
       "      <th>Score 2</th>\n",
       "    </tr>\n",
       "  </thead>\n",
       "  <tbody>\n",
       "    <tr>\n",
       "      <th>0</th>\n",
       "      <td>1</td>\n",
       "      <td>False</td>\n",
       "      <td>0.1026</td>\n",
       "      <td>0.2089</td>\n",
       "    </tr>\n",
       "    <tr>\n",
       "      <th>1</th>\n",
       "      <td>2</td>\n",
       "      <td>False</td>\n",
       "      <td>0.2937</td>\n",
       "      <td>0.0080</td>\n",
       "    </tr>\n",
       "    <tr>\n",
       "      <th>2</th>\n",
       "      <td>3</td>\n",
       "      <td>True</td>\n",
       "      <td>0.5120</td>\n",
       "      <td>0.8378</td>\n",
       "    </tr>\n",
       "    <tr>\n",
       "      <th>3</th>\n",
       "      <td>4</td>\n",
       "      <td>True</td>\n",
       "      <td>0.8645</td>\n",
       "      <td>0.7160</td>\n",
       "    </tr>\n",
       "    <tr>\n",
       "      <th>4</th>\n",
       "      <td>5</td>\n",
       "      <td>False</td>\n",
       "      <td>0.1987</td>\n",
       "      <td>0.1891</td>\n",
       "    </tr>\n",
       "    <tr>\n",
       "      <th>5</th>\n",
       "      <td>6</td>\n",
       "      <td>True</td>\n",
       "      <td>0.7600</td>\n",
       "      <td>0.9398</td>\n",
       "    </tr>\n",
       "    <tr>\n",
       "      <th>6</th>\n",
       "      <td>7</td>\n",
       "      <td>True</td>\n",
       "      <td>0.7519</td>\n",
       "      <td>0.9800</td>\n",
       "    </tr>\n",
       "    <tr>\n",
       "      <th>7</th>\n",
       "      <td>8</td>\n",
       "      <td>True</td>\n",
       "      <td>0.2994</td>\n",
       "      <td>0.8578</td>\n",
       "    </tr>\n",
       "    <tr>\n",
       "      <th>8</th>\n",
       "      <td>9</td>\n",
       "      <td>False</td>\n",
       "      <td>0.0552</td>\n",
       "      <td>0.1560</td>\n",
       "    </tr>\n",
       "    <tr>\n",
       "      <th>9</th>\n",
       "      <td>10</td>\n",
       "      <td>False</td>\n",
       "      <td>0.9231</td>\n",
       "      <td>0.5600</td>\n",
       "    </tr>\n",
       "    <tr>\n",
       "      <th>10</th>\n",
       "      <td>11</td>\n",
       "      <td>True</td>\n",
       "      <td>0.7563</td>\n",
       "      <td>0.9062</td>\n",
       "    </tr>\n",
       "    <tr>\n",
       "      <th>11</th>\n",
       "      <td>12</td>\n",
       "      <td>True</td>\n",
       "      <td>0.5664</td>\n",
       "      <td>0.7301</td>\n",
       "    </tr>\n",
       "    <tr>\n",
       "      <th>12</th>\n",
       "      <td>13</td>\n",
       "      <td>True</td>\n",
       "      <td>0.2872</td>\n",
       "      <td>0.8764</td>\n",
       "    </tr>\n",
       "    <tr>\n",
       "      <th>13</th>\n",
       "      <td>14</td>\n",
       "      <td>True</td>\n",
       "      <td>0.9326</td>\n",
       "      <td>0.9274</td>\n",
       "    </tr>\n",
       "    <tr>\n",
       "      <th>14</th>\n",
       "      <td>15</td>\n",
       "      <td>False</td>\n",
       "      <td>0.0651</td>\n",
       "      <td>0.2992</td>\n",
       "    </tr>\n",
       "    <tr>\n",
       "      <th>15</th>\n",
       "      <td>16</td>\n",
       "      <td>True</td>\n",
       "      <td>0.7165</td>\n",
       "      <td>0.4569</td>\n",
       "    </tr>\n",
       "    <tr>\n",
       "      <th>16</th>\n",
       "      <td>17</td>\n",
       "      <td>True</td>\n",
       "      <td>0.7677</td>\n",
       "      <td>0.8086</td>\n",
       "    </tr>\n",
       "    <tr>\n",
       "      <th>17</th>\n",
       "      <td>18</td>\n",
       "      <td>False</td>\n",
       "      <td>0.4468</td>\n",
       "      <td>0.1458</td>\n",
       "    </tr>\n",
       "    <tr>\n",
       "      <th>18</th>\n",
       "      <td>19</td>\n",
       "      <td>False</td>\n",
       "      <td>0.2176</td>\n",
       "      <td>0.5809</td>\n",
       "    </tr>\n",
       "    <tr>\n",
       "      <th>19</th>\n",
       "      <td>20</td>\n",
       "      <td>False</td>\n",
       "      <td>0.9800</td>\n",
       "      <td>0.5783</td>\n",
       "    </tr>\n",
       "    <tr>\n",
       "      <th>20</th>\n",
       "      <td>21</td>\n",
       "      <td>True</td>\n",
       "      <td>0.6562</td>\n",
       "      <td>0.7843</td>\n",
       "    </tr>\n",
       "    <tr>\n",
       "      <th>21</th>\n",
       "      <td>22</td>\n",
       "      <td>True</td>\n",
       "      <td>0.9693</td>\n",
       "      <td>0.9521</td>\n",
       "    </tr>\n",
       "    <tr>\n",
       "      <th>22</th>\n",
       "      <td>23</td>\n",
       "      <td>False</td>\n",
       "      <td>0.0275</td>\n",
       "      <td>0.0377</td>\n",
       "    </tr>\n",
       "    <tr>\n",
       "      <th>23</th>\n",
       "      <td>24</td>\n",
       "      <td>True</td>\n",
       "      <td>0.7047</td>\n",
       "      <td>0.4708</td>\n",
       "    </tr>\n",
       "    <tr>\n",
       "      <th>24</th>\n",
       "      <td>25</td>\n",
       "      <td>False</td>\n",
       "      <td>0.3711</td>\n",
       "      <td>0.2846</td>\n",
       "    </tr>\n",
       "    <tr>\n",
       "      <th>25</th>\n",
       "      <td>26</td>\n",
       "      <td>False</td>\n",
       "      <td>0.4440</td>\n",
       "      <td>0.1100</td>\n",
       "    </tr>\n",
       "    <tr>\n",
       "      <th>26</th>\n",
       "      <td>27</td>\n",
       "      <td>True</td>\n",
       "      <td>0.5440</td>\n",
       "      <td>0.3562</td>\n",
       "    </tr>\n",
       "    <tr>\n",
       "      <th>27</th>\n",
       "      <td>28</td>\n",
       "      <td>True</td>\n",
       "      <td>0.5713</td>\n",
       "      <td>0.9200</td>\n",
       "    </tr>\n",
       "    <tr>\n",
       "      <th>28</th>\n",
       "      <td>29</td>\n",
       "      <td>False</td>\n",
       "      <td>0.3757</td>\n",
       "      <td>0.0895</td>\n",
       "    </tr>\n",
       "    <tr>\n",
       "      <th>29</th>\n",
       "      <td>30</td>\n",
       "      <td>True</td>\n",
       "      <td>0.8224</td>\n",
       "      <td>0.8614</td>\n",
       "    </tr>\n",
       "  </tbody>\n",
       "</table>\n",
       "</div>"
      ],
      "text/plain": [
       "    ID  Target  Score 1  Score 2\n",
       "0    1   False   0.1026   0.2089\n",
       "1    2   False   0.2937   0.0080\n",
       "2    3    True   0.5120   0.8378\n",
       "3    4    True   0.8645   0.7160\n",
       "4    5   False   0.1987   0.1891\n",
       "5    6    True   0.7600   0.9398\n",
       "6    7    True   0.7519   0.9800\n",
       "7    8    True   0.2994   0.8578\n",
       "8    9   False   0.0552   0.1560\n",
       "9   10   False   0.9231   0.5600\n",
       "10  11    True   0.7563   0.9062\n",
       "11  12    True   0.5664   0.7301\n",
       "12  13    True   0.2872   0.8764\n",
       "13  14    True   0.9326   0.9274\n",
       "14  15   False   0.0651   0.2992\n",
       "15  16    True   0.7165   0.4569\n",
       "16  17    True   0.7677   0.8086\n",
       "17  18   False   0.4468   0.1458\n",
       "18  19   False   0.2176   0.5809\n",
       "19  20   False   0.9800   0.5783\n",
       "20  21    True   0.6562   0.7843\n",
       "21  22    True   0.9693   0.9521\n",
       "22  23   False   0.0275   0.0377\n",
       "23  24    True   0.7047   0.4708\n",
       "24  25   False   0.3711   0.2846\n",
       "25  26   False   0.4440   0.1100\n",
       "26  27    True   0.5440   0.3562\n",
       "27  28    True   0.5713   0.9200\n",
       "28  29   False   0.3757   0.0895\n",
       "29  30    True   0.8224   0.8614"
      ]
     },
     "execution_count": 12,
     "metadata": {},
     "output_type": "execute_result"
    }
   ],
   "source": [
    "mailshot"
   ]
  },
  {
   "cell_type": "markdown",
   "id": "d6ed7fc1-dc1c-48aa-b27b-0f649307cefd",
   "metadata": {},
   "source": [
    "### a. Using a classification threshold of 0.5, and assuming that true is the positive target level, construct a confusion matrix for each of the models."
   ]
  },
  {
   "cell_type": "code",
   "execution_count": 31,
   "id": "3b729bef-ffa0-4b9f-aba1-706cab545ce9",
   "metadata": {},
   "outputs": [],
   "source": [
    "mailshot_bin = mailshot.copy()\n",
    "\n",
    "i = 0\n",
    "for score in mailshot_bin['Score 1']:\n",
    "    if score < .5:\n",
    "        mailshot_bin.at[i, 'Score 1'] = False\n",
    "    else:\n",
    "        mailshot_bin.at[i, 'Score 1'] = True\n",
    "    i+=1\n",
    "\n",
    "i = 0\n",
    "for score in mailshot_bin['Score 2']:\n",
    "    if score < .5:\n",
    "        mailshot_bin.at[i, 'Score 2'] = False\n",
    "    else:\n",
    "        mailshot_bin.at[i, 'Score 2'] = True\n",
    "    i+=1"
   ]
  },
  {
   "cell_type": "code",
   "execution_count": 38,
   "id": "72a4602c-86cb-4b83-b193-211fde36dd77",
   "metadata": {},
   "outputs": [
    {
     "name": "stdout",
     "output_type": "stream",
     "text": [
      "\t**MODEL 1**\n"
     ]
    },
    {
     "data": {
      "text/html": [
       "<div>\n",
       "<style scoped>\n",
       "    .dataframe tbody tr th:only-of-type {\n",
       "        vertical-align: middle;\n",
       "    }\n",
       "\n",
       "    .dataframe tbody tr th {\n",
       "        vertical-align: top;\n",
       "    }\n",
       "\n",
       "    .dataframe thead th {\n",
       "        text-align: right;\n",
       "    }\n",
       "</style>\n",
       "<table border=\"1\" class=\"dataframe\">\n",
       "  <thead>\n",
       "    <tr style=\"text-align: right;\">\n",
       "      <th></th>\n",
       "      <th>Positive</th>\n",
       "      <th>Negative</th>\n",
       "    </tr>\n",
       "  </thead>\n",
       "  <tbody>\n",
       "    <tr>\n",
       "      <th>Positive</th>\n",
       "      <td>15</td>\n",
       "      <td>2</td>\n",
       "    </tr>\n",
       "    <tr>\n",
       "      <th>Negative</th>\n",
       "      <td>2</td>\n",
       "      <td>11</td>\n",
       "    </tr>\n",
       "  </tbody>\n",
       "</table>\n",
       "</div>"
      ],
      "text/plain": [
       "          Positive  Negative\n",
       "Positive        15         2\n",
       "Negative         2        11"
      ]
     },
     "execution_count": 38,
     "metadata": {},
     "output_type": "execute_result"
    }
   ],
   "source": [
    "print(f'\\t**MODEL 1**')\n",
    "con_matrix(mailshot_bin['Target'], mailshot_bin['Score 1'])"
   ]
  },
  {
   "cell_type": "code",
   "execution_count": 39,
   "id": "1a37d279-db2b-4ed4-9a88-77f11b811ab2",
   "metadata": {},
   "outputs": [
    {
     "name": "stdout",
     "output_type": "stream",
     "text": [
      "\t**MODEL 2**\n"
     ]
    },
    {
     "data": {
      "text/html": [
       "<div>\n",
       "<style scoped>\n",
       "    .dataframe tbody tr th:only-of-type {\n",
       "        vertical-align: middle;\n",
       "    }\n",
       "\n",
       "    .dataframe tbody tr th {\n",
       "        vertical-align: top;\n",
       "    }\n",
       "\n",
       "    .dataframe thead th {\n",
       "        text-align: right;\n",
       "    }\n",
       "</style>\n",
       "<table border=\"1\" class=\"dataframe\">\n",
       "  <thead>\n",
       "    <tr style=\"text-align: right;\">\n",
       "      <th></th>\n",
       "      <th>Positive</th>\n",
       "      <th>Negative</th>\n",
       "    </tr>\n",
       "  </thead>\n",
       "  <tbody>\n",
       "    <tr>\n",
       "      <th>Positive</th>\n",
       "      <td>14</td>\n",
       "      <td>3</td>\n",
       "    </tr>\n",
       "    <tr>\n",
       "      <th>Negative</th>\n",
       "      <td>3</td>\n",
       "      <td>10</td>\n",
       "    </tr>\n",
       "  </tbody>\n",
       "</table>\n",
       "</div>"
      ],
      "text/plain": [
       "          Positive  Negative\n",
       "Positive        14         3\n",
       "Negative         3        10"
      ]
     },
     "execution_count": 39,
     "metadata": {},
     "output_type": "execute_result"
    }
   ],
   "source": [
    "print(f'\\t**MODEL 2**')\n",
    "con_matrix(mailshot_bin['Target'], mailshot_bin['Score 2'])"
   ]
  },
  {
   "cell_type": "markdown",
   "id": "2dda1226-72e5-4df0-aee1-6f516548e015",
   "metadata": {},
   "source": [
    "### b. Calculate the simple accuracy and average class accuracy (using an arithmetic mean) for each model."
   ]
  },
  {
   "cell_type": "code",
   "execution_count": 47,
   "id": "67304cef-1c6f-4a0f-854b-528d34ec1bcd",
   "metadata": {},
   "outputs": [
    {
     "name": "stdout",
     "output_type": "stream",
     "text": [
      "Simple Accuracy for Model 1: 0.8667\n",
      "Simple Accuracy for Model 2: 0.8000\n"
     ]
    }
   ],
   "source": [
    "sim_1 = simple_accuracy(mailshot_bin['Target'], mailshot_bin['Score 1'])\n",
    "sim_2 = simple_accuracy(mailshot_bin['Target'], mailshot_bin['Score 2'])\n",
    "\n",
    "print(f'Simple Accuracy for Model 1: {sim_1:.4f}')\n",
    "print(f'Simple Accuracy for Model 2: {sim_2:.4f}')"
   ]
  },
  {
   "cell_type": "code",
   "execution_count": 48,
   "id": "b7e9beac-e054-4809-a055-43b0f48b28ec",
   "metadata": {},
   "outputs": [
    {
     "name": "stdout",
     "output_type": "stream",
     "text": [
      "Average Class Accuracy for Model 1: 0.8643\n",
      "Average Class Accuracy for Model 2: 0.7964\n"
     ]
    }
   ],
   "source": [
    "aca_1 = average_class_accuracy(mailshot_bin['Target'], mailshot_bin['Score 1'])\n",
    "aca_2 = average_class_accuracy(mailshot_bin['Target'], mailshot_bin['Score 2'])\n",
    "\n",
    "print(f'Average Class Accuracy for Model 1: {aca_1:.4f}')\n",
    "print(f'Average Class Accuracy for Model 2: {aca_2:.4f}')"
   ]
  },
  {
   "cell_type": "markdown",
   "id": "54edaaa4-d670-45cc-beb1-9704f1f6241c",
   "metadata": {},
   "source": [
    "### c. Based on the average class accuracy measures, which model appears to perform best at this task?"
   ]
  },
  {
   "cell_type": "markdown",
   "id": "6ca8ecc6-b1ee-4c41-8ac9-477ade895f67",
   "metadata": {},
   "source": [
    "**Model 1**"
   ]
  },
  {
   "cell_type": "markdown",
   "id": "fc41f8ec-c33c-4757-b745-a118c671dc02",
   "metadata": {
    "jp-MarkdownHeadingCollapsed": true
   },
   "source": [
    "# 16 Clustering"
   ]
  },
  {
   "cell_type": "markdown",
   "id": "2f9870a9-3ccc-4420-a062-910e726eb673",
   "metadata": {},
   "source": [
    "### [10 points] The following table shows a small dataset used for human activity recognition from a wearable accelerometer sensor.16 Each instance describes the average acceleration in the X, Y, and Z directions within a short time window. There are no labels, so this data is being clustered in an attempt to recognize different activity from this simple data stream. The k-means clustering approach is to be applied to this dataset with k = 2 and using Euclidean distance. The initial cluster centroids for the two clusters C1​ and C2 are c1=⟨−0.235,0.253;0.438⟩ and c2=∠0.232,0.325,0.159⟩. The following table also shows the distance to these three cluster centers for each instance in the dataset after iteration 1."
   ]
  },
  {
   "cell_type": "code",
   "execution_count": 23,
   "id": "1fa09942-4f76-49f0-b169-1633a71924ac",
   "metadata": {},
   "outputs": [
    {
     "data": {
      "text/html": [
       "<div>\n",
       "<style scoped>\n",
       "    .dataframe tbody tr th:only-of-type {\n",
       "        vertical-align: middle;\n",
       "    }\n",
       "\n",
       "    .dataframe tbody tr th {\n",
       "        vertical-align: top;\n",
       "    }\n",
       "\n",
       "    .dataframe thead th {\n",
       "        text-align: right;\n",
       "    }\n",
       "</style>\n",
       "<table border=\"1\" class=\"dataframe\">\n",
       "  <thead>\n",
       "    <tr style=\"text-align: right;\">\n",
       "      <th></th>\n",
       "      <th>ID</th>\n",
       "      <th>X</th>\n",
       "      <th>Y</th>\n",
       "      <th>Z</th>\n",
       "      <th>Dist(di-c1)</th>\n",
       "      <th>Dist(di-c2)</th>\n",
       "    </tr>\n",
       "  </thead>\n",
       "  <tbody>\n",
       "    <tr>\n",
       "      <th>0</th>\n",
       "      <td>1</td>\n",
       "      <td>-0.154</td>\n",
       "      <td>0.376</td>\n",
       "      <td>0.099</td>\n",
       "      <td>0.370</td>\n",
       "      <td>0.467</td>\n",
       "    </tr>\n",
       "    <tr>\n",
       "      <th>1</th>\n",
       "      <td>2</td>\n",
       "      <td>-0.103</td>\n",
       "      <td>0.476</td>\n",
       "      <td>-0.027</td>\n",
       "      <td>0.532</td>\n",
       "      <td>0.390</td>\n",
       "    </tr>\n",
       "    <tr>\n",
       "      <th>2</th>\n",
       "      <td>3</td>\n",
       "      <td>0.228</td>\n",
       "      <td>0.036</td>\n",
       "      <td>-0.251</td>\n",
       "      <td>0.858</td>\n",
       "      <td>0.303</td>\n",
       "    </tr>\n",
       "    <tr>\n",
       "      <th>3</th>\n",
       "      <td>4</td>\n",
       "      <td>0.330</td>\n",
       "      <td>0.013</td>\n",
       "      <td>-0.263</td>\n",
       "      <td>0.932</td>\n",
       "      <td>0.343</td>\n",
       "    </tr>\n",
       "    <tr>\n",
       "      <th>4</th>\n",
       "      <td>5</td>\n",
       "      <td>-0.114</td>\n",
       "      <td>0.482</td>\n",
       "      <td>0.014</td>\n",
       "      <td>0.497</td>\n",
       "      <td>0.417</td>\n",
       "    </tr>\n",
       "    <tr>\n",
       "      <th>5</th>\n",
       "      <td>6</td>\n",
       "      <td>0.295</td>\n",
       "      <td>0.084</td>\n",
       "      <td>-0.297</td>\n",
       "      <td>0.922</td>\n",
       "      <td>0.285</td>\n",
       "    </tr>\n",
       "    <tr>\n",
       "      <th>6</th>\n",
       "      <td>7</td>\n",
       "      <td>0.262</td>\n",
       "      <td>0.042</td>\n",
       "      <td>-0.304</td>\n",
       "      <td>0.918</td>\n",
       "      <td>0.319</td>\n",
       "    </tr>\n",
       "    <tr>\n",
       "      <th>7</th>\n",
       "      <td>8</td>\n",
       "      <td>-0.051</td>\n",
       "      <td>0.416</td>\n",
       "      <td>-0.306</td>\n",
       "      <td>0.784</td>\n",
       "      <td>0.332</td>\n",
       "    </tr>\n",
       "  </tbody>\n",
       "</table>\n",
       "</div>"
      ],
      "text/plain": [
       "   ID      X      Y      Z  Dist(di-c1)  Dist(di-c2)\n",
       "0   1 -0.154  0.376  0.099        0.370        0.467\n",
       "1   2 -0.103  0.476 -0.027        0.532        0.390\n",
       "2   3  0.228  0.036 -0.251        0.858        0.303\n",
       "3   4  0.330  0.013 -0.263        0.932        0.343\n",
       "4   5 -0.114  0.482  0.014        0.497        0.417\n",
       "5   6  0.295  0.084 -0.297        0.922        0.285\n",
       "6   7  0.262  0.042 -0.304        0.918        0.319\n",
       "7   8 -0.051  0.416 -0.306        0.784        0.332"
      ]
     },
     "execution_count": 23,
     "metadata": {},
     "output_type": "execute_result"
    }
   ],
   "source": [
    "clustering"
   ]
  },
  {
   "cell_type": "markdown",
   "id": "25bada5d-2deb-4f68-b2fe-096f0b910d57",
   "metadata": {},
   "source": [
    "### a. Assign each instance to its nearest cluster to generate the clustering at the first iteration of k-means on the basis of the initial cluster centroids."
   ]
  },
  {
   "cell_type": "code",
   "execution_count": 58,
   "id": "ce16317a-93d4-4d19-a710-0194ba2ad34e",
   "metadata": {},
   "outputs": [
    {
     "data": {
      "text/html": [
       "<div>\n",
       "<style scoped>\n",
       "    .dataframe tbody tr th:only-of-type {\n",
       "        vertical-align: middle;\n",
       "    }\n",
       "\n",
       "    .dataframe tbody tr th {\n",
       "        vertical-align: top;\n",
       "    }\n",
       "\n",
       "    .dataframe thead th {\n",
       "        text-align: right;\n",
       "    }\n",
       "</style>\n",
       "<table border=\"1\" class=\"dataframe\">\n",
       "  <thead>\n",
       "    <tr style=\"text-align: right;\">\n",
       "      <th></th>\n",
       "      <th>ID</th>\n",
       "      <th>X</th>\n",
       "      <th>Y</th>\n",
       "      <th>Z</th>\n",
       "      <th>Clusters</th>\n",
       "    </tr>\n",
       "  </thead>\n",
       "  <tbody>\n",
       "    <tr>\n",
       "      <th>0</th>\n",
       "      <td>1</td>\n",
       "      <td>-0.154</td>\n",
       "      <td>0.376</td>\n",
       "      <td>0.099</td>\n",
       "      <td>1</td>\n",
       "    </tr>\n",
       "    <tr>\n",
       "      <th>1</th>\n",
       "      <td>2</td>\n",
       "      <td>-0.103</td>\n",
       "      <td>0.476</td>\n",
       "      <td>-0.027</td>\n",
       "      <td>2</td>\n",
       "    </tr>\n",
       "    <tr>\n",
       "      <th>2</th>\n",
       "      <td>3</td>\n",
       "      <td>0.228</td>\n",
       "      <td>0.036</td>\n",
       "      <td>-0.251</td>\n",
       "      <td>2</td>\n",
       "    </tr>\n",
       "    <tr>\n",
       "      <th>3</th>\n",
       "      <td>4</td>\n",
       "      <td>0.330</td>\n",
       "      <td>0.013</td>\n",
       "      <td>-0.263</td>\n",
       "      <td>2</td>\n",
       "    </tr>\n",
       "    <tr>\n",
       "      <th>4</th>\n",
       "      <td>5</td>\n",
       "      <td>-0.114</td>\n",
       "      <td>0.482</td>\n",
       "      <td>0.014</td>\n",
       "      <td>2</td>\n",
       "    </tr>\n",
       "    <tr>\n",
       "      <th>5</th>\n",
       "      <td>6</td>\n",
       "      <td>0.295</td>\n",
       "      <td>0.084</td>\n",
       "      <td>-0.297</td>\n",
       "      <td>2</td>\n",
       "    </tr>\n",
       "    <tr>\n",
       "      <th>6</th>\n",
       "      <td>7</td>\n",
       "      <td>0.262</td>\n",
       "      <td>0.042</td>\n",
       "      <td>-0.304</td>\n",
       "      <td>2</td>\n",
       "    </tr>\n",
       "    <tr>\n",
       "      <th>7</th>\n",
       "      <td>8</td>\n",
       "      <td>-0.051</td>\n",
       "      <td>0.416</td>\n",
       "      <td>-0.306</td>\n",
       "      <td>2</td>\n",
       "    </tr>\n",
       "  </tbody>\n",
       "</table>\n",
       "</div>"
      ],
      "text/plain": [
       "   ID      X      Y      Z  Clusters\n",
       "0   1 -0.154  0.376  0.099         1\n",
       "1   2 -0.103  0.476 -0.027         2\n",
       "2   3  0.228  0.036 -0.251         2\n",
       "3   4  0.330  0.013 -0.263         2\n",
       "4   5 -0.114  0.482  0.014         2\n",
       "5   6  0.295  0.084 -0.297         2\n",
       "6   7  0.262  0.042 -0.304         2\n",
       "7   8 -0.051  0.416 -0.306         2"
      ]
     },
     "execution_count": 58,
     "metadata": {},
     "output_type": "execute_result"
    }
   ],
   "source": [
    "nearest_cluster = clustering[['ID', 'X', 'Y', 'Z']]\n",
    "\n",
    "nearest_cluster['Clusters'] = [1, 2, 2, 2, 2, 2, 2, 2]\n",
    "\n",
    "nearest_cluster"
   ]
  },
  {
   "cell_type": "markdown",
   "id": "2e9832b3-5c12-4b11-9dbb-3ad2e93e980b",
   "metadata": {},
   "source": [
    "### b. On the basis of the clustering calculated in Part (a), calculate a set of new cluster centroids."
   ]
  },
  {
   "cell_type": "code",
   "execution_count": 66,
   "id": "cec307b3-d4a0-4da9-bbcd-87f6acbbf04b",
   "metadata": {},
   "outputs": [
    {
     "data": {
      "text/html": [
       "<div>\n",
       "<style scoped>\n",
       "    .dataframe tbody tr th:only-of-type {\n",
       "        vertical-align: middle;\n",
       "    }\n",
       "\n",
       "    .dataframe tbody tr th {\n",
       "        vertical-align: top;\n",
       "    }\n",
       "\n",
       "    .dataframe thead th {\n",
       "        text-align: right;\n",
       "    }\n",
       "</style>\n",
       "<table border=\"1\" class=\"dataframe\">\n",
       "  <thead>\n",
       "    <tr style=\"text-align: right;\">\n",
       "      <th></th>\n",
       "      <th>X</th>\n",
       "      <th>Y</th>\n",
       "      <th>Z</th>\n",
       "    </tr>\n",
       "    <tr>\n",
       "      <th>Clusters</th>\n",
       "      <th></th>\n",
       "      <th></th>\n",
       "      <th></th>\n",
       "    </tr>\n",
       "  </thead>\n",
       "  <tbody>\n",
       "    <tr>\n",
       "      <th>1</th>\n",
       "      <td>-0.154</td>\n",
       "      <td>0.376000</td>\n",
       "      <td>0.099000</td>\n",
       "    </tr>\n",
       "    <tr>\n",
       "      <th>2</th>\n",
       "      <td>0.121</td>\n",
       "      <td>0.221286</td>\n",
       "      <td>-0.204857</td>\n",
       "    </tr>\n",
       "  </tbody>\n",
       "</table>\n",
       "</div>"
      ],
      "text/plain": [
       "              X         Y         Z\n",
       "Clusters                           \n",
       "1        -0.154  0.376000  0.099000\n",
       "2         0.121  0.221286 -0.204857"
      ]
     },
     "execution_count": 66,
     "metadata": {},
     "output_type": "execute_result"
    }
   ],
   "source": [
    "clusters = nearest_cluster.groupby('Clusters')\n",
    "\n",
    "new_centroids = clusters[['X', 'Y', 'Z']].mean()\n",
    "\n",
    "new_centroids"
   ]
  },
  {
   "cell_type": "markdown",
   "id": "da7bee0b-f2b0-46c7-a271-5feb5207f6d4",
   "metadata": {},
   "source": [
    "### c. Calculate the distances of each instance to these new cluster centers and perform another clustering iteration."
   ]
  },
  {
   "cell_type": "code",
   "execution_count": 69,
   "id": "87f5f734-b185-4120-8af3-f55cd36c3723",
   "metadata": {},
   "outputs": [
    {
     "data": {
      "text/html": [
       "<div>\n",
       "<style scoped>\n",
       "    .dataframe tbody tr th:only-of-type {\n",
       "        vertical-align: middle;\n",
       "    }\n",
       "\n",
       "    .dataframe tbody tr th {\n",
       "        vertical-align: top;\n",
       "    }\n",
       "\n",
       "    .dataframe thead th {\n",
       "        text-align: right;\n",
       "    }\n",
       "</style>\n",
       "<table border=\"1\" class=\"dataframe\">\n",
       "  <thead>\n",
       "    <tr style=\"text-align: right;\">\n",
       "      <th></th>\n",
       "      <th>X</th>\n",
       "      <th>Y</th>\n",
       "      <th>Z</th>\n",
       "      <th>Dist_c1</th>\n",
       "      <th>Dist_c2</th>\n",
       "    </tr>\n",
       "  </thead>\n",
       "  <tbody>\n",
       "    <tr>\n",
       "      <th>0</th>\n",
       "      <td>-0.154</td>\n",
       "      <td>0.376</td>\n",
       "      <td>0.099</td>\n",
       "      <td>0.000000</td>\n",
       "      <td>0.438053</td>\n",
       "    </tr>\n",
       "    <tr>\n",
       "      <th>1</th>\n",
       "      <td>-0.103</td>\n",
       "      <td>0.476</td>\n",
       "      <td>-0.027</td>\n",
       "      <td>0.168751</td>\n",
       "      <td>0.382999</td>\n",
       "    </tr>\n",
       "    <tr>\n",
       "      <th>2</th>\n",
       "      <td>0.228</td>\n",
       "      <td>0.036</td>\n",
       "      <td>-0.251</td>\n",
       "      <td>0.619697</td>\n",
       "      <td>0.218881</td>\n",
       "    </tr>\n",
       "    <tr>\n",
       "      <th>3</th>\n",
       "      <td>0.330</td>\n",
       "      <td>0.013</td>\n",
       "      <td>-0.263</td>\n",
       "      <td>0.705031</td>\n",
       "      <td>0.300740</td>\n",
       "    </tr>\n",
       "    <tr>\n",
       "      <th>4</th>\n",
       "      <td>-0.114</td>\n",
       "      <td>0.482</td>\n",
       "      <td>0.014</td>\n",
       "      <td>0.141637</td>\n",
       "      <td>0.413637</td>\n",
       "    </tr>\n",
       "    <tr>\n",
       "      <th>5</th>\n",
       "      <td>0.295</td>\n",
       "      <td>0.084</td>\n",
       "      <td>-0.297</td>\n",
       "      <td>0.666094</td>\n",
       "      <td>0.240028</td>\n",
       "    </tr>\n",
       "    <tr>\n",
       "      <th>6</th>\n",
       "      <td>0.262</td>\n",
       "      <td>0.042</td>\n",
       "      <td>-0.304</td>\n",
       "      <td>0.668596</td>\n",
       "      <td>0.248704</td>\n",
       "    </tr>\n",
       "    <tr>\n",
       "      <th>7</th>\n",
       "      <td>-0.051</td>\n",
       "      <td>0.416</td>\n",
       "      <td>-0.306</td>\n",
       "      <td>0.419802</td>\n",
       "      <td>0.278797</td>\n",
       "    </tr>\n",
       "  </tbody>\n",
       "</table>\n",
       "</div>"
      ],
      "text/plain": [
       "       X      Y      Z   Dist_c1   Dist_c2\n",
       "0 -0.154  0.376  0.099  0.000000  0.438053\n",
       "1 -0.103  0.476 -0.027  0.168751  0.382999\n",
       "2  0.228  0.036 -0.251  0.619697  0.218881\n",
       "3  0.330  0.013 -0.263  0.705031  0.300740\n",
       "4 -0.114  0.482  0.014  0.141637  0.413637\n",
       "5  0.295  0.084 -0.297  0.666094  0.240028\n",
       "6  0.262  0.042 -0.304  0.668596  0.248704\n",
       "7 -0.051  0.416 -0.306  0.419802  0.278797"
      ]
     },
     "execution_count": 69,
     "metadata": {},
     "output_type": "execute_result"
    }
   ],
   "source": [
    "clustering_3rd = clustering[['X', 'Y', 'Z']].copy()\n",
    "\n",
    "for i, row in new_centroids.iterrows(): \n",
    "    \n",
    "    clustering_3rd[f'Dist_c{i}'] = np.sqrt((clustering_3rd['X'] - row['X'])**2 + (clustering_3rd['Y'] - row['Y'])**2 + (clustering_3rd['Z'] - row['Z'])**2)\n",
    "\n",
    "clustering_3rd"
   ]
  },
  {
   "cell_type": "code",
   "execution_count": null,
   "id": "0aa533b1-d862-44ae-a40e-731f094deef4",
   "metadata": {},
   "outputs": [],
   "source": []
  }
 ],
 "metadata": {
  "kernelspec": {
   "display_name": "Python 3 (ipykernel)",
   "language": "python",
   "name": "python3"
  },
  "language_info": {
   "codemirror_mode": {
    "name": "ipython",
    "version": 3
   },
   "file_extension": ".py",
   "mimetype": "text/x-python",
   "name": "python",
   "nbconvert_exporter": "python",
   "pygments_lexer": "ipython3",
   "version": "3.12.0"
  }
 },
 "nbformat": 4,
 "nbformat_minor": 5
}
