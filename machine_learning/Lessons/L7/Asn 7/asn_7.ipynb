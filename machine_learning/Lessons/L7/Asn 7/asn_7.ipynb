{
 "cells": [
  {
   "cell_type": "markdown",
   "id": "747b1742-f295-4949-8407-5c6059e8a122",
   "metadata": {},
   "source": [
    "# Written Assignment 07\n",
    "*author: Logan Reine*"
   ]
  },
  {
   "cell_type": "markdown",
   "id": "a20b8382-8d97-4a66-9c36-02b76a2ecef2",
   "metadata": {},
   "source": [
    "## Introduction"
   ]
  },
  {
   "cell_type": "markdown",
   "id": "92f27644-b32b-406b-a630-27e93abc1dc1",
   "metadata": {},
   "source": [
    "### `MLequations_v3.ipynb` is a machine learning library of my own making.  All functions and equations used to calculate virtually all answers are defined in the MLequations file.  It will be submitted with this assignment as a `.ipynb` file and a pdf file."
   ]
  },
  {
   "cell_type": "markdown",
   "id": "82bf9ffb-7fea-44dd-8762-8cac07dfb8bc",
   "metadata": {},
   "source": [
    "## Headings"
   ]
  },
  {
   "cell_type": "code",
   "execution_count": 139,
   "id": "1186bf53-0111-4579-881e-80b1d4ea19cc",
   "metadata": {},
   "outputs": [],
   "source": [
    "%run MLequations_v3.ipynb\n",
    "f = lambda x: print(f\"{x}\")"
   ]
  },
  {
   "cell_type": "markdown",
   "id": "d35cf741-eba3-498a-8047-d3d494cde41d",
   "metadata": {},
   "source": [
    "## Data"
   ]
  },
  {
   "cell_type": "code",
   "execution_count": 140,
   "id": "83f77853-914b-48b1-8dd2-99eff9114597",
   "metadata": {},
   "outputs": [],
   "source": [
    "dose = pd.read_csv(\"dose.csv\")\n",
    "heat_load = pd.read_csv(\"heating-load.csv\")\n",
    "k_trick = pd.read_csv(\"kernel-trick.csv\")\n",
    "oxy_consume = pd.read_csv(\"oxygen-consumption.csv\")\n",
    "svm_1 = pd.read_csv(\"svm-1.csv\")\n",
    "svm_2 = pd.read_csv(\"svm-2.csv\")"
   ]
  },
  {
   "cell_type": "markdown",
   "id": "2c5099ef-3bc0-4606-92c3-e257fb518177",
   "metadata": {},
   "source": [
    "# 1 Multivariate Linear Regression Model"
   ]
  },
  {
   "cell_type": "markdown",
   "id": "73acef9a-9bd2-45c3-9964-e5ffcb1fab64",
   "metadata": {},
   "source": [
    "A multivariate linear regression model has been built to predict the heating load in a residential building based on a set of descriptive features describing the characteristics of the building. Heating load is the amount of heat energy required to keep a building at a specified temperature, usually 65 degrees Fahrenheit, during the winter regardless of outside temperature. The descriptive features used are the overall surface area of the building, the height of the building, the area of the building’s roof, and the percentage of wall area in the building that is glazed. This kind of model would be useful to architects or engineers when designing a new building. The trained model is:"
   ]
  },
  {
   "cell_type": "markdown",
   "id": "1bf80272-4374-4463-85db-7f3ce63b210f",
   "metadata": {},
   "source": [
    "    Heating Load​ = -26.030 + 0.0497 × Surface Area + 4.942 × Height - 0.090 × Roof Area + 20.523 × Glazing Area​"
   ]
  },
  {
   "cell_type": "code",
   "execution_count": 141,
   "id": "0e509872-727a-49f4-9377-cc90ca3bae73",
   "metadata": {},
   "outputs": [
    {
     "data": {
      "text/html": [
       "<div>\n",
       "<style scoped>\n",
       "    .dataframe tbody tr th:only-of-type {\n",
       "        vertical-align: middle;\n",
       "    }\n",
       "\n",
       "    .dataframe tbody tr th {\n",
       "        vertical-align: top;\n",
       "    }\n",
       "\n",
       "    .dataframe thead th {\n",
       "        text-align: right;\n",
       "    }\n",
       "</style>\n",
       "<table border=\"1\" class=\"dataframe\">\n",
       "  <thead>\n",
       "    <tr style=\"text-align: right;\">\n",
       "      <th></th>\n",
       "      <th>ID</th>\n",
       "      <th>Surface Area</th>\n",
       "      <th>Height</th>\n",
       "      <th>Roof Area</th>\n",
       "      <th>Glazing Area</th>\n",
       "    </tr>\n",
       "  </thead>\n",
       "  <tbody>\n",
       "    <tr>\n",
       "      <th>0</th>\n",
       "      <td>1</td>\n",
       "      <td>784.0</td>\n",
       "      <td>3.5</td>\n",
       "      <td>220.5</td>\n",
       "      <td>0.25</td>\n",
       "    </tr>\n",
       "    <tr>\n",
       "      <th>1</th>\n",
       "      <td>2</td>\n",
       "      <td>710.5</td>\n",
       "      <td>3.0</td>\n",
       "      <td>210.5</td>\n",
       "      <td>0.10</td>\n",
       "    </tr>\n",
       "    <tr>\n",
       "      <th>2</th>\n",
       "      <td>3</td>\n",
       "      <td>563.5</td>\n",
       "      <td>7.0</td>\n",
       "      <td>122.5</td>\n",
       "      <td>0.40</td>\n",
       "    </tr>\n",
       "    <tr>\n",
       "      <th>3</th>\n",
       "      <td>4</td>\n",
       "      <td>637.0</td>\n",
       "      <td>6.0</td>\n",
       "      <td>147.0</td>\n",
       "      <td>0.60</td>\n",
       "    </tr>\n",
       "  </tbody>\n",
       "</table>\n",
       "</div>"
      ],
      "text/plain": [
       "   ID  Surface Area  Height  Roof Area  Glazing Area\n",
       "0   1         784.0     3.5      220.5          0.25\n",
       "1   2         710.5     3.0      210.5          0.10\n",
       "2   3         563.5     7.0      122.5          0.40\n",
       "3   4         637.0     6.0      147.0          0.60"
      ]
     },
     "execution_count": 141,
     "metadata": {},
     "output_type": "execute_result"
    }
   ],
   "source": [
    "heat_load"
   ]
  },
  {
   "cell_type": "code",
   "execution_count": 142,
   "id": "dd0b0e4b-c431-4e7d-ae2b-4f2321aa2da3",
   "metadata": {},
   "outputs": [
    {
     "name": "stdout",
     "output_type": "stream",
     "text": [
      "\tQuery 1 Prediction: 15.5176\n",
      "\tQuery 2 Prediction: 7.2151\n",
      "\tQuery 3 Prediction: 33.7542\n",
      "\tQuery 4 Prediction: 34.3647\n"
     ]
    }
   ],
   "source": [
    "w = [-26.030, 0.0497, 4.942, -0.090, 20.523]\n",
    "\n",
    "for i in range(len(heat_load)):\n",
    "    d = heat_load.iloc[i, 1:].tolist()\n",
    "    print(f\"\\tQuery {i + 1} Prediction: {multi_reg(w,d):.4f}\")"
   ]
  },
  {
   "cell_type": "markdown",
   "id": "5cb0c013-a5da-449c-b241-0e179dc131bc",
   "metadata": {},
   "source": [
    "# 2 Another Multivariate Linear Regression Model"
   ]
  },
  {
   "cell_type": "markdown",
   "id": "ed42ef63-611d-4ace-a211-bd9b859a2905",
   "metadata": {},
   "source": [
    "You are asked to build a model that predicts the amount of oxygen that an astronaut consumes when performing five minutes of intense physical work. The descriptive features for the model will be the age of the astronaut and their average heart rate throughout the work. The regression model is:"
   ]
  },
  {
   "cell_type": "markdown",
   "id": "33533d18-eccb-4219-a601-83d9845dd2fc",
   "metadata": {},
   "source": [
    "    Oxycon​=w[0] + w[1]⋅Age + w[2]⋅Heart Rate​"
   ]
  },
  {
   "cell_type": "markdown",
   "id": "593e447f-faba-4efb-a2b2-becb79fc8a36",
   "metadata": {},
   "source": [
    "The table below shows a historical dataset that has been collected for this task."
   ]
  },
  {
   "cell_type": "code",
   "execution_count": 143,
   "id": "c08dec93-20c5-4fc5-8b85-393d8237fbb9",
   "metadata": {},
   "outputs": [
    {
     "data": {
      "text/html": [
       "<div>\n",
       "<style scoped>\n",
       "    .dataframe tbody tr th:only-of-type {\n",
       "        vertical-align: middle;\n",
       "    }\n",
       "\n",
       "    .dataframe tbody tr th {\n",
       "        vertical-align: top;\n",
       "    }\n",
       "\n",
       "    .dataframe thead th {\n",
       "        text-align: right;\n",
       "    }\n",
       "</style>\n",
       "<table border=\"1\" class=\"dataframe\">\n",
       "  <thead>\n",
       "    <tr style=\"text-align: right;\">\n",
       "      <th></th>\n",
       "      <th>ID</th>\n",
       "      <th>Oxycon</th>\n",
       "      <th>Age</th>\n",
       "      <th>Heart Rate</th>\n",
       "    </tr>\n",
       "  </thead>\n",
       "  <tbody>\n",
       "    <tr>\n",
       "      <th>0</th>\n",
       "      <td>1</td>\n",
       "      <td>37.99</td>\n",
       "      <td>41</td>\n",
       "      <td>138</td>\n",
       "    </tr>\n",
       "    <tr>\n",
       "      <th>1</th>\n",
       "      <td>2</td>\n",
       "      <td>47.34</td>\n",
       "      <td>42</td>\n",
       "      <td>153</td>\n",
       "    </tr>\n",
       "    <tr>\n",
       "      <th>2</th>\n",
       "      <td>3</td>\n",
       "      <td>44.38</td>\n",
       "      <td>37</td>\n",
       "      <td>151</td>\n",
       "    </tr>\n",
       "    <tr>\n",
       "      <th>3</th>\n",
       "      <td>4</td>\n",
       "      <td>28.17</td>\n",
       "      <td>46</td>\n",
       "      <td>133</td>\n",
       "    </tr>\n",
       "    <tr>\n",
       "      <th>4</th>\n",
       "      <td>5</td>\n",
       "      <td>27.07</td>\n",
       "      <td>48</td>\n",
       "      <td>126</td>\n",
       "    </tr>\n",
       "    <tr>\n",
       "      <th>5</th>\n",
       "      <td>6</td>\n",
       "      <td>37.85</td>\n",
       "      <td>44</td>\n",
       "      <td>145</td>\n",
       "    </tr>\n",
       "    <tr>\n",
       "      <th>6</th>\n",
       "      <td>7</td>\n",
       "      <td>44.72</td>\n",
       "      <td>43</td>\n",
       "      <td>158</td>\n",
       "    </tr>\n",
       "    <tr>\n",
       "      <th>7</th>\n",
       "      <td>8</td>\n",
       "      <td>36.42</td>\n",
       "      <td>46</td>\n",
       "      <td>143</td>\n",
       "    </tr>\n",
       "    <tr>\n",
       "      <th>8</th>\n",
       "      <td>9</td>\n",
       "      <td>31.21</td>\n",
       "      <td>37</td>\n",
       "      <td>138</td>\n",
       "    </tr>\n",
       "    <tr>\n",
       "      <th>9</th>\n",
       "      <td>10</td>\n",
       "      <td>54.85</td>\n",
       "      <td>38</td>\n",
       "      <td>158</td>\n",
       "    </tr>\n",
       "    <tr>\n",
       "      <th>10</th>\n",
       "      <td>11</td>\n",
       "      <td>39.84</td>\n",
       "      <td>43</td>\n",
       "      <td>143</td>\n",
       "    </tr>\n",
       "    <tr>\n",
       "      <th>11</th>\n",
       "      <td>12</td>\n",
       "      <td>30.83</td>\n",
       "      <td>43</td>\n",
       "      <td>138</td>\n",
       "    </tr>\n",
       "  </tbody>\n",
       "</table>\n",
       "</div>"
      ],
      "text/plain": [
       "    ID  Oxycon  Age  Heart Rate\n",
       "0    1   37.99   41         138\n",
       "1    2   47.34   42         153\n",
       "2    3   44.38   37         151\n",
       "3    4   28.17   46         133\n",
       "4    5   27.07   48         126\n",
       "5    6   37.85   44         145\n",
       "6    7   44.72   43         158\n",
       "7    8   36.42   46         143\n",
       "8    9   31.21   37         138\n",
       "9   10   54.85   38         158\n",
       "10  11   39.84   43         143\n",
       "11  12   30.83   43         138"
      ]
     },
     "execution_count": 143,
     "metadata": {},
     "output_type": "execute_result"
    }
   ],
   "source": [
    "oxy_consume"
   ]
  },
  {
   "cell_type": "markdown",
   "id": "883306ca-dccc-44ad-ae56-b36717f9f60d",
   "metadata": {},
   "source": [
    "### a. Assuming that the current weights in a multivariate linear regression model are w[0]= -59.50, w[1] = -0.15, and w[2] = 0.60, make a prediction for each training instance using this model."
   ]
  },
  {
   "cell_type": "code",
   "execution_count": 144,
   "id": "95c5fa7e-d270-49b1-9a7a-e4b70e13bb34",
   "metadata": {
    "scrolled": true
   },
   "outputs": [
    {
     "name": "stdout",
     "output_type": "stream",
     "text": [
      "\tOxycon 1 Prediction: 17.15\n",
      "\tOxycon 2 Prediction: 26.00\n",
      "\tOxycon 3 Prediction: 25.55\n",
      "\tOxycon 4 Prediction: 13.40\n",
      "\tOxycon 5 Prediction: 8.90\n",
      "\tOxycon 6 Prediction: 20.90\n",
      "\tOxycon 7 Prediction: 28.85\n",
      "\tOxycon 8 Prediction: 19.40\n",
      "\tOxycon 9 Prediction: 17.75\n",
      "\tOxycon 10 Prediction: 29.60\n",
      "\tOxycon 11 Prediction: 19.85\n",
      "\tOxycon 12 Prediction: 16.85\n"
     ]
    }
   ],
   "source": [
    "w = [-59.50, -0.15,  0.60]\n",
    "\n",
    "for i in range(len(oxy_consume)):\n",
    "    d = oxy_consume.iloc[i, 2:].tolist()\n",
    "    print(f\"\\tOxycon {i + 1} Prediction: {multi_reg(w,d):.2f}\")"
   ]
  },
  {
   "cell_type": "markdown",
   "id": "8a108335-981f-4e56-a2da-bad5d1086c81",
   "metadata": {},
   "source": [
    "### b. Calculate the sum of squared errors for the set of predictions generated in part (a)."
   ]
  },
  {
   "cell_type": "code",
   "execution_count": 145,
   "id": "396190b1-24b3-4edd-902c-8660d89cba6a",
   "metadata": {},
   "outputs": [
    {
     "name": "stdout",
     "output_type": "stream",
     "text": [
      "\tSum of squared errors: 2017.5932\n"
     ]
    }
   ],
   "source": [
    "t = oxy_consume['Oxycon'].tolist()\n",
    "w = [-59.50, -0.15,  0.60]\n",
    "\n",
    "errors = squared_error_sum(t, w, oxy_consume, 2)\n",
    "\n",
    "print(f\"\\tSum of squared errors: {errors:.4f}\")"
   ]
  },
  {
   "cell_type": "markdown",
   "id": "44c480bc-5eea-4c6a-bb17-00646bd6ff84",
   "metadata": {},
   "source": [
    "### c. Assuming a learning rate of 0.000002, calculate the weights at the next iteration of the gradient descent algorithm."
   ]
  },
  {
   "cell_type": "code",
   "execution_count": 146,
   "id": "2617bc11-cf5f-4f72-a22b-4aea77632bf0",
   "metadata": {},
   "outputs": [
    {
     "name": "stdout",
     "output_type": "stream",
     "text": [
      "\tNew Weight w[0]: -59.49956706\n",
      "\tNew Weight w[1]: -0.13174326\n",
      "\tNew Weight w[2]: 0.66254392\n"
     ]
    }
   ],
   "source": [
    "t = oxy_consume['Oxycon'].tolist()\n",
    "age = oxy_consume['Age'].tolist()\n",
    "rate = oxy_consume['Heart Rate'].tolist()\n",
    "w = [-59.50, -0.15,  0.60]\n",
    "alpha = 0.000002\n",
    "\n",
    "\n",
    "print(f\"\\tNew Weight w[0]: {w[0] + (alpha * error_sum(t, w, oxy_consume, 2))}\")\n",
    "print(f\"\\tNew Weight w[1]: {w[1] + (alpha * error_delta(t, w, age, oxy_consume, 2))}\")\n",
    "print(f\"\\tNew Weight w[2]: {w[2] + (alpha * error_delta(t, w, rate, oxy_consume, 2))}\")"
   ]
  },
  {
   "cell_type": "markdown",
   "id": "17f8641b-0bd8-4de1-bf77-cafe6f4aff48",
   "metadata": {},
   "source": [
    "### d. Calculate the sum of squared errors for a set of predictions generated using the new set of weights calculated in part (c)."
   ]
  },
  {
   "cell_type": "code",
   "execution_count": 147,
   "id": "57023611-250a-4a57-8242-53c4d4309731",
   "metadata": {},
   "outputs": [
    {
     "name": "stdout",
     "output_type": "stream",
     "text": [
      "\tSum of squared errors with new weights: 468.2768\n"
     ]
    }
   ],
   "source": [
    "w = [-59.49956706, -0.13174326, 0.66254392]\n",
    "\n",
    "errors = squared_error_sum(t, w, oxy_consume, 2)\n",
    "\n",
    "print(f\"\\tSum of squared errors with new weights: {errors:.4f}\")"
   ]
  },
  {
   "cell_type": "markdown",
   "id": "2a67280d-f5d0-4a48-b8f8-aa55eedcdcbc",
   "metadata": {},
   "source": [
    "# Logistic Regression Model"
   ]
  },
  {
   "cell_type": "markdown",
   "id": "85aad8be-a561-4d18-8a07-57d762923c50",
   "metadata": {},
   "source": [
    "The effects that can occur when different drugs are taken together can be difficult for doctors to predict. Machine learning models can be built to help predict optimal dosages of drugs so as to achieve a medical practitioner’s goals.26 In the following figure, the image on the left shows a scatter plot of a dataset used to train a model to distinguish between dosages of two drugs that cause a dangerous interaction and those that cause a safe interaction. There are just two continuous features in this dataset, DOSE1 and DOSE2 (both normalized to the range (−1,1)(−1,1) using range normalization), and two target levels, dangerous and safe. In the scatter plot, DOSE1 is shown on the horizontal axis, DOSE2 is shown on the vertical axis, and the shapes of the points represent the target level—crosses represent dangerous interactions and triangles represent safe interactions."
   ]
  },
  {
   "cell_type": "markdown",
   "id": "8d27ebe5-88fe-4abd-a91d-9f7ccdf2ba87",
   "metadata": {},
   "source": [
    "In the preceding figure, the image on the right shows a simple linear logistic regression model trained to perform this task. This model is:\n",
    "\n",
    "P(TYPE = dangerous) = Logistic(0.6168 + 2.7320 ×× DOSE1 + 2.4809 ×× DOSE2)\n",
    "\n",
    "Plainly, this model is not performing well."
   ]
  },
  {
   "cell_type": "markdown",
   "id": "a6e5981f-02fc-4a30-988f-c2a0afc55971",
   "metadata": {},
   "source": [
    "### a. Would the similarity-based, information-based, or probability-based predictive modeling approaches already covered in this book be likely to do a better job of learning this model than the simple linear regression model?"
   ]
  },
  {
   "cell_type": "markdown",
   "id": "7be93e2c-8505-4f45-ba5a-a566e3316192",
   "metadata": {},
   "source": [
    "    similarity-based"
   ]
  },
  {
   "cell_type": "markdown",
   "id": "46aff161-f8c5-4c71-af16-bebbc7684b2d",
   "metadata": {},
   "source": [
    "### b. A simple approach to adapting a logistic regression model to learn this type of decision boundary is to introduce a set of basis functions that will allow a non-linear decision boundary to be learned. In this case, a set of basis functions that generate a cubic decision boundary will work well. An appropriate set of basis functions is as follows:"
   ]
  },
  {
   "cell_type": "markdown",
   "id": "b0fbb48d-1d3a-4e27-b6a6-55c71aeacd96",
   "metadata": {},
   "source": [
    "ϕ0​(⟨ DOSE1 , DOSE2 ⟩)=1  \n",
    "ϕ1​(⟨ DOSE1 ,DOSE2 ⟩)= DOSE1   \n",
    "ϕ2​(⟨ DOSE1 , DOSE2 ⟩)= DOSE2   \n",
    "ϕ3​(⟨ DOSE1 , DOSE2 ⟩)= DOSE1^2  \n",
    "ϕ4​(⟨ DOSE1 , DOSE2 ⟩)=DOSE2^2  \n",
    "ϕ5​(⟨ DOSE1 , DOSE2 ⟩)=DOSE1^3  \n",
    "ϕ6​(⟨ DOSE1 , DOSE2 ⟩)=DOSE2^3  \n",
    "ϕ7​(⟨ DOSE1 , DOSE2 ⟩)= DOSE1 × DOSE2 ​"
   ]
  },
  {
   "cell_type": "markdown",
   "id": "a9d7d54c-6c31-451d-91c7-5dc0405963bd",
   "metadata": {},
   "source": [
    "Training a logistic regression model using this set of basis functions leads to the following model:"
   ]
  },
  {
   "cell_type": "markdown",
   "id": "afe70ea8-2735-45e3-9e0f-810b99f1fdc9",
   "metadata": {},
   "source": [
    "P( TYPE = dangerous )=  \n",
    "Logistic (  \n",
    "−0.848×ϕ0​(⟨ DOSE1, DOSE2 ⟩)  \n",
    "+1.545×ϕ1​(⟨ DOSE1, DOSE2 ⟩)  \n",
    "−1.942×ϕ2​(⟨ DOSE1, DOSE2 ⟩)  \n",
    "+1.973×ϕ3​(⟨ DOSE1, DOSE2 ⟩)  \n",
    "+2.495×ϕ4​(⟨ DOSE1, DOSE2 ⟩)  \n",
    "+0.104×ϕ5​(⟨ DOSE1, DOSE2 ⟩)  \n",
    "+0.095×ϕ6​(⟨ DOSE1, DOSE2 ⟩)  \n",
    "+3.009×ϕ7​(⟨ DOSE1, DOSE2 ⟩)  \n",
    ")​  "
   ]
  },
  {
   "cell_type": "code",
   "execution_count": 148,
   "id": "370498ac-f997-4c14-82e7-3d030383c2b0",
   "metadata": {},
   "outputs": [
    {
     "data": {
      "text/html": [
       "<div>\n",
       "<style scoped>\n",
       "    .dataframe tbody tr th:only-of-type {\n",
       "        vertical-align: middle;\n",
       "    }\n",
       "\n",
       "    .dataframe tbody tr th {\n",
       "        vertical-align: top;\n",
       "    }\n",
       "\n",
       "    .dataframe thead th {\n",
       "        text-align: right;\n",
       "    }\n",
       "</style>\n",
       "<table border=\"1\" class=\"dataframe\">\n",
       "  <thead>\n",
       "    <tr style=\"text-align: right;\">\n",
       "      <th></th>\n",
       "      <th>ID</th>\n",
       "      <th>DOSE1</th>\n",
       "      <th>DOSE2</th>\n",
       "    </tr>\n",
       "  </thead>\n",
       "  <tbody>\n",
       "    <tr>\n",
       "      <th>0</th>\n",
       "      <td>1</td>\n",
       "      <td>0.50</td>\n",
       "      <td>0.75</td>\n",
       "    </tr>\n",
       "    <tr>\n",
       "      <th>1</th>\n",
       "      <td>2</td>\n",
       "      <td>0.10</td>\n",
       "      <td>0.75</td>\n",
       "    </tr>\n",
       "    <tr>\n",
       "      <th>2</th>\n",
       "      <td>3</td>\n",
       "      <td>-0.47</td>\n",
       "      <td>-0.39</td>\n",
       "    </tr>\n",
       "    <tr>\n",
       "      <th>3</th>\n",
       "      <td>4</td>\n",
       "      <td>-0.47</td>\n",
       "      <td>0.18</td>\n",
       "    </tr>\n",
       "  </tbody>\n",
       "</table>\n",
       "</div>"
      ],
      "text/plain": [
       "   ID  DOSE1  DOSE2\n",
       "0   1   0.50   0.75\n",
       "1   2   0.10   0.75\n",
       "2   3  -0.47  -0.39\n",
       "3   4  -0.47   0.18"
      ]
     },
     "execution_count": 148,
     "metadata": {},
     "output_type": "execute_result"
    }
   ],
   "source": [
    "dose"
   ]
  },
  {
   "cell_type": "code",
   "execution_count": 149,
   "id": "f6859358-f8bb-4b4e-9f77-0361f85c0681",
   "metadata": {},
   "outputs": [
    {
     "name": "stdout",
     "output_type": "stream",
     "text": [
      "\tQuery 1 predictions: 0.8244\n",
      "\tQuery 2 predictions: 0.3868\n",
      "\tQuery 3 predictions: 0.6303\n",
      "\tQuery 4 predictions: 0.1582\n"
     ]
    }
   ],
   "source": [
    "w = [-0.848, 1.545, -1.942, 1.973, 2.495, 0.104, 0.095, 3.009]\n",
    "\n",
    "for i in range(len(dose)):\n",
    "    print(f\"\\tQuery {i + 1} predictions: {logistic(w, i, dose):.4f}\")"
   ]
  },
  {
   "cell_type": "markdown",
   "id": "5527a2c8-4d5b-422c-a564-f4a5f9d339b2",
   "metadata": {},
   "source": [
    "# 4 Support Vector Machines"
   ]
  },
  {
   "cell_type": "markdown",
   "id": "46275eaf-8dd5-426f-8943-ba6b8b58829a",
   "metadata": {},
   "source": [
    "A support vector machine has been built to predict whether a patient is at risk of cardiovascular disease. In the dataset used to train the model, there are two target levels —- high risk (the positive level, +1) or low risk (the negative level, -1) —- and three descriptive features —- AGE, BMI, and BLOOD PRESSURE. The support vectors in the trained model are shown in the table below (all descriptive feature values have been standardized)."
   ]
  },
  {
   "cell_type": "code",
   "execution_count": 150,
   "id": "fcacfa44-4eb2-449c-9d37-12c7bf55c29a",
   "metadata": {},
   "outputs": [
    {
     "data": {
      "text/html": [
       "<div>\n",
       "<style scoped>\n",
       "    .dataframe tbody tr th:only-of-type {\n",
       "        vertical-align: middle;\n",
       "    }\n",
       "\n",
       "    .dataframe tbody tr th {\n",
       "        vertical-align: top;\n",
       "    }\n",
       "\n",
       "    .dataframe thead th {\n",
       "        text-align: right;\n",
       "    }\n",
       "</style>\n",
       "<table border=\"1\" class=\"dataframe\">\n",
       "  <thead>\n",
       "    <tr style=\"text-align: right;\">\n",
       "      <th></th>\n",
       "      <th>AGE</th>\n",
       "      <th>BMI</th>\n",
       "      <th>BLOOD PRESSURE</th>\n",
       "      <th>RISK</th>\n",
       "    </tr>\n",
       "  </thead>\n",
       "  <tbody>\n",
       "    <tr>\n",
       "      <th>0</th>\n",
       "      <td>-0.4549</td>\n",
       "      <td>0.0095</td>\n",
       "      <td>0.2203</td>\n",
       "      <td>low risk</td>\n",
       "    </tr>\n",
       "    <tr>\n",
       "      <th>1</th>\n",
       "      <td>-0.2843</td>\n",
       "      <td>-0.5253</td>\n",
       "      <td>0.3668</td>\n",
       "      <td>low risk</td>\n",
       "    </tr>\n",
       "    <tr>\n",
       "      <th>2</th>\n",
       "      <td>0.3729</td>\n",
       "      <td>0.0904</td>\n",
       "      <td>-1.0836</td>\n",
       "      <td>high risk</td>\n",
       "    </tr>\n",
       "    <tr>\n",
       "      <th>3</th>\n",
       "      <td>0.5580</td>\n",
       "      <td>0.2217</td>\n",
       "      <td>0.2115</td>\n",
       "      <td>high risk</td>\n",
       "    </tr>\n",
       "  </tbody>\n",
       "</table>\n",
       "</div>"
      ],
      "text/plain": [
       "      AGE     BMI  BLOOD PRESSURE       RISK\n",
       "0 -0.4549  0.0095          0.2203   low risk\n",
       "1 -0.2843 -0.5253          0.3668   low risk\n",
       "2  0.3729  0.0904         -1.0836  high risk\n",
       "3  0.5580  0.2217          0.2115  high risk"
      ]
     },
     "execution_count": 150,
     "metadata": {},
     "output_type": "execute_result"
    }
   ],
   "source": [
    "svm_1"
   ]
  },
  {
   "cell_type": "code",
   "execution_count": 151,
   "id": "09e8682c-80d8-404e-a080-b5267d7ee87f",
   "metadata": {},
   "outputs": [
    {
     "data": {
      "text/html": [
       "<div>\n",
       "<style scoped>\n",
       "    .dataframe tbody tr th:only-of-type {\n",
       "        vertical-align: middle;\n",
       "    }\n",
       "\n",
       "    .dataframe tbody tr th {\n",
       "        vertical-align: top;\n",
       "    }\n",
       "\n",
       "    .dataframe thead th {\n",
       "        text-align: right;\n",
       "    }\n",
       "</style>\n",
       "<table border=\"1\" class=\"dataframe\">\n",
       "  <thead>\n",
       "    <tr style=\"text-align: right;\">\n",
       "      <th></th>\n",
       "      <th>ID</th>\n",
       "      <th>AGE</th>\n",
       "      <th>BMI</th>\n",
       "      <th>BLOOD PRESSURE</th>\n",
       "    </tr>\n",
       "  </thead>\n",
       "  <tbody>\n",
       "    <tr>\n",
       "      <th>0</th>\n",
       "      <td>1</td>\n",
       "      <td>-0.8945</td>\n",
       "      <td>-0.3459</td>\n",
       "      <td>0.5520</td>\n",
       "    </tr>\n",
       "    <tr>\n",
       "      <th>1</th>\n",
       "      <td>2</td>\n",
       "      <td>0.4571</td>\n",
       "      <td>0.4932</td>\n",
       "      <td>-0.4768</td>\n",
       "    </tr>\n",
       "    <tr>\n",
       "      <th>2</th>\n",
       "      <td>3</td>\n",
       "      <td>-0.3825</td>\n",
       "      <td>-0.6653</td>\n",
       "      <td>0.2855</td>\n",
       "    </tr>\n",
       "    <tr>\n",
       "      <th>3</th>\n",
       "      <td>4</td>\n",
       "      <td>0.7458</td>\n",
       "      <td>0.1253</td>\n",
       "      <td>-0.7986</td>\n",
       "    </tr>\n",
       "  </tbody>\n",
       "</table>\n",
       "</div>"
      ],
      "text/plain": [
       "   ID     AGE     BMI  BLOOD PRESSURE\n",
       "0   1 -0.8945 -0.3459          0.5520\n",
       "1   2  0.4571  0.4932         -0.4768\n",
       "2   3 -0.3825 -0.6653          0.2855\n",
       "3   4  0.7458  0.1253         -0.7986"
      ]
     },
     "execution_count": 151,
     "metadata": {},
     "output_type": "execute_result"
    }
   ],
   "source": [
    "svm_2"
   ]
  },
  {
   "cell_type": "code",
   "execution_count": 152,
   "id": "72a56c36-ad3c-4b17-a7d4-dec30dd7856a",
   "metadata": {},
   "outputs": [
    {
     "name": "stdout",
     "output_type": "stream",
     "text": [
      "\tQuery 1 prediction: -2.1063\n",
      "\tQuery 2 prediction: 1.1684\n",
      "\tQuery 3 prediction: -1.2286\n",
      "\tQuery 4 prediction: 1.6225\n"
     ]
    }
   ],
   "source": [
    "fsvm_1 = format_frame(svm_1,'high risk')\n",
    "\n",
    "alpha = [1.6811, 0.2384, 0.2055, 1.7139]\n",
    "w0 = -0.0216\n",
    "\n",
    "for i in range(len(svm_1)):\n",
    "    \n",
    "    input_vector = svm_2.iloc[i, 1:].tolist()\n",
    "    result = svm(input_vector, fsvm_1, alpha, w0)\n",
    "    \n",
    "    print(f\"\\tQuery {i + 1} prediction: {result:.4f}\")"
   ]
  },
  {
   "cell_type": "markdown",
   "id": "cfbab907-5ca0-41bc-9b10-c85cc8b7ee19",
   "metadata": {},
   "source": [
    "# 5 Efficient Implementation of the SVM Approach"
   ]
  },
  {
   "cell_type": "markdown",
   "id": "85030378-5fdd-4998-b939-f045757d110e",
   "metadata": {},
   "source": [
    "The use of the kernel trick is key in writing efficient implementations of the support vector machine approach to predictive modelling. The kernel trick is based on the fact that the result of a kernel function applied to a support vector and a query instance is equivalent to the result of calculating the dot product between the support vector and the query instance after a specific set of basis functions have been applied to both —- in other words, kernel(d, q) = ϕ(d) ⋅ ϕ(q)"
   ]
  },
  {
   "cell_type": "markdown",
   "id": "c13ad7bf-5340-4860-9def-e34d0e07406a",
   "metadata": {},
   "source": [
    "### a. Using the support vector ⟨d[1], d[2]⟩ and the query instance ⟨q[1], q[2]⟩ as examples, show that applying a polynomial kernel with p=2, kernel(d,q) = (d⋅q+1)^2, is equivalent to calculating the dot product of the support vector and query instance after applying the following set of basis functions:  "
   ]
  },
  {
   "cell_type": "markdown",
   "id": "b5fe694d-6424-40da-bbb1-63ce940f81d5",
   "metadata": {},
   "source": [
    "ϕ0​(⟨ d[1], d[2] ⟩) = d[1]^2  \n",
    "ϕ1​(⟨ d[1], d[2] ⟩) = d[2]^2  \n",
    "ϕ2​(⟨ d[1], d[2] ⟩) = sqrt(2) × d[1] × d[2]  \n",
    "ϕ3​(⟨ d[1], d[2] ⟩) = sqrt(2) × d[1]  \n",
    "ϕ4(⟨ d[1], d[2] ⟩) = sqrt(2) x d[2]  \n",
    "ϕ5(⟨ d[1], d[2] ⟩) = 1"
   ]
  },
  {
   "cell_type": "markdown",
   "id": "63891c17-0637-480a-9bfa-471242980bfc",
   "metadata": {},
   "source": [
    "    After expanding and reducing both the polynomial kernel formula and the product of the support vector and query instance after applying the following set of basis functions, the result is identical.  The answers in part d showcase how the different methods reduce to the same result."
   ]
  },
  {
   "cell_type": "markdown",
   "id": "b97118ac-ea03-4921-b45c-6bab38528045",
   "metadata": {},
   "source": [
    "### b. A support vector machine model has been trained to distinguish between dosages of two drugs that cause a dangerous interaction and those that interact safely. This model uses just two continuous features, DOSE1 and DOSE2, and two target levels, dangerous (the positive level, +1 ) and safe (the negative level, -1). The support vectors in the trained model are shown in the following table."
   ]
  },
  {
   "cell_type": "code",
   "execution_count": 153,
   "id": "b9c7a8b5-9864-449b-a779-47398d44e1ad",
   "metadata": {},
   "outputs": [
    {
     "data": {
      "text/html": [
       "<div>\n",
       "<style scoped>\n",
       "    .dataframe tbody tr th:only-of-type {\n",
       "        vertical-align: middle;\n",
       "    }\n",
       "\n",
       "    .dataframe tbody tr th {\n",
       "        vertical-align: top;\n",
       "    }\n",
       "\n",
       "    .dataframe thead th {\n",
       "        text-align: right;\n",
       "    }\n",
       "</style>\n",
       "<table border=\"1\" class=\"dataframe\">\n",
       "  <thead>\n",
       "    <tr style=\"text-align: right;\">\n",
       "      <th></th>\n",
       "      <th>DOSE1</th>\n",
       "      <th>DOSE2</th>\n",
       "      <th>CLASS</th>\n",
       "    </tr>\n",
       "  </thead>\n",
       "  <tbody>\n",
       "    <tr>\n",
       "      <th>0</th>\n",
       "      <td>0.2351</td>\n",
       "      <td>0.4016</td>\n",
       "      <td>1</td>\n",
       "    </tr>\n",
       "    <tr>\n",
       "      <th>1</th>\n",
       "      <td>-0.1764</td>\n",
       "      <td>-0.1916</td>\n",
       "      <td>1</td>\n",
       "    </tr>\n",
       "    <tr>\n",
       "      <th>2</th>\n",
       "      <td>0.3057</td>\n",
       "      <td>-0.9394</td>\n",
       "      <td>-1</td>\n",
       "    </tr>\n",
       "    <tr>\n",
       "      <th>3</th>\n",
       "      <td>0.5590</td>\n",
       "      <td>0.6353</td>\n",
       "      <td>-1</td>\n",
       "    </tr>\n",
       "    <tr>\n",
       "      <th>4</th>\n",
       "      <td>-0.6600</td>\n",
       "      <td>-0.1175</td>\n",
       "      <td>-1</td>\n",
       "    </tr>\n",
       "  </tbody>\n",
       "</table>\n",
       "</div>"
      ],
      "text/plain": [
       "    DOSE1   DOSE2  CLASS\n",
       "0  0.2351  0.4016      1\n",
       "1 -0.1764 -0.1916      1\n",
       "2  0.3057 -0.9394     -1\n",
       "3  0.5590  0.6353     -1\n",
       "4 -0.6600 -0.1175     -1"
      ]
     },
     "execution_count": 153,
     "metadata": {},
     "output_type": "execute_result"
    }
   ],
   "source": [
    "k_trick"
   ]
  },
  {
   "cell_type": "markdown",
   "id": "ca8af492-3dd3-4f04-a5b8-b8ee934f789b",
   "metadata": {},
   "source": [
    "In the trained model the value of w0​ is 0.3074, and the values of the α parameters are ⟨7.1655, 6.9060, 2.0033, 6.1144, 5.9538⟩.\n",
    "\n",
    "Using the version of the support vector machine prediction model that uses basis functions (see the Equation below) with the basis functions given in Part (a), calculate the output of the model for a query instance with DOSE1 = 0.90 and DOSE2 = −0.90.\n",
    "\n",
    "Mα,ϕ,w0(q) = ∑(ti × α[i] × (ϕ(di) ⋅ ϕ(q)) + w0)"
   ]
  },
  {
   "cell_type": "markdown",
   "id": "42a40f77-df8a-435c-85eb-3ecd71e71f6b",
   "metadata": {},
   "source": [
    "ϕ0​(⟨ d[1], d[2] ⟩) = d[1]^2  \n",
    "ϕ1​(⟨ d[1], d[2] ⟩) = d[2]^2  \n",
    "ϕ2​(⟨ d[1], d[2] ⟩) = sqrt(2) × d[1] × d[2]  \n",
    "ϕ3​(⟨ d[1], d[2] ⟩) = sqrt(2) × d[1]  \n",
    "ϕ4(⟨ d[1], d[2] ⟩) = sqrt(2) x d[2]  \n",
    "ϕ5(⟨ d[1], d[2] ⟩) = 1  "
   ]
  },
  {
   "cell_type": "code",
   "execution_count": 154,
   "id": "0f06f244-b132-40d1-8855-789a178ee89e",
   "metadata": {},
   "outputs": [
    {
     "name": "stdout",
     "output_type": "stream",
     "text": [
      "\tPrediction using basis functions: -3.0194\n"
     ]
    }
   ],
   "source": [
    "w0 = 0.3074\n",
    "alpha = [7.1655, 6.9060, 2.0033, 6.1144, 5.9538]\n",
    "q = [0.90, -0.90]\n",
    "t = k_trick['CLASS'].tolist()\n",
    "\n",
    "result = svm_basis(t, q, k_trick, alpha, w0, 0, 2)\n",
    "\n",
    "print(f\"\\tPrediction using basis functions: {result:.4f}\")"
   ]
  },
  {
   "cell_type": "markdown",
   "id": "349372f5-fcd7-4444-84bd-108a0de8cb7c",
   "metadata": {},
   "source": [
    "### c. Using the version of the support vector machine prediction model that uses a kernel function (see the Equation below) with the polynomial kernel function, calculate the output of the model for a query instance with DOSE1 = 0.22 and DOSE2 = 0.16."
   ]
  },
  {
   "cell_type": "markdown",
   "id": "368b92e3-4da2-46fa-97de-541e9114259c",
   "metadata": {},
   "source": [
    "Mα,kernel,w0​​(q)=∑​(ti ​× α[i] × kernel(di​,q) + w0​)"
   ]
  },
  {
   "cell_type": "code",
   "execution_count": 155,
   "id": "b9259d57-faf5-42f9-b010-155f7a7999f5",
   "metadata": {},
   "outputs": [
    {
     "name": "stdout",
     "output_type": "stream",
     "text": [
      "\tPrediction using kernel trick: 1.5064\n"
     ]
    }
   ],
   "source": [
    "q = [0.22, 0.16]\n",
    "\n",
    "result = svm_kernel(t, q, k_trick, alpha, w0, 0, 2)\n",
    "\n",
    "print(f\"\\tPrediction using kernel trick: {result:.4f}\")"
   ]
  },
  {
   "cell_type": "markdown",
   "id": "508b188b-cef4-4d1a-a0ff-742d095de795",
   "metadata": {},
   "source": [
    "### d. Verify that the answers calculated in Parts (b) and (c) of this question would have been the same if the alternative approach (basis functions or the polynomial kernel function) had been used in each case."
   ]
  },
  {
   "cell_type": "code",
   "execution_count": 156,
   "id": "ca5a9c91-4d16-459b-b3d7-e253f9e42d5c",
   "metadata": {},
   "outputs": [
    {
     "name": "stdout",
     "output_type": "stream",
     "text": [
      "\tPrediction using kernel trick part b: -3.9188\n",
      "\tPrediction using basis functions part c: 7.7295\n"
     ]
    }
   ],
   "source": [
    "q = [0.90, -0.90]\n",
    "result = svm_kernel(t, q, k_trick, alpha, w0, 0, 2)\n",
    "print(f\"\\tPrediction using kernel trick part b: {result:.4f}\")\n",
    "\n",
    "q = [0.22, 0.16]\n",
    "result = svm_basis(t, q, k_trick, alpha, w0, 0, 2)\n",
    "print(f\"\\tPrediction using basis functions part c: {result:.4f}\")"
   ]
  }
 ],
 "metadata": {
  "kernelspec": {
   "display_name": "Python 3 (ipykernel)",
   "language": "python",
   "name": "python3"
  },
  "language_info": {
   "codemirror_mode": {
    "name": "ipython",
    "version": 3
   },
   "file_extension": ".py",
   "mimetype": "text/x-python",
   "name": "python",
   "nbconvert_exporter": "python",
   "pygments_lexer": "ipython3",
   "version": "3.12.0"
  }
 },
 "nbformat": 4,
 "nbformat_minor": 5
}
