{
 "cells": [
  {
   "cell_type": "markdown",
   "id": "15a9efc3-46a9-4d34-9aab-c60d1ab03fa0",
   "metadata": {},
   "source": [
    "# Written Assignment 07\n",
    "*author: Logan Reine*"
   ]
  },
  {
   "cell_type": "markdown",
   "id": "91c650ee-a089-43a3-8b78-522582d0a412",
   "metadata": {},
   "source": [
    "## Introduction"
   ]
  },
  {
   "cell_type": "markdown",
   "id": "ac4a9ce1-f64c-4dc8-a174-b16299ecaa06",
   "metadata": {},
   "source": [
    "### `MLequations_v3.ipynb` is a machine learning library of my own making.  All functions and equations used to calculate virtually all answers are defined in the MLequations file.  It will be submitted with this assignment as a `.ipynb` file and a pdf file."
   ]
  },
  {
   "cell_type": "markdown",
   "id": "9b4b1015-f0a9-4c92-aee1-f6b609fe822e",
   "metadata": {},
   "source": [
    "## Headings"
   ]
  },
  {
   "cell_type": "code",
   "execution_count": 5,
   "id": "37104e98-8671-433c-ae8e-1f9b70b4e4e9",
   "metadata": {},
   "outputs": [],
   "source": [
    "%run MLequations_v3.ipynb"
   ]
  },
  {
   "cell_type": "markdown",
   "id": "3f4a4ec8-1a00-47a0-8cb6-4170b928f5e2",
   "metadata": {},
   "source": [
    "## Data"
   ]
  },
  {
   "cell_type": "code",
   "execution_count": 8,
   "id": "9a767ecd-c36a-47ab-ac3a-271f005ce002",
   "metadata": {},
   "outputs": [],
   "source": [
    "cat_target = pd.read_csv(\"categorical-target.csv\")\n",
    "con_target = pd.read_csv(\"continuous-target 2.csv\")"
   ]
  },
  {
   "cell_type": "markdown",
   "id": "09fbcf9b-e06a-4548-9948-a698c2fab4c6",
   "metadata": {},
   "source": [
    "# 1 Basic Evaluation Measures - Categorical Target"
   ]
  },
  {
   "cell_type": "markdown",
   "id": "fa11e4f5-512f-4e9a-83d3-3a72a76304f0",
   "metadata": {},
   "source": [
    "The table below shows the predictions made for a **categorical target feature** by a model for a test dataset."
   ]
  },
  {
   "cell_type": "code",
   "execution_count": 9,
   "id": "4e5c4cd2-5e59-4c65-b0e6-7a87e0d3c543",
   "metadata": {},
   "outputs": [
    {
     "data": {
      "text/html": [
       "<div>\n",
       "<style scoped>\n",
       "    .dataframe tbody tr th:only-of-type {\n",
       "        vertical-align: middle;\n",
       "    }\n",
       "\n",
       "    .dataframe tbody tr th {\n",
       "        vertical-align: top;\n",
       "    }\n",
       "\n",
       "    .dataframe thead th {\n",
       "        text-align: right;\n",
       "    }\n",
       "</style>\n",
       "<table border=\"1\" class=\"dataframe\">\n",
       "  <thead>\n",
       "    <tr style=\"text-align: right;\">\n",
       "      <th></th>\n",
       "      <th>ID</th>\n",
       "      <th>Target</th>\n",
       "      <th>Prediction</th>\n",
       "    </tr>\n",
       "  </thead>\n",
       "  <tbody>\n",
       "    <tr>\n",
       "      <th>0</th>\n",
       "      <td>1</td>\n",
       "      <td>False</td>\n",
       "      <td>False</td>\n",
       "    </tr>\n",
       "    <tr>\n",
       "      <th>1</th>\n",
       "      <td>2</td>\n",
       "      <td>False</td>\n",
       "      <td>False</td>\n",
       "    </tr>\n",
       "    <tr>\n",
       "      <th>2</th>\n",
       "      <td>3</td>\n",
       "      <td>False</td>\n",
       "      <td>False</td>\n",
       "    </tr>\n",
       "    <tr>\n",
       "      <th>3</th>\n",
       "      <td>4</td>\n",
       "      <td>False</td>\n",
       "      <td>False</td>\n",
       "    </tr>\n",
       "    <tr>\n",
       "      <th>4</th>\n",
       "      <td>5</td>\n",
       "      <td>True</td>\n",
       "      <td>True</td>\n",
       "    </tr>\n",
       "    <tr>\n",
       "      <th>5</th>\n",
       "      <td>6</td>\n",
       "      <td>False</td>\n",
       "      <td>False</td>\n",
       "    </tr>\n",
       "    <tr>\n",
       "      <th>6</th>\n",
       "      <td>7</td>\n",
       "      <td>True</td>\n",
       "      <td>True</td>\n",
       "    </tr>\n",
       "    <tr>\n",
       "      <th>7</th>\n",
       "      <td>8</td>\n",
       "      <td>True</td>\n",
       "      <td>True</td>\n",
       "    </tr>\n",
       "    <tr>\n",
       "      <th>8</th>\n",
       "      <td>9</td>\n",
       "      <td>False</td>\n",
       "      <td>False</td>\n",
       "    </tr>\n",
       "    <tr>\n",
       "      <th>9</th>\n",
       "      <td>10</td>\n",
       "      <td>False</td>\n",
       "      <td>False</td>\n",
       "    </tr>\n",
       "    <tr>\n",
       "      <th>10</th>\n",
       "      <td>11</td>\n",
       "      <td>False</td>\n",
       "      <td>False</td>\n",
       "    </tr>\n",
       "    <tr>\n",
       "      <th>11</th>\n",
       "      <td>12</td>\n",
       "      <td>True</td>\n",
       "      <td>True</td>\n",
       "    </tr>\n",
       "    <tr>\n",
       "      <th>12</th>\n",
       "      <td>13</td>\n",
       "      <td>False</td>\n",
       "      <td>False</td>\n",
       "    </tr>\n",
       "    <tr>\n",
       "      <th>13</th>\n",
       "      <td>14</td>\n",
       "      <td>True</td>\n",
       "      <td>True</td>\n",
       "    </tr>\n",
       "    <tr>\n",
       "      <th>14</th>\n",
       "      <td>15</td>\n",
       "      <td>False</td>\n",
       "      <td>False</td>\n",
       "    </tr>\n",
       "    <tr>\n",
       "      <th>15</th>\n",
       "      <td>16</td>\n",
       "      <td>False</td>\n",
       "      <td>False</td>\n",
       "    </tr>\n",
       "    <tr>\n",
       "      <th>16</th>\n",
       "      <td>17</td>\n",
       "      <td>True</td>\n",
       "      <td>False</td>\n",
       "    </tr>\n",
       "    <tr>\n",
       "      <th>17</th>\n",
       "      <td>18</td>\n",
       "      <td>True</td>\n",
       "      <td>True</td>\n",
       "    </tr>\n",
       "    <tr>\n",
       "      <th>18</th>\n",
       "      <td>19</td>\n",
       "      <td>True</td>\n",
       "      <td>True</td>\n",
       "    </tr>\n",
       "    <tr>\n",
       "      <th>19</th>\n",
       "      <td>20</td>\n",
       "      <td>True</td>\n",
       "      <td>True</td>\n",
       "    </tr>\n",
       "  </tbody>\n",
       "</table>\n",
       "</div>"
      ],
      "text/plain": [
       "    ID  Target  Prediction\n",
       "0    1   False       False\n",
       "1    2   False       False\n",
       "2    3   False       False\n",
       "3    4   False       False\n",
       "4    5    True        True\n",
       "5    6   False       False\n",
       "6    7    True        True\n",
       "7    8    True        True\n",
       "8    9   False       False\n",
       "9   10   False       False\n",
       "10  11   False       False\n",
       "11  12    True        True\n",
       "12  13   False       False\n",
       "13  14    True        True\n",
       "14  15   False       False\n",
       "15  16   False       False\n",
       "16  17    True       False\n",
       "17  18    True        True\n",
       "18  19    True        True\n",
       "19  20    True        True"
      ]
     },
     "execution_count": 9,
     "metadata": {},
     "output_type": "execute_result"
    }
   ],
   "source": [
    "cat_target"
   ]
  },
  {
   "cell_type": "markdown",
   "id": "a2d98b13-9ce7-4b29-9448-11f320f36152",
   "metadata": {},
   "source": [
    "Based on this test set, calculate the following evaluation measures."
   ]
  },
  {
   "cell_type": "markdown",
   "id": "399dea7b-c5de-424b-91ad-9e48ba76bf19",
   "metadata": {},
   "source": [
    "### a. A confusion matrix and the misclassification rate"
   ]
  },
  {
   "cell_type": "code",
   "execution_count": 15,
   "id": "4df3ae00-3b1c-4bb5-95e1-fde1887a363e",
   "metadata": {},
   "outputs": [
    {
     "name": "stdout",
     "output_type": "stream",
     "text": [
      "Misclassification Rate: 0.05\n"
     ]
    }
   ],
   "source": [
    "print(f'Misclassification Rate: {mis_rate(cat_target['Target'], cat_target['Prediction'])}')"
   ]
  },
  {
   "cell_type": "code",
   "execution_count": 16,
   "id": "cd2ab603-8c43-4d01-8274-6cdf2b52e0ae",
   "metadata": {},
   "outputs": [
    {
     "data": {
      "text/html": [
       "<div>\n",
       "<style scoped>\n",
       "    .dataframe tbody tr th:only-of-type {\n",
       "        vertical-align: middle;\n",
       "    }\n",
       "\n",
       "    .dataframe tbody tr th {\n",
       "        vertical-align: top;\n",
       "    }\n",
       "\n",
       "    .dataframe thead th {\n",
       "        text-align: right;\n",
       "    }\n",
       "</style>\n",
       "<table border=\"1\" class=\"dataframe\">\n",
       "  <thead>\n",
       "    <tr style=\"text-align: right;\">\n",
       "      <th></th>\n",
       "      <th>Positive</th>\n",
       "      <th>Negative</th>\n",
       "    </tr>\n",
       "  </thead>\n",
       "  <tbody>\n",
       "    <tr>\n",
       "      <th>Positive</th>\n",
       "      <td>8</td>\n",
       "      <td>1</td>\n",
       "    </tr>\n",
       "    <tr>\n",
       "      <th>Negative</th>\n",
       "      <td>0</td>\n",
       "      <td>11</td>\n",
       "    </tr>\n",
       "  </tbody>\n",
       "</table>\n",
       "</div>"
      ],
      "text/plain": [
       "          Positive  Negative\n",
       "Positive         8         1\n",
       "Negative         0        11"
      ]
     },
     "execution_count": 16,
     "metadata": {},
     "output_type": "execute_result"
    }
   ],
   "source": [
    "con_matrix(cat_target['Target'], cat_target['Prediction'])"
   ]
  },
  {
   "cell_type": "markdown",
   "id": "6be34c17-4bb5-4dfc-8882-5b596602b91b",
   "metadata": {},
   "source": [
    "### b. The average class accuracy (harmonic mean)"
   ]
  },
  {
   "cell_type": "code",
   "execution_count": 17,
   "id": "5b9c1ecd-77c8-46ef-844a-89b83adb5baa",
   "metadata": {},
   "outputs": [
    {
     "name": "stdout",
     "output_type": "stream",
     "text": [
      "Harmonic Mean: 0.9412\n"
     ]
    }
   ],
   "source": [
    "print(f'Harmonic Mean: {harmonic_mean(cat_target['Target'], cat_target['Prediction']):.4f}')"
   ]
  },
  {
   "cell_type": "markdown",
   "id": "1e550477-abc5-47d7-bd80-5993e1bbee0c",
   "metadata": {},
   "source": [
    "### c. The precision, recall, and F1​ measure"
   ]
  },
  {
   "cell_type": "code",
   "execution_count": 26,
   "id": "3db31a91-feba-46ae-82ca-edefd236038d",
   "metadata": {},
   "outputs": [
    {
     "name": "stdout",
     "output_type": "stream",
     "text": [
      "Precision: 1.0000\n",
      "Recall: 0.8889\n",
      "F1 Measure: 0.9412\n"
     ]
    }
   ],
   "source": [
    "print(f'Precision: {recall(8, 0):.4f}\\nRecall: {recall(8, 1):.4f}\\nF1 Measure: {f1(cat_target['Target'], cat_target['Prediction']):.4f}')"
   ]
  },
  {
   "cell_type": "markdown",
   "id": "57194301-5c2d-4d8e-bb4f-081be397ac8d",
   "metadata": {},
   "source": [
    "# 2 Basic Evaluation Measures - Continuous Target"
   ]
  },
  {
   "cell_type": "markdown",
   "id": "080fbb4f-ebe0-4272-a451-63037505333b",
   "metadata": {},
   "source": [
    "The table below shows the predictions made for a **continuous target feature** by two different prediction models for a test dataset."
   ]
  },
  {
   "cell_type": "code",
   "execution_count": 27,
   "id": "cea7c9d0-d0d1-45d4-841e-356b519aef1f",
   "metadata": {},
   "outputs": [
    {
     "data": {
      "text/html": [
       "<div>\n",
       "<style scoped>\n",
       "    .dataframe tbody tr th:only-of-type {\n",
       "        vertical-align: middle;\n",
       "    }\n",
       "\n",
       "    .dataframe tbody tr th {\n",
       "        vertical-align: top;\n",
       "    }\n",
       "\n",
       "    .dataframe thead th {\n",
       "        text-align: right;\n",
       "    }\n",
       "</style>\n",
       "<table border=\"1\" class=\"dataframe\">\n",
       "  <thead>\n",
       "    <tr style=\"text-align: right;\">\n",
       "      <th></th>\n",
       "      <th>ID</th>\n",
       "      <th>Target</th>\n",
       "      <th>Model 1 Prediction</th>\n",
       "      <th>Model 2 Prediction</th>\n",
       "    </tr>\n",
       "  </thead>\n",
       "  <tbody>\n",
       "    <tr>\n",
       "      <th>0</th>\n",
       "      <td>1</td>\n",
       "      <td>2623</td>\n",
       "      <td>2664</td>\n",
       "      <td>2691</td>\n",
       "    </tr>\n",
       "    <tr>\n",
       "      <th>1</th>\n",
       "      <td>2</td>\n",
       "      <td>2423</td>\n",
       "      <td>2436</td>\n",
       "      <td>2367</td>\n",
       "    </tr>\n",
       "    <tr>\n",
       "      <th>2</th>\n",
       "      <td>3</td>\n",
       "      <td>2423</td>\n",
       "      <td>2399</td>\n",
       "      <td>2412</td>\n",
       "    </tr>\n",
       "    <tr>\n",
       "      <th>3</th>\n",
       "      <td>4</td>\n",
       "      <td>2448</td>\n",
       "      <td>2447</td>\n",
       "      <td>2440</td>\n",
       "    </tr>\n",
       "    <tr>\n",
       "      <th>4</th>\n",
       "      <td>5</td>\n",
       "      <td>2762</td>\n",
       "      <td>2847</td>\n",
       "      <td>2693</td>\n",
       "    </tr>\n",
       "    <tr>\n",
       "      <th>5</th>\n",
       "      <td>6</td>\n",
       "      <td>2435</td>\n",
       "      <td>2411</td>\n",
       "      <td>2493</td>\n",
       "    </tr>\n",
       "    <tr>\n",
       "      <th>6</th>\n",
       "      <td>7</td>\n",
       "      <td>2519</td>\n",
       "      <td>2516</td>\n",
       "      <td>2598</td>\n",
       "    </tr>\n",
       "    <tr>\n",
       "      <th>7</th>\n",
       "      <td>8</td>\n",
       "      <td>2772</td>\n",
       "      <td>2870</td>\n",
       "      <td>2814</td>\n",
       "    </tr>\n",
       "    <tr>\n",
       "      <th>8</th>\n",
       "      <td>9</td>\n",
       "      <td>2601</td>\n",
       "      <td>2586</td>\n",
       "      <td>2583</td>\n",
       "    </tr>\n",
       "    <tr>\n",
       "      <th>9</th>\n",
       "      <td>10</td>\n",
       "      <td>2422</td>\n",
       "      <td>2414</td>\n",
       "      <td>2485</td>\n",
       "    </tr>\n",
       "    <tr>\n",
       "      <th>10</th>\n",
       "      <td>11</td>\n",
       "      <td>2349</td>\n",
       "      <td>2407</td>\n",
       "      <td>2472</td>\n",
       "    </tr>\n",
       "    <tr>\n",
       "      <th>11</th>\n",
       "      <td>12</td>\n",
       "      <td>2515</td>\n",
       "      <td>2505</td>\n",
       "      <td>2584</td>\n",
       "    </tr>\n",
       "    <tr>\n",
       "      <th>12</th>\n",
       "      <td>13</td>\n",
       "      <td>2548</td>\n",
       "      <td>2581</td>\n",
       "      <td>2604</td>\n",
       "    </tr>\n",
       "    <tr>\n",
       "      <th>13</th>\n",
       "      <td>14</td>\n",
       "      <td>2281</td>\n",
       "      <td>2277</td>\n",
       "      <td>2309</td>\n",
       "    </tr>\n",
       "    <tr>\n",
       "      <th>14</th>\n",
       "      <td>15</td>\n",
       "      <td>2295</td>\n",
       "      <td>2280</td>\n",
       "      <td>2296</td>\n",
       "    </tr>\n",
       "    <tr>\n",
       "      <th>15</th>\n",
       "      <td>16</td>\n",
       "      <td>2570</td>\n",
       "      <td>2577</td>\n",
       "      <td>2612</td>\n",
       "    </tr>\n",
       "    <tr>\n",
       "      <th>16</th>\n",
       "      <td>17</td>\n",
       "      <td>2528</td>\n",
       "      <td>2510</td>\n",
       "      <td>2557</td>\n",
       "    </tr>\n",
       "    <tr>\n",
       "      <th>17</th>\n",
       "      <td>18</td>\n",
       "      <td>2342</td>\n",
       "      <td>2381</td>\n",
       "      <td>2421</td>\n",
       "    </tr>\n",
       "    <tr>\n",
       "      <th>18</th>\n",
       "      <td>19</td>\n",
       "      <td>2456</td>\n",
       "      <td>2452</td>\n",
       "      <td>2393</td>\n",
       "    </tr>\n",
       "    <tr>\n",
       "      <th>19</th>\n",
       "      <td>20</td>\n",
       "      <td>2451</td>\n",
       "      <td>2437</td>\n",
       "      <td>2479</td>\n",
       "    </tr>\n",
       "    <tr>\n",
       "      <th>20</th>\n",
       "      <td>21</td>\n",
       "      <td>2296</td>\n",
       "      <td>2307</td>\n",
       "      <td>2290</td>\n",
       "    </tr>\n",
       "    <tr>\n",
       "      <th>21</th>\n",
       "      <td>22</td>\n",
       "      <td>2405</td>\n",
       "      <td>2355</td>\n",
       "      <td>2490</td>\n",
       "    </tr>\n",
       "    <tr>\n",
       "      <th>22</th>\n",
       "      <td>23</td>\n",
       "      <td>2389</td>\n",
       "      <td>2418</td>\n",
       "      <td>2346</td>\n",
       "    </tr>\n",
       "    <tr>\n",
       "      <th>23</th>\n",
       "      <td>24</td>\n",
       "      <td>2629</td>\n",
       "      <td>2582</td>\n",
       "      <td>2647</td>\n",
       "    </tr>\n",
       "    <tr>\n",
       "      <th>24</th>\n",
       "      <td>25</td>\n",
       "      <td>2584</td>\n",
       "      <td>2564</td>\n",
       "      <td>2546</td>\n",
       "    </tr>\n",
       "    <tr>\n",
       "      <th>25</th>\n",
       "      <td>26</td>\n",
       "      <td>2658</td>\n",
       "      <td>2662</td>\n",
       "      <td>2759</td>\n",
       "    </tr>\n",
       "    <tr>\n",
       "      <th>26</th>\n",
       "      <td>27</td>\n",
       "      <td>2482</td>\n",
       "      <td>2492</td>\n",
       "      <td>2463</td>\n",
       "    </tr>\n",
       "    <tr>\n",
       "      <th>27</th>\n",
       "      <td>28</td>\n",
       "      <td>2471</td>\n",
       "      <td>2478</td>\n",
       "      <td>2403</td>\n",
       "    </tr>\n",
       "    <tr>\n",
       "      <th>28</th>\n",
       "      <td>29</td>\n",
       "      <td>2605</td>\n",
       "      <td>2620</td>\n",
       "      <td>2645</td>\n",
       "    </tr>\n",
       "    <tr>\n",
       "      <th>29</th>\n",
       "      <td>30</td>\n",
       "      <td>2442</td>\n",
       "      <td>2445</td>\n",
       "      <td>2478</td>\n",
       "    </tr>\n",
       "  </tbody>\n",
       "</table>\n",
       "</div>"
      ],
      "text/plain": [
       "    ID  Target  Model 1 Prediction  Model 2 Prediction\n",
       "0    1    2623                2664                2691\n",
       "1    2    2423                2436                2367\n",
       "2    3    2423                2399                2412\n",
       "3    4    2448                2447                2440\n",
       "4    5    2762                2847                2693\n",
       "5    6    2435                2411                2493\n",
       "6    7    2519                2516                2598\n",
       "7    8    2772                2870                2814\n",
       "8    9    2601                2586                2583\n",
       "9   10    2422                2414                2485\n",
       "10  11    2349                2407                2472\n",
       "11  12    2515                2505                2584\n",
       "12  13    2548                2581                2604\n",
       "13  14    2281                2277                2309\n",
       "14  15    2295                2280                2296\n",
       "15  16    2570                2577                2612\n",
       "16  17    2528                2510                2557\n",
       "17  18    2342                2381                2421\n",
       "18  19    2456                2452                2393\n",
       "19  20    2451                2437                2479\n",
       "20  21    2296                2307                2290\n",
       "21  22    2405                2355                2490\n",
       "22  23    2389                2418                2346\n",
       "23  24    2629                2582                2647\n",
       "24  25    2584                2564                2546\n",
       "25  26    2658                2662                2759\n",
       "26  27    2482                2492                2463\n",
       "27  28    2471                2478                2403\n",
       "28  29    2605                2620                2645\n",
       "29  30    2442                2445                2478"
      ]
     },
     "execution_count": 27,
     "metadata": {},
     "output_type": "execute_result"
    }
   ],
   "source": [
    "con_target"
   ]
  },
  {
   "cell_type": "markdown",
   "id": "1b0fbb63-4c97-4f0e-bac7-94d5b8e132b3",
   "metadata": {},
   "source": [
    "### a. Based on these predictions, calculate the evaluation measures listed below for each model."
   ]
  },
  {
   "cell_type": "markdown",
   "id": "38d5c379-cea7-40a5-bd10-0eae72616472",
   "metadata": {},
   "source": [
    "i. The sum of squared errors"
   ]
  },
  {
   "cell_type": "code",
   "execution_count": 57,
   "id": "ad9817eb-0d4a-4734-bfb2-b80b715d11c7",
   "metadata": {},
   "outputs": [
    {
     "name": "stdout",
     "output_type": "stream",
     "text": [
      "Model 1 Squared Error: 16750.0\n"
     ]
    }
   ],
   "source": [
    "print(f'Model 1 Squared Error: {squared_error(con_target['Target'], con_target['Model 1 Prediction'])}')"
   ]
  },
  {
   "cell_type": "code",
   "execution_count": 58,
   "id": "bed9dce3-202d-4638-8fc7-e2e1608e11f3",
   "metadata": {},
   "outputs": [
    {
     "name": "stdout",
     "output_type": "stream",
     "text": [
      "Model 2 Squared Error: 47369.0\n"
     ]
    }
   ],
   "source": [
    "print(f'Model 2 Squared Error: {squared_error(con_target['Target'], con_target['Model 2 Prediction'])}')"
   ]
  },
  {
   "cell_type": "markdown",
   "id": "f4baa1cc-d9ca-4755-9c6b-2d282440facc",
   "metadata": {},
   "source": [
    "ii. the R2 measure"
   ]
  },
  {
   "cell_type": "code",
   "execution_count": 76,
   "id": "03d0a2dc-2dc4-4422-8b2d-2269c582602a",
   "metadata": {},
   "outputs": [
    {
     "name": "stdout",
     "output_type": "stream",
     "text": [
      "Model 1 R2 Measure: 0.9286\n"
     ]
    }
   ],
   "source": [
    "print(f'Model 1 R2 Measure: {r2(con_target['Target'], con_target['Model 1 Prediction']):.4f}')"
   ]
  },
  {
   "cell_type": "code",
   "execution_count": 75,
   "id": "b98fb24f-2bdb-4642-953f-f82259c3dd79",
   "metadata": {},
   "outputs": [
    {
     "name": "stdout",
     "output_type": "stream",
     "text": [
      "Model 2 R2 Measure: 0.8035\n"
     ]
    }
   ],
   "source": [
    "print(f'Model 2 R2 Measure: {r2(con_target['Target'], con_target['Model 2 Prediction']):.4f}')"
   ]
  },
  {
   "cell_type": "markdown",
   "id": "8d49bdf6-6476-464b-a77c-a1313defdf6f",
   "metadata": {},
   "source": [
    "### b. Based on the evaluation measures calculated, which model do you think is performing better for this dataset?"
   ]
  },
  {
   "cell_type": "markdown",
   "id": "61a83e52-8830-458e-bb86-2dfee28bb909",
   "metadata": {},
   "source": [
    "*Based on the measures calculated here, model 1 is performing better.  The squared error of model 1 is less than model 2, while the R2 measure for model 1 is higher than model 2's, meaning model 1 is a better fit at making predictions in this data set.*"
   ]
  }
 ],
 "metadata": {
  "kernelspec": {
   "display_name": "Python 3 (ipykernel)",
   "language": "python",
   "name": "python3"
  },
  "language_info": {
   "codemirror_mode": {
    "name": "ipython",
    "version": 3
   },
   "file_extension": ".py",
   "mimetype": "text/x-python",
   "name": "python",
   "nbconvert_exporter": "python",
   "pygments_lexer": "ipython3",
   "version": "3.12.0"
  }
 },
 "nbformat": 4,
 "nbformat_minor": 5
}
