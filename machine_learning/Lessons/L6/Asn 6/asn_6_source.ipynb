{
 "cells": [
  {
   "cell_type": "markdown",
   "id": "c7a7916e-f8b4-4bde-931c-6695949c5f96",
   "metadata": {},
   "source": [
    "# **Written Assignment 6**\n",
    "\n",
    "*Author: Logan Reine*"
   ]
  },
  {
   "cell_type": "markdown",
   "id": "8a0eaefa-8d44-4b79-b9da-4a53d95f2018",
   "metadata": {},
   "source": [
    "## Introduction"
   ]
  },
  {
   "cell_type": "markdown",
   "id": "236cdd6d-0c8a-42db-9a54-61f5662dae53",
   "metadata": {},
   "source": [
    "### `MLequations_v3.ipynb` is a machine learning library of my own making.  All functions and equations used to calculate virtually all answers are defined in the MLequations file.  It will be submitted with this assignment as a `.ipynb` file and a pdf file."
   ]
  },
  {
   "cell_type": "markdown",
   "id": "ab9ebdbb-4e9e-4596-8015-e786ad2632e0",
   "metadata": {},
   "source": [
    "## Headings"
   ]
  },
  {
   "cell_type": "code",
   "execution_count": 2,
   "id": "347501ea-c26b-49b7-8a75-6950e5a166a2",
   "metadata": {},
   "outputs": [],
   "source": [
    "%run MLequations_v3.ipynb\n",
    "import warnings\n",
    "warnings.simplefilter(action = 'ignore', category = FutureWarning)\n",
    "out = lambda x: print(\"ANSWER:\\n\\t{:.4f}\".format(x))"
   ]
  },
  {
   "cell_type": "markdown",
   "id": "a7832f87-d7ca-4250-b0ab-41e57f113bd3",
   "metadata": {},
   "source": [
    "### Data"
   ]
  },
  {
   "cell_type": "code",
   "execution_count": 3,
   "id": "4226bfeb-9ba9-45f6-a96b-8f95da9cda69",
   "metadata": {},
   "outputs": [],
   "source": [
    "education = pd.read_csv(\"education.csv\")\n",
    "entertainment = pd.read_csv(\"entertainment.csv\")\n",
    "insurance_policy = pd.read_csv(\"insurance-policy 2.csv\")\n",
    "meningitis = pd.read_csv(\"meningitis 3.csv\")\n",
    "naive_bayes = pd.read_csv(\"naive-bayes.csv\")"
   ]
  },
  {
   "cell_type": "markdown",
   "id": "8146010a-170c-4fc5-81ed-5464518843c9",
   "metadata": {},
   "source": [
    "# **1 Computing Probability - Equally Likely Outcomes**"
   ]
  },
  {
   "cell_type": "markdown",
   "id": "4e8e435e-45e7-4107-9198-9e444a008e93",
   "metadata": {},
   "source": [
    "### a. Three people flip a fair coin. What is the probability that exactly two of them will get heads?"
   ]
  },
  {
   "cell_type": "markdown",
   "id": "a2db3fd0-e6bf-4e46-931f-afdf728b3d51",
   "metadata": {},
   "source": [
    "    Using the binomial distribution, with 3 choose 2, and the probability of a single occurence being 1/2"
   ]
  },
  {
   "cell_type": "code",
   "execution_count": 4,
   "id": "05d3deb6-3810-4a87-8e52-f81ec13c305c",
   "metadata": {},
   "outputs": [
    {
     "name": "stdout",
     "output_type": "stream",
     "text": [
      "ANSWER:\n",
      "\t0.3750\n"
     ]
    }
   ],
   "source": [
    "heads_prob = P(1, 2)\n",
    "out((bin_dist(3, 2, heads_prob)))"
   ]
  },
  {
   "cell_type": "markdown",
   "id": "8f02165a-8735-458e-a9eb-c88d7960e80c",
   "metadata": {},
   "source": [
    "### b. Twenty people flip a fair coin. What is the probability that exactly eight of them will get heads?"
   ]
  },
  {
   "cell_type": "markdown",
   "id": "469e875e-1c4b-497f-955b-68926377d96f",
   "metadata": {},
   "source": [
    "    Using binomial distribution, with combinations 20 choose 8, and the probability of a single occurence being 1/2."
   ]
  },
  {
   "cell_type": "code",
   "execution_count": 5,
   "id": "2e101973-fa18-4d3d-bb4b-2c3466ee5e97",
   "metadata": {},
   "outputs": [
    {
     "name": "stdout",
     "output_type": "stream",
     "text": [
      "ANSWER:\n",
      "\t0.1201\n"
     ]
    }
   ],
   "source": [
    "bd = (bin_dist(20, 8, heads_prob))\n",
    "out(bd)"
   ]
  },
  {
   "cell_type": "markdown",
   "id": "4d3efdfc-a83a-4ec2-b1be-e824c1cc304f",
   "metadata": {},
   "source": [
    "### c. Twenty people flip a fair coin. What is the probability that at least four of them will get heads?"
   ]
  },
  {
   "cell_type": "markdown",
   "id": "e0c1a2b3-1284-4c8d-8ce3-581e1b66b21e",
   "metadata": {},
   "source": [
    "    \"At least\" refers to the minimum number of times an event will occur.  Out of 20 events, and at least 4 being heads, you're summing he binomial distribution of 20 choose n, where n = 4, and n increases by one and continutes to iterate until n = 20."
   ]
  },
  {
   "cell_type": "code",
   "execution_count": 6,
   "id": "b0d5e58c-bb14-4005-8892-6bb42d17686f",
   "metadata": {},
   "outputs": [
    {
     "name": "stdout",
     "output_type": "stream",
     "text": [
      "ANSWER:\n",
      "\t0.9987\n"
     ]
    }
   ],
   "source": [
    "bd = (bin_dist_least(20, 4, heads_prob))\n",
    "out(bd)"
   ]
  },
  {
   "cell_type": "markdown",
   "id": "935f50ce-38ea-4615-8a20-ed93fd4be1a3",
   "metadata": {},
   "source": [
    "# **2 Estimating Probabilities**"
   ]
  },
  {
   "cell_type": "code",
   "execution_count": 7,
   "id": "c6f6608e-6d11-4e89-9395-ceef32d3ce0c",
   "metadata": {},
   "outputs": [
    {
     "data": {
      "text/html": [
       "<div>\n",
       "<style scoped>\n",
       "    .dataframe tbody tr th:only-of-type {\n",
       "        vertical-align: middle;\n",
       "    }\n",
       "\n",
       "    .dataframe tbody tr th {\n",
       "        vertical-align: top;\n",
       "    }\n",
       "\n",
       "    .dataframe thead th {\n",
       "        text-align: right;\n",
       "    }\n",
       "</style>\n",
       "<table border=\"1\" class=\"dataframe\">\n",
       "  <thead>\n",
       "    <tr style=\"text-align: right;\">\n",
       "      <th></th>\n",
       "      <th>ID</th>\n",
       "      <th>Headache</th>\n",
       "      <th>Fever</th>\n",
       "      <th>Vomiting</th>\n",
       "      <th>Meningitis</th>\n",
       "    </tr>\n",
       "  </thead>\n",
       "  <tbody>\n",
       "    <tr>\n",
       "      <th>0</th>\n",
       "      <td>1</td>\n",
       "      <td>True</td>\n",
       "      <td>True</td>\n",
       "      <td>False</td>\n",
       "      <td>False</td>\n",
       "    </tr>\n",
       "    <tr>\n",
       "      <th>1</th>\n",
       "      <td>2</td>\n",
       "      <td>False</td>\n",
       "      <td>True</td>\n",
       "      <td>False</td>\n",
       "      <td>False</td>\n",
       "    </tr>\n",
       "    <tr>\n",
       "      <th>2</th>\n",
       "      <td>3</td>\n",
       "      <td>True</td>\n",
       "      <td>False</td>\n",
       "      <td>True</td>\n",
       "      <td>False</td>\n",
       "    </tr>\n",
       "    <tr>\n",
       "      <th>3</th>\n",
       "      <td>4</td>\n",
       "      <td>True</td>\n",
       "      <td>False</td>\n",
       "      <td>True</td>\n",
       "      <td>False</td>\n",
       "    </tr>\n",
       "    <tr>\n",
       "      <th>4</th>\n",
       "      <td>5</td>\n",
       "      <td>False</td>\n",
       "      <td>True</td>\n",
       "      <td>False</td>\n",
       "      <td>True</td>\n",
       "    </tr>\n",
       "    <tr>\n",
       "      <th>5</th>\n",
       "      <td>6</td>\n",
       "      <td>True</td>\n",
       "      <td>False</td>\n",
       "      <td>True</td>\n",
       "      <td>False</td>\n",
       "    </tr>\n",
       "    <tr>\n",
       "      <th>6</th>\n",
       "      <td>7</td>\n",
       "      <td>True</td>\n",
       "      <td>False</td>\n",
       "      <td>True</td>\n",
       "      <td>False</td>\n",
       "    </tr>\n",
       "    <tr>\n",
       "      <th>7</th>\n",
       "      <td>8</td>\n",
       "      <td>True</td>\n",
       "      <td>False</td>\n",
       "      <td>True</td>\n",
       "      <td>True</td>\n",
       "    </tr>\n",
       "    <tr>\n",
       "      <th>8</th>\n",
       "      <td>9</td>\n",
       "      <td>False</td>\n",
       "      <td>True</td>\n",
       "      <td>False</td>\n",
       "      <td>False</td>\n",
       "    </tr>\n",
       "    <tr>\n",
       "      <th>9</th>\n",
       "      <td>10</td>\n",
       "      <td>True</td>\n",
       "      <td>False</td>\n",
       "      <td>True</td>\n",
       "      <td>True</td>\n",
       "    </tr>\n",
       "  </tbody>\n",
       "</table>\n",
       "</div>"
      ],
      "text/plain": [
       "   ID  Headache  Fever  Vomiting  Meningitis\n",
       "0   1      True   True     False       False\n",
       "1   2     False   True     False       False\n",
       "2   3      True  False      True       False\n",
       "3   4      True  False      True       False\n",
       "4   5     False   True     False        True\n",
       "5   6      True  False      True       False\n",
       "6   7      True  False      True       False\n",
       "7   8      True  False      True        True\n",
       "8   9     False   True     False       False\n",
       "9  10      True  False      True        True"
      ]
     },
     "execution_count": 7,
     "metadata": {},
     "output_type": "execute_result"
    }
   ],
   "source": [
    "meningitis"
   ]
  },
  {
   "cell_type": "markdown",
   "id": "4f0ff755-fab5-40f9-a6b6-255a7c296252",
   "metadata": {},
   "source": [
    "### a. P(Vomiting = true)"
   ]
  },
  {
   "cell_type": "markdown",
   "id": "e1bb68bb-8a2e-47cf-aca0-31c1e83b4086",
   "metadata": {},
   "source": [
    "    Each instance in the column vomiting that is true, divided by the total number of instances."
   ]
  },
  {
   "cell_type": "code",
   "execution_count": 8,
   "id": "b7b47d95-a696-448e-b265-6b79c855b118",
   "metadata": {},
   "outputs": [
    {
     "name": "stdout",
     "output_type": "stream",
     "text": [
      "ANSWER:\n",
      "\t0.6000\n"
     ]
    }
   ],
   "source": [
    "out(P(6, 10))"
   ]
  },
  {
   "cell_type": "markdown",
   "id": "76deed25-63c6-4b51-8584-42d64d1369f1",
   "metadata": {},
   "source": [
    "### b. P(Headache = false)"
   ]
  },
  {
   "cell_type": "markdown",
   "id": "b087cfd5-4b63-42ab-9640-3be8746d7d13",
   "metadata": {},
   "source": [
    "    Each instance in the column headache that is false, divided by the total number of instances."
   ]
  },
  {
   "cell_type": "code",
   "execution_count": 9,
   "id": "22118892-b029-4af3-ae2f-977fe7aa86c4",
   "metadata": {},
   "outputs": [
    {
     "name": "stdout",
     "output_type": "stream",
     "text": [
      "ANSWER:\n",
      "\t0.3000\n"
     ]
    }
   ],
   "source": [
    "out(P(3, 10))"
   ]
  },
  {
   "cell_type": "markdown",
   "id": "1b9e2d2a-04cf-423f-891b-5b53956fd20c",
   "metadata": {},
   "source": [
    "### c. P(Headache = true, Vomiting = false)"
   ]
  },
  {
   "cell_type": "code",
   "execution_count": 10,
   "id": "c6eef916-44b0-48a8-8743-2fb241f94e99",
   "metadata": {},
   "outputs": [
    {
     "data": {
      "text/html": [
       "<div>\n",
       "<style scoped>\n",
       "    .dataframe tbody tr th:only-of-type {\n",
       "        vertical-align: middle;\n",
       "    }\n",
       "\n",
       "    .dataframe tbody tr th {\n",
       "        vertical-align: top;\n",
       "    }\n",
       "\n",
       "    .dataframe thead th {\n",
       "        text-align: right;\n",
       "    }\n",
       "</style>\n",
       "<table border=\"1\" class=\"dataframe\">\n",
       "  <thead>\n",
       "    <tr style=\"text-align: right;\">\n",
       "      <th></th>\n",
       "      <th>ID</th>\n",
       "      <th>Headache</th>\n",
       "      <th>Fever</th>\n",
       "      <th>Vomiting</th>\n",
       "      <th>Meningitis</th>\n",
       "    </tr>\n",
       "  </thead>\n",
       "  <tbody>\n",
       "    <tr>\n",
       "      <th>0</th>\n",
       "      <td>1</td>\n",
       "      <td>True</td>\n",
       "      <td>True</td>\n",
       "      <td>False</td>\n",
       "      <td>False</td>\n",
       "    </tr>\n",
       "    <tr>\n",
       "      <th>2</th>\n",
       "      <td>3</td>\n",
       "      <td>True</td>\n",
       "      <td>False</td>\n",
       "      <td>True</td>\n",
       "      <td>False</td>\n",
       "    </tr>\n",
       "    <tr>\n",
       "      <th>3</th>\n",
       "      <td>4</td>\n",
       "      <td>True</td>\n",
       "      <td>False</td>\n",
       "      <td>True</td>\n",
       "      <td>False</td>\n",
       "    </tr>\n",
       "    <tr>\n",
       "      <th>5</th>\n",
       "      <td>6</td>\n",
       "      <td>True</td>\n",
       "      <td>False</td>\n",
       "      <td>True</td>\n",
       "      <td>False</td>\n",
       "    </tr>\n",
       "    <tr>\n",
       "      <th>6</th>\n",
       "      <td>7</td>\n",
       "      <td>True</td>\n",
       "      <td>False</td>\n",
       "      <td>True</td>\n",
       "      <td>False</td>\n",
       "    </tr>\n",
       "    <tr>\n",
       "      <th>7</th>\n",
       "      <td>8</td>\n",
       "      <td>True</td>\n",
       "      <td>False</td>\n",
       "      <td>True</td>\n",
       "      <td>True</td>\n",
       "    </tr>\n",
       "    <tr>\n",
       "      <th>9</th>\n",
       "      <td>10</td>\n",
       "      <td>True</td>\n",
       "      <td>False</td>\n",
       "      <td>True</td>\n",
       "      <td>True</td>\n",
       "    </tr>\n",
       "  </tbody>\n",
       "</table>\n",
       "</div>"
      ],
      "text/plain": [
       "   ID  Headache  Fever  Vomiting  Meningitis\n",
       "0   1      True   True     False       False\n",
       "2   3      True  False      True       False\n",
       "3   4      True  False      True       False\n",
       "5   6      True  False      True       False\n",
       "6   7      True  False      True       False\n",
       "7   8      True  False      True        True\n",
       "9  10      True  False      True        True"
      ]
     },
     "execution_count": 10,
     "metadata": {},
     "output_type": "execute_result"
    }
   ],
   "source": [
    "ache_true = meningitis[meningitis['Headache'] == True]\n",
    "ache_true"
   ]
  },
  {
   "cell_type": "code",
   "execution_count": 11,
   "id": "219de887-73c8-4b94-b549-99151f24ba79",
   "metadata": {},
   "outputs": [
    {
     "data": {
      "text/html": [
       "<div>\n",
       "<style scoped>\n",
       "    .dataframe tbody tr th:only-of-type {\n",
       "        vertical-align: middle;\n",
       "    }\n",
       "\n",
       "    .dataframe tbody tr th {\n",
       "        vertical-align: top;\n",
       "    }\n",
       "\n",
       "    .dataframe thead th {\n",
       "        text-align: right;\n",
       "    }\n",
       "</style>\n",
       "<table border=\"1\" class=\"dataframe\">\n",
       "  <thead>\n",
       "    <tr style=\"text-align: right;\">\n",
       "      <th></th>\n",
       "      <th>ID</th>\n",
       "      <th>Headache</th>\n",
       "      <th>Fever</th>\n",
       "      <th>Vomiting</th>\n",
       "      <th>Meningitis</th>\n",
       "    </tr>\n",
       "  </thead>\n",
       "  <tbody>\n",
       "    <tr>\n",
       "      <th>0</th>\n",
       "      <td>1</td>\n",
       "      <td>True</td>\n",
       "      <td>True</td>\n",
       "      <td>False</td>\n",
       "      <td>False</td>\n",
       "    </tr>\n",
       "  </tbody>\n",
       "</table>\n",
       "</div>"
      ],
      "text/plain": [
       "   ID  Headache  Fever  Vomiting  Meningitis\n",
       "0   1      True   True     False       False"
      ]
     },
     "execution_count": 11,
     "metadata": {},
     "output_type": "execute_result"
    }
   ],
   "source": [
    "ache_true_vomiting_false = ache_true[ache_true['Vomiting'] == False]\n",
    "ache_true_vomiting_false"
   ]
  },
  {
   "cell_type": "markdown",
   "id": "deedb24a-b182-49fe-899f-87223d99a208",
   "metadata": {},
   "source": [
    "    There is only one instance in the dataset where both conditions are met."
   ]
  },
  {
   "cell_type": "code",
   "execution_count": 12,
   "id": "1898522f-d851-4e93-a4a6-08a9b09e014e",
   "metadata": {},
   "outputs": [
    {
     "name": "stdout",
     "output_type": "stream",
     "text": [
      "ANSWER:\n",
      "\t0.1000\n"
     ]
    }
   ],
   "source": [
    "out(P(1, 10))"
   ]
  },
  {
   "cell_type": "markdown",
   "id": "9bf88d3e-90fa-4793-b030-dbd6728b1463",
   "metadata": {},
   "source": [
    "### d. P(Vomiting = false ∣ Headache = true)"
   ]
  },
  {
   "cell_type": "code",
   "execution_count": 13,
   "id": "5fc5befc-0f81-4974-ae1b-f16fbfc9888b",
   "metadata": {},
   "outputs": [
    {
     "data": {
      "text/html": [
       "<div>\n",
       "<style scoped>\n",
       "    .dataframe tbody tr th:only-of-type {\n",
       "        vertical-align: middle;\n",
       "    }\n",
       "\n",
       "    .dataframe tbody tr th {\n",
       "        vertical-align: top;\n",
       "    }\n",
       "\n",
       "    .dataframe thead th {\n",
       "        text-align: right;\n",
       "    }\n",
       "</style>\n",
       "<table border=\"1\" class=\"dataframe\">\n",
       "  <thead>\n",
       "    <tr style=\"text-align: right;\">\n",
       "      <th></th>\n",
       "      <th>ID</th>\n",
       "      <th>Headache</th>\n",
       "      <th>Fever</th>\n",
       "      <th>Vomiting</th>\n",
       "      <th>Meningitis</th>\n",
       "    </tr>\n",
       "  </thead>\n",
       "  <tbody>\n",
       "    <tr>\n",
       "      <th>0</th>\n",
       "      <td>1</td>\n",
       "      <td>True</td>\n",
       "      <td>True</td>\n",
       "      <td>False</td>\n",
       "      <td>False</td>\n",
       "    </tr>\n",
       "    <tr>\n",
       "      <th>2</th>\n",
       "      <td>3</td>\n",
       "      <td>True</td>\n",
       "      <td>False</td>\n",
       "      <td>True</td>\n",
       "      <td>False</td>\n",
       "    </tr>\n",
       "    <tr>\n",
       "      <th>3</th>\n",
       "      <td>4</td>\n",
       "      <td>True</td>\n",
       "      <td>False</td>\n",
       "      <td>True</td>\n",
       "      <td>False</td>\n",
       "    </tr>\n",
       "    <tr>\n",
       "      <th>5</th>\n",
       "      <td>6</td>\n",
       "      <td>True</td>\n",
       "      <td>False</td>\n",
       "      <td>True</td>\n",
       "      <td>False</td>\n",
       "    </tr>\n",
       "    <tr>\n",
       "      <th>6</th>\n",
       "      <td>7</td>\n",
       "      <td>True</td>\n",
       "      <td>False</td>\n",
       "      <td>True</td>\n",
       "      <td>False</td>\n",
       "    </tr>\n",
       "    <tr>\n",
       "      <th>7</th>\n",
       "      <td>8</td>\n",
       "      <td>True</td>\n",
       "      <td>False</td>\n",
       "      <td>True</td>\n",
       "      <td>True</td>\n",
       "    </tr>\n",
       "    <tr>\n",
       "      <th>9</th>\n",
       "      <td>10</td>\n",
       "      <td>True</td>\n",
       "      <td>False</td>\n",
       "      <td>True</td>\n",
       "      <td>True</td>\n",
       "    </tr>\n",
       "  </tbody>\n",
       "</table>\n",
       "</div>"
      ],
      "text/plain": [
       "   ID  Headache  Fever  Vomiting  Meningitis\n",
       "0   1      True   True     False       False\n",
       "2   3      True  False      True       False\n",
       "3   4      True  False      True       False\n",
       "5   6      True  False      True       False\n",
       "6   7      True  False      True       False\n",
       "7   8      True  False      True        True\n",
       "9  10      True  False      True        True"
      ]
     },
     "execution_count": 13,
     "metadata": {},
     "output_type": "execute_result"
    }
   ],
   "source": [
    "ache_true"
   ]
  },
  {
   "cell_type": "markdown",
   "id": "4557c697-dd91-4921-ba84-10aefc859613",
   "metadata": {},
   "source": [
    "    In the subset where Headache is equal to True, there is only one instance of Vomiting being False."
   ]
  },
  {
   "cell_type": "code",
   "execution_count": 14,
   "id": "393ff34c-7fea-4c05-a820-7230cdf2303e",
   "metadata": {},
   "outputs": [
    {
     "name": "stdout",
     "output_type": "stream",
     "text": [
      "ANSWER:\n",
      "\t0.1429\n"
     ]
    }
   ],
   "source": [
    "out(P(1, 7))"
   ]
  },
  {
   "cell_type": "markdown",
   "id": "3ecb3068-5b36-4117-aacb-8546941ffa40",
   "metadata": {},
   "source": [
    "### e. P(Meningitis ∣ Fever = true, Vomiting = false)"
   ]
  },
  {
   "cell_type": "code",
   "execution_count": 15,
   "id": "3779b1f5-bb54-463a-a6d2-cb36ef443711",
   "metadata": {},
   "outputs": [
    {
     "data": {
      "text/html": [
       "<div>\n",
       "<style scoped>\n",
       "    .dataframe tbody tr th:only-of-type {\n",
       "        vertical-align: middle;\n",
       "    }\n",
       "\n",
       "    .dataframe tbody tr th {\n",
       "        vertical-align: top;\n",
       "    }\n",
       "\n",
       "    .dataframe thead th {\n",
       "        text-align: right;\n",
       "    }\n",
       "</style>\n",
       "<table border=\"1\" class=\"dataframe\">\n",
       "  <thead>\n",
       "    <tr style=\"text-align: right;\">\n",
       "      <th></th>\n",
       "      <th>ID</th>\n",
       "      <th>Headache</th>\n",
       "      <th>Fever</th>\n",
       "      <th>Vomiting</th>\n",
       "      <th>Meningitis</th>\n",
       "    </tr>\n",
       "  </thead>\n",
       "  <tbody>\n",
       "    <tr>\n",
       "      <th>0</th>\n",
       "      <td>1</td>\n",
       "      <td>True</td>\n",
       "      <td>True</td>\n",
       "      <td>False</td>\n",
       "      <td>False</td>\n",
       "    </tr>\n",
       "    <tr>\n",
       "      <th>1</th>\n",
       "      <td>2</td>\n",
       "      <td>False</td>\n",
       "      <td>True</td>\n",
       "      <td>False</td>\n",
       "      <td>False</td>\n",
       "    </tr>\n",
       "    <tr>\n",
       "      <th>4</th>\n",
       "      <td>5</td>\n",
       "      <td>False</td>\n",
       "      <td>True</td>\n",
       "      <td>False</td>\n",
       "      <td>True</td>\n",
       "    </tr>\n",
       "    <tr>\n",
       "      <th>8</th>\n",
       "      <td>9</td>\n",
       "      <td>False</td>\n",
       "      <td>True</td>\n",
       "      <td>False</td>\n",
       "      <td>False</td>\n",
       "    </tr>\n",
       "  </tbody>\n",
       "</table>\n",
       "</div>"
      ],
      "text/plain": [
       "   ID  Headache  Fever  Vomiting  Meningitis\n",
       "0   1      True   True     False       False\n",
       "1   2     False   True     False       False\n",
       "4   5     False   True     False        True\n",
       "8   9     False   True     False       False"
      ]
     },
     "execution_count": 15,
     "metadata": {},
     "output_type": "execute_result"
    }
   ],
   "source": [
    "fever_true = meningitis[meningitis['Fever'] == True]\n",
    "fever_true"
   ]
  },
  {
   "cell_type": "code",
   "execution_count": 16,
   "id": "81a88275-45b0-43ea-ab27-bb4339b7f64c",
   "metadata": {},
   "outputs": [
    {
     "data": {
      "text/html": [
       "<div>\n",
       "<style scoped>\n",
       "    .dataframe tbody tr th:only-of-type {\n",
       "        vertical-align: middle;\n",
       "    }\n",
       "\n",
       "    .dataframe tbody tr th {\n",
       "        vertical-align: top;\n",
       "    }\n",
       "\n",
       "    .dataframe thead th {\n",
       "        text-align: right;\n",
       "    }\n",
       "</style>\n",
       "<table border=\"1\" class=\"dataframe\">\n",
       "  <thead>\n",
       "    <tr style=\"text-align: right;\">\n",
       "      <th></th>\n",
       "      <th>ID</th>\n",
       "      <th>Headache</th>\n",
       "      <th>Fever</th>\n",
       "      <th>Vomiting</th>\n",
       "      <th>Meningitis</th>\n",
       "    </tr>\n",
       "  </thead>\n",
       "  <tbody>\n",
       "    <tr>\n",
       "      <th>4</th>\n",
       "      <td>5</td>\n",
       "      <td>False</td>\n",
       "      <td>True</td>\n",
       "      <td>False</td>\n",
       "      <td>True</td>\n",
       "    </tr>\n",
       "  </tbody>\n",
       "</table>\n",
       "</div>"
      ],
      "text/plain": [
       "   ID  Headache  Fever  Vomiting  Meningitis\n",
       "4   5     False   True     False        True"
      ]
     },
     "execution_count": 16,
     "metadata": {},
     "output_type": "execute_result"
    }
   ],
   "source": [
    "men_true = fever_true[fever_true['Meningitis'] == True]\n",
    "men_true"
   ]
  },
  {
   "cell_type": "code",
   "execution_count": 17,
   "id": "32f9eeee-7a98-4821-b281-9c1a1e7d6eae",
   "metadata": {},
   "outputs": [
    {
     "data": {
      "text/html": [
       "<div>\n",
       "<style scoped>\n",
       "    .dataframe tbody tr th:only-of-type {\n",
       "        vertical-align: middle;\n",
       "    }\n",
       "\n",
       "    .dataframe tbody tr th {\n",
       "        vertical-align: top;\n",
       "    }\n",
       "\n",
       "    .dataframe thead th {\n",
       "        text-align: right;\n",
       "    }\n",
       "</style>\n",
       "<table border=\"1\" class=\"dataframe\">\n",
       "  <thead>\n",
       "    <tr style=\"text-align: right;\">\n",
       "      <th></th>\n",
       "      <th>ID</th>\n",
       "      <th>Headache</th>\n",
       "      <th>Fever</th>\n",
       "      <th>Vomiting</th>\n",
       "      <th>Meningitis</th>\n",
       "    </tr>\n",
       "  </thead>\n",
       "  <tbody>\n",
       "    <tr>\n",
       "      <th>0</th>\n",
       "      <td>1</td>\n",
       "      <td>True</td>\n",
       "      <td>True</td>\n",
       "      <td>False</td>\n",
       "      <td>False</td>\n",
       "    </tr>\n",
       "    <tr>\n",
       "      <th>1</th>\n",
       "      <td>2</td>\n",
       "      <td>False</td>\n",
       "      <td>True</td>\n",
       "      <td>False</td>\n",
       "      <td>False</td>\n",
       "    </tr>\n",
       "    <tr>\n",
       "      <th>8</th>\n",
       "      <td>9</td>\n",
       "      <td>False</td>\n",
       "      <td>True</td>\n",
       "      <td>False</td>\n",
       "      <td>False</td>\n",
       "    </tr>\n",
       "  </tbody>\n",
       "</table>\n",
       "</div>"
      ],
      "text/plain": [
       "   ID  Headache  Fever  Vomiting  Meningitis\n",
       "0   1      True   True     False       False\n",
       "1   2     False   True     False       False\n",
       "8   9     False   True     False       False"
      ]
     },
     "execution_count": 17,
     "metadata": {},
     "output_type": "execute_result"
    }
   ],
   "source": [
    "men_false = fever_true[fever_true['Meningitis'] == False]\n",
    "men_false"
   ]
  },
  {
   "cell_type": "markdown",
   "id": "9f153ddb-1fa3-4743-bc86-fff4e727d673",
   "metadata": {},
   "source": [
    "    Under the conditions of Fever being true and vomiting being false, there are a total of four cases.  One where Meningitis is true, and 3 where it is false.    "
   ]
  },
  {
   "cell_type": "code",
   "execution_count": 18,
   "id": "96210e8b-87fb-4450-8b36-8b92be3bbbe4",
   "metadata": {},
   "outputs": [
    {
     "name": "stdout",
     "output_type": "stream",
     "text": [
      "When meningitis is True\n",
      "ANSWER:\n",
      "\t0.2500\n",
      "\n",
      "When meningitis is False\n",
      "ANSWER:\n",
      "\t0.7500\n"
     ]
    }
   ],
   "source": [
    "print('When meningitis is True')\n",
    "out(P(1,4))\n",
    "print('\\nWhen meningitis is False')\n",
    "out(P(3,4))"
   ]
  },
  {
   "cell_type": "markdown",
   "id": "9b248a1b-2a3d-45c8-a392-f189a825b548",
   "metadata": {},
   "source": [
    "# **3 Naive Bayes Model**"
   ]
  },
  {
   "cell_type": "markdown",
   "id": "2054072e-e1d5-42d4-a9b8-2f0d48012f25",
   "metadata": {},
   "source": [
    "Predictive data analytics models are often used as tools for process quality control and fault detection. The task in this question is to create a naive Bayes model to monitor a waste water treatment plant. The table below lists a dataset containing details of activities at a waste water treatment plant for 14 days. Each day is described in terms of six descriptive features that are generated from different sensors at the plant. SS-IN measures the solids coming into the plant per day; SED-IN measures the sediment coming into the plant per day; COND-IN measures the electrical conductivity of the water coming into the plant. The features SS-OUT, SED-OUT, and COND-OUT are the corresponding measurements for the water flowing out of the plant. The target feature, STATUS, reports the current situation at the plant: ok, everything is working correctly; settler, there is a problem with the plant settler equipment; or solids, there is a problem with the amount of solids going through the plant."
   ]
  },
  {
   "cell_type": "code",
   "execution_count": 19,
   "id": "7015dcf2-426a-46e5-be6e-39cf5b1bfae4",
   "metadata": {},
   "outputs": [
    {
     "data": {
      "text/html": [
       "<div>\n",
       "<style scoped>\n",
       "    .dataframe tbody tr th:only-of-type {\n",
       "        vertical-align: middle;\n",
       "    }\n",
       "\n",
       "    .dataframe tbody tr th {\n",
       "        vertical-align: top;\n",
       "    }\n",
       "\n",
       "    .dataframe thead th {\n",
       "        text-align: right;\n",
       "    }\n",
       "</style>\n",
       "<table border=\"1\" class=\"dataframe\">\n",
       "  <thead>\n",
       "    <tr style=\"text-align: right;\">\n",
       "      <th></th>\n",
       "      <th>ID</th>\n",
       "      <th>SS-IN</th>\n",
       "      <th>SED-IN</th>\n",
       "      <th>COND-IN</th>\n",
       "      <th>SS-OUT</th>\n",
       "      <th>SED-OUT</th>\n",
       "      <th>COND-OUT</th>\n",
       "      <th>STATUS</th>\n",
       "    </tr>\n",
       "  </thead>\n",
       "  <tbody>\n",
       "    <tr>\n",
       "      <th>0</th>\n",
       "      <td>1</td>\n",
       "      <td>168</td>\n",
       "      <td>3.0</td>\n",
       "      <td>1814</td>\n",
       "      <td>15.0</td>\n",
       "      <td>0.001</td>\n",
       "      <td>1879.0</td>\n",
       "      <td>ok</td>\n",
       "    </tr>\n",
       "    <tr>\n",
       "      <th>1</th>\n",
       "      <td>2</td>\n",
       "      <td>156</td>\n",
       "      <td>3.0</td>\n",
       "      <td>1358</td>\n",
       "      <td>14.0</td>\n",
       "      <td>0.010</td>\n",
       "      <td>1425.0</td>\n",
       "      <td>ok</td>\n",
       "    </tr>\n",
       "    <tr>\n",
       "      <th>2</th>\n",
       "      <td>3</td>\n",
       "      <td>176</td>\n",
       "      <td>3.5</td>\n",
       "      <td>2200</td>\n",
       "      <td>16.0</td>\n",
       "      <td>0.005</td>\n",
       "      <td>2140.0</td>\n",
       "      <td>ok</td>\n",
       "    </tr>\n",
       "    <tr>\n",
       "      <th>3</th>\n",
       "      <td>4</td>\n",
       "      <td>256</td>\n",
       "      <td>3.0</td>\n",
       "      <td>2070</td>\n",
       "      <td>27.0</td>\n",
       "      <td>0.200</td>\n",
       "      <td>2700.0</td>\n",
       "      <td>ok</td>\n",
       "    </tr>\n",
       "    <tr>\n",
       "      <th>4</th>\n",
       "      <td>5</td>\n",
       "      <td>230</td>\n",
       "      <td>5.0</td>\n",
       "      <td>1410</td>\n",
       "      <td>131.0</td>\n",
       "      <td>3.500</td>\n",
       "      <td>1575.0</td>\n",
       "      <td>settler</td>\n",
       "    </tr>\n",
       "    <tr>\n",
       "      <th>5</th>\n",
       "      <td>6</td>\n",
       "      <td>116</td>\n",
       "      <td>3.0</td>\n",
       "      <td>1238</td>\n",
       "      <td>104.0</td>\n",
       "      <td>0.060</td>\n",
       "      <td>1221.0</td>\n",
       "      <td>settler</td>\n",
       "    </tr>\n",
       "    <tr>\n",
       "      <th>6</th>\n",
       "      <td>7</td>\n",
       "      <td>242</td>\n",
       "      <td>7.0</td>\n",
       "      <td>1315</td>\n",
       "      <td>104.0</td>\n",
       "      <td>0.010</td>\n",
       "      <td>1434.0</td>\n",
       "      <td>settler</td>\n",
       "    </tr>\n",
       "    <tr>\n",
       "      <th>7</th>\n",
       "      <td>8</td>\n",
       "      <td>242</td>\n",
       "      <td>4.5</td>\n",
       "      <td>1183</td>\n",
       "      <td>78.0</td>\n",
       "      <td>0.020</td>\n",
       "      <td>1374.0</td>\n",
       "      <td>settler</td>\n",
       "    </tr>\n",
       "    <tr>\n",
       "      <th>8</th>\n",
       "      <td>9</td>\n",
       "      <td>174</td>\n",
       "      <td>2.5</td>\n",
       "      <td>1110</td>\n",
       "      <td>73.0</td>\n",
       "      <td>1.500</td>\n",
       "      <td>1256.0</td>\n",
       "      <td>settler</td>\n",
       "    </tr>\n",
       "    <tr>\n",
       "      <th>9</th>\n",
       "      <td>10</td>\n",
       "      <td>1004</td>\n",
       "      <td>35.0</td>\n",
       "      <td>1218</td>\n",
       "      <td>81.0</td>\n",
       "      <td>1.172</td>\n",
       "      <td>33.3</td>\n",
       "      <td>solids</td>\n",
       "    </tr>\n",
       "    <tr>\n",
       "      <th>10</th>\n",
       "      <td>11</td>\n",
       "      <td>1228</td>\n",
       "      <td>46.0</td>\n",
       "      <td>1889</td>\n",
       "      <td>82.4</td>\n",
       "      <td>1932.000</td>\n",
       "      <td>43.1</td>\n",
       "      <td>solids</td>\n",
       "    </tr>\n",
       "    <tr>\n",
       "      <th>11</th>\n",
       "      <td>12</td>\n",
       "      <td>964</td>\n",
       "      <td>17.0</td>\n",
       "      <td>2120</td>\n",
       "      <td>20.0</td>\n",
       "      <td>1030.000</td>\n",
       "      <td>1966.0</td>\n",
       "      <td>solids</td>\n",
       "    </tr>\n",
       "    <tr>\n",
       "      <th>12</th>\n",
       "      <td>13</td>\n",
       "      <td>2008</td>\n",
       "      <td>32.0</td>\n",
       "      <td>1257</td>\n",
       "      <td>13.0</td>\n",
       "      <td>1038.000</td>\n",
       "      <td>1289.0</td>\n",
       "      <td>solids</td>\n",
       "    </tr>\n",
       "  </tbody>\n",
       "</table>\n",
       "</div>"
      ],
      "text/plain": [
       "    ID  SS-IN  SED-IN  COND-IN  SS-OUT   SED-OUT  COND-OUT   STATUS\n",
       "0    1    168     3.0     1814    15.0     0.001    1879.0       ok\n",
       "1    2    156     3.0     1358    14.0     0.010    1425.0       ok\n",
       "2    3    176     3.5     2200    16.0     0.005    2140.0       ok\n",
       "3    4    256     3.0     2070    27.0     0.200    2700.0       ok\n",
       "4    5    230     5.0     1410   131.0     3.500    1575.0  settler\n",
       "5    6    116     3.0     1238   104.0     0.060    1221.0  settler\n",
       "6    7    242     7.0     1315   104.0     0.010    1434.0  settler\n",
       "7    8    242     4.5     1183    78.0     0.020    1374.0  settler\n",
       "8    9    174     2.5     1110    73.0     1.500    1256.0  settler\n",
       "9   10   1004    35.0     1218    81.0     1.172      33.3   solids\n",
       "10  11   1228    46.0     1889    82.4  1932.000      43.1   solids\n",
       "11  12    964    17.0     2120    20.0  1030.000    1966.0   solids\n",
       "12  13   2008    32.0     1257    13.0  1038.000    1289.0   solids"
      ]
     },
     "execution_count": 19,
     "metadata": {},
     "output_type": "execute_result"
    }
   ],
   "source": [
    "naive_bayes"
   ]
  },
  {
   "cell_type": "markdown",
   "id": "23ad715c-c087-40a6-a38b-06fa1b720346",
   "metadata": {},
   "source": [
    "### a. Create a naive Bayes model that uses probability density functions to model the descriptive features in this dataset (assume that all the descriptive features are normally distributed)."
   ]
  },
  {
   "cell_type": "code",
   "execution_count": 20,
   "id": "538c6027-21d5-4ac2-9c7e-9b2ac7f322bc",
   "metadata": {},
   "outputs": [],
   "source": [
    "ok = naive_bayes[naive_bayes['STATUS'] == 'ok']\n",
    "settler = naive_bayes[naive_bayes['STATUS'] == 'settler']\n",
    "solids = naive_bayes[naive_bayes['STATUS'] == 'solids']"
   ]
  },
  {
   "cell_type": "markdown",
   "id": "a0af5094-6880-4270-80a9-67d57a9d5a53",
   "metadata": {},
   "source": [
    "    Above is the decomposition of the naive_bayes dataset into pure subsets of 'ok', 'settler', and 'solids'.  With the subsets now broken into pure sets, I can iteratively calculate the means and deviations of each descriptive feature."
   ]
  },
  {
   "cell_type": "code",
   "execution_count": 21,
   "id": "bfcad5d1-a5b6-4d64-960f-399864bb7381",
   "metadata": {},
   "outputs": [
    {
     "name": "stdout",
     "output_type": "stream",
     "text": [
      "While target feature == 'ok'\n",
      "\n",
      "SS-IN | ok\n",
      "  N ( x, 189.0000, 45.4166 )\n",
      "\n",
      "SED-IN | ok\n",
      "  N ( x, 3.1250, 0.2500 )\n",
      "\n",
      "COND-IN | ok\n",
      "  N ( x, 1860.5000, 371.4023 )\n",
      "\n",
      "SS-OUT | ok\n",
      "  N ( x, 18.0000, 6.0553 )\n",
      "\n",
      "SED-OUT | ok\n",
      "  N ( x, 0.0540, 0.0974 )\n",
      "\n",
      "COND-OUT | ok\n",
      "  N ( x, 2036.0000, 532.1911 )\n"
     ]
    }
   ],
   "source": [
    "print(\"While target feature == 'ok'\")\n",
    "for x in ok.columns[1:-1]:\n",
    "    mu = mean(ok[x])\n",
    "    sigma = stdev(ok[x])\n",
    "    print(f\"\\n{x} | ok\")\n",
    "    print(f\"  N ( x, {mu:.4f}, {sigma:.4f} )\")"
   ]
  },
  {
   "cell_type": "code",
   "execution_count": 22,
   "id": "39b7ad4f-929b-43a1-84a1-c7ddf27cd59f",
   "metadata": {},
   "outputs": [
    {
     "name": "stdout",
     "output_type": "stream",
     "text": [
      "While target feature == 'settler'\n",
      "\n",
      "SS-IN | settler\n",
      "  N ( x, 200.8000, 55.1289 )\n",
      "\n",
      "SED-IN | settler\n",
      "  N ( x, 4.4000, 1.7819 )\n",
      "\n",
      "COND-IN | settler\n",
      "  N ( x, 1251.2000, 116.2441 )\n",
      "\n",
      "SS-OUT | settler\n",
      "  N ( x, 98.0000, 23.3773 )\n",
      "\n",
      "SED-OUT | settler\n",
      "  N ( x, 1.0180, 1.5266 )\n",
      "\n",
      "COND-OUT | settler\n",
      "  N ( x, 1372.0000, 142.5780 )\n"
     ]
    }
   ],
   "source": [
    "print(\"While target feature == 'settler'\")\n",
    "for x in settler.columns[1:-1]:\n",
    "    mu = mean(settler[x])\n",
    "    sigma = stdev(settler[x])\n",
    "    print(f\"\\n{x} | settler\")\n",
    "    print(f\"  N ( x, {mu:.4f}, {sigma:.4f} )\")"
   ]
  },
  {
   "cell_type": "code",
   "execution_count": 23,
   "id": "b47a13a8-8172-4c71-8bb7-29e08661dd1e",
   "metadata": {},
   "outputs": [
    {
     "name": "stdout",
     "output_type": "stream",
     "text": [
      "While target feature == 'solids'\n",
      "\n",
      "SS-IN | solids\n",
      "  N ( x, 1301.0000, 485.4400 )\n",
      "\n",
      "SED-IN | solids\n",
      "  N ( x, 32.5000, 11.9583 )\n",
      "\n",
      "COND-IN | solids\n",
      "  N ( x, 1621.0000, 453.0379 )\n",
      "\n",
      "SS-OUT | solids\n",
      "  N ( x, 49.1000, 37.7559 )\n",
      "\n",
      "SED-OUT | solids\n",
      "  N ( x, 1000.2930, 789.2243 )\n",
      "\n",
      "COND-OUT | solids\n",
      "  N ( x, 832.8500, 958.3122 )\n"
     ]
    }
   ],
   "source": [
    "print(\"While target feature == 'solids'\")\n",
    "for x in solids.columns[1:-1]:\n",
    "    mu = mean(solids[x])\n",
    "    sigma = stdev(solids[x])\n",
    "    print(f\"\\n{x} | solids\")\n",
    "    print(f\"  N ( x, {mu:.4f}, {sigma:.4f} )\")"
   ]
  },
  {
   "cell_type": "markdown",
   "id": "27ec56b5-45f1-43ee-8c7c-1501a7c9dbe5",
   "metadata": {},
   "source": [
    "### b. What prediction will the naive Bayes model return for the following query?   "
   ]
  },
  {
   "cell_type": "markdown",
   "id": "ed8e23f8-07f7-4f0e-b771-38066f87d948",
   "metadata": {},
   "source": [
    "SS-IN = 222  \n",
    "SED-IN = 4.5  \n",
    "COND-IN = 1,518  \n",
    "SS-OUT = 74  \n",
    "SED-OUT = 0.25  \n",
    "COND-OUT = 1,642 "
   ]
  },
  {
   "cell_type": "code",
   "execution_count": 24,
   "id": "20f3e1ce-7391-4022-a03d-394f26d0b3ae",
   "metadata": {},
   "outputs": [
    {
     "name": "stdout",
     "output_type": "stream",
     "text": [
      "     -- OK --\n",
      "\n",
      "SS-IN | ok\n",
      "  N ( 222, 189.0000, 45.4166 )\n",
      "\n",
      "SED-IN | ok\n",
      "  N ( 4.5, 3.1250, 0.2500 )\n",
      "\n",
      "COND-IN | ok\n",
      "  N ( 1518, 1860.5000, 371.4023 )\n",
      "\n",
      "SS-OUT | ok\n",
      "  N ( 74, 18.0000, 6.0553 )\n",
      "\n",
      "SED-OUT | ok\n",
      "  N ( 0.25, 0.0540, 0.0974 )\n",
      "\n",
      "COND-OUT | ok\n",
      "  N ( 1642, 2036.0000, 532.1911 )\n"
     ]
    }
   ],
   "source": [
    "print(\"     -- OK --\")\n",
    "bayes_list = [222, 4.5, 1518, 74, .25, 1642]\n",
    "ok_product = bayes_product(ok, 'ok', bayes_list)"
   ]
  },
  {
   "cell_type": "code",
   "execution_count": 25,
   "id": "36f3b16a-1a12-452e-b119-b0baeed758b2",
   "metadata": {},
   "outputs": [
    {
     "name": "stdout",
     "output_type": "stream",
     "text": [
      "     -- SETTLER --\n",
      "\n",
      "SS-IN | settler\n",
      "  N ( 222, 200.8000, 55.1289 )\n",
      "\n",
      "SED-IN | settler\n",
      "  N ( 4.5, 4.4000, 1.7819 )\n",
      "\n",
      "COND-IN | settler\n",
      "  N ( 1518, 1251.2000, 116.2441 )\n",
      "\n",
      "SS-OUT | settler\n",
      "  N ( 74, 98.0000, 23.3773 )\n",
      "\n",
      "SED-OUT | settler\n",
      "  N ( 0.25, 1.0180, 1.5266 )\n",
      "\n",
      "COND-OUT | settler\n",
      "  N ( 1642, 1372.0000, 142.5780 )\n"
     ]
    }
   ],
   "source": [
    "print(\"     -- SETTLER --\")\n",
    "bayes_list = [222, 4.5, 1518, 74, .25, 1642]\n",
    "settler_product = bayes_product(settler, 'settler', bayes_list)"
   ]
  },
  {
   "cell_type": "code",
   "execution_count": 26,
   "id": "0737c9ee-b6ed-4b01-9846-f76a2418d88c",
   "metadata": {},
   "outputs": [
    {
     "name": "stdout",
     "output_type": "stream",
     "text": [
      "     -- SOLIDS --\n",
      "\n",
      "SS-IN | solids\n",
      "  N ( 222, 1301.0000, 485.4400 )\n",
      "\n",
      "SED-IN | solids\n",
      "  N ( 4.5, 32.5000, 11.9583 )\n",
      "\n",
      "COND-IN | solids\n",
      "  N ( 1518, 1621.0000, 453.0379 )\n",
      "\n",
      "SS-OUT | solids\n",
      "  N ( 74, 49.1000, 37.7559 )\n",
      "\n",
      "SED-OUT | solids\n",
      "  N ( 0.25, 1000.2930, 789.2243 )\n",
      "\n",
      "COND-OUT | solids\n",
      "  N ( 1642, 832.8500, 958.3122 )\n"
     ]
    }
   ],
   "source": [
    "print(\"     -- SOLIDS --\")\n",
    "bayes_list = [222, 4.5, 1518, 74, .25, 1642]\n",
    "solids_prod = bayes_product(solids, 'solids', bayes_list)"
   ]
  },
  {
   "cell_type": "code",
   "execution_count": 27,
   "id": "eeb10b71-64c0-4271-936a-97a637973591",
   "metadata": {},
   "outputs": [
    {
     "name": "stdout",
     "output_type": "stream",
     "text": [
      "ok PDF:       3.415774537571066e-36\n",
      "\n",
      "settler PDF:  1.5383717893944836e-13\n",
      "\n",
      "solids PDF:   2.2155636125907452e-20\n"
     ]
    }
   ],
   "source": [
    "print(f\"ok PDF:       {ok_product * (4 / 13)}\")\n",
    "print(f\"\\nsettler PDF:  {settler_product * (5 / 13)}\")\n",
    "print(f\"\\nsolids PDF:   {solids_prod * (4 / 13)}\")"
   ]
  },
  {
   "cell_type": "markdown",
   "id": "9a12e818-fdc5-4fcb-919c-7d4f56b9d161",
   "metadata": {},
   "source": [
    "# **4 Transforming Continuous Features to Descriptive Features**"
   ]
  },
  {
   "cell_type": "markdown",
   "id": "52f82787-4976-4ebc-ac18-5f0064a4f316",
   "metadata": {},
   "source": [
    "The table below lists a dataset containing details of policy holders at an insurance company. The descriptive features included in the table describe each policy holders’ ID, occupation, gender, age, the type of insurance policy they hold, and their preferred contact channel. The preferred contact channel is the target feature in this domain."
   ]
  },
  {
   "cell_type": "code",
   "execution_count": 28,
   "id": "9b272cde-d414-4e23-ae9b-1e484d1dfcb3",
   "metadata": {},
   "outputs": [
    {
     "data": {
      "text/html": [
       "<div>\n",
       "<style scoped>\n",
       "    .dataframe tbody tr th:only-of-type {\n",
       "        vertical-align: middle;\n",
       "    }\n",
       "\n",
       "    .dataframe tbody tr th {\n",
       "        vertical-align: top;\n",
       "    }\n",
       "\n",
       "    .dataframe thead th {\n",
       "        text-align: right;\n",
       "    }\n",
       "</style>\n",
       "<table border=\"1\" class=\"dataframe\">\n",
       "  <thead>\n",
       "    <tr style=\"text-align: right;\">\n",
       "      <th></th>\n",
       "      <th>ID</th>\n",
       "      <th>Occupation</th>\n",
       "      <th>Gender</th>\n",
       "      <th>Age</th>\n",
       "      <th>Policy Type</th>\n",
       "      <th>Pref Channel</th>\n",
       "    </tr>\n",
       "  </thead>\n",
       "  <tbody>\n",
       "    <tr>\n",
       "      <th>0</th>\n",
       "      <td>1</td>\n",
       "      <td>lab tech</td>\n",
       "      <td>female</td>\n",
       "      <td>43</td>\n",
       "      <td>planC</td>\n",
       "      <td>email</td>\n",
       "    </tr>\n",
       "    <tr>\n",
       "      <th>1</th>\n",
       "      <td>2</td>\n",
       "      <td>farmhand</td>\n",
       "      <td>female</td>\n",
       "      <td>57</td>\n",
       "      <td>planA</td>\n",
       "      <td>phone</td>\n",
       "    </tr>\n",
       "    <tr>\n",
       "      <th>2</th>\n",
       "      <td>3</td>\n",
       "      <td>biophysicist</td>\n",
       "      <td>male</td>\n",
       "      <td>21</td>\n",
       "      <td>planA</td>\n",
       "      <td>email</td>\n",
       "    </tr>\n",
       "    <tr>\n",
       "      <th>3</th>\n",
       "      <td>4</td>\n",
       "      <td>sheriff</td>\n",
       "      <td>female</td>\n",
       "      <td>47</td>\n",
       "      <td>planB</td>\n",
       "      <td>phone</td>\n",
       "    </tr>\n",
       "    <tr>\n",
       "      <th>4</th>\n",
       "      <td>5</td>\n",
       "      <td>painter</td>\n",
       "      <td>male</td>\n",
       "      <td>55</td>\n",
       "      <td>planC</td>\n",
       "      <td>phone</td>\n",
       "    </tr>\n",
       "    <tr>\n",
       "      <th>5</th>\n",
       "      <td>6</td>\n",
       "      <td>manager</td>\n",
       "      <td>male</td>\n",
       "      <td>19</td>\n",
       "      <td>planA</td>\n",
       "      <td>email</td>\n",
       "    </tr>\n",
       "    <tr>\n",
       "      <th>6</th>\n",
       "      <td>7</td>\n",
       "      <td>geologist</td>\n",
       "      <td>male</td>\n",
       "      <td>49</td>\n",
       "      <td>planC</td>\n",
       "      <td>phone</td>\n",
       "    </tr>\n",
       "    <tr>\n",
       "      <th>7</th>\n",
       "      <td>8</td>\n",
       "      <td>messenger</td>\n",
       "      <td>male</td>\n",
       "      <td>51</td>\n",
       "      <td>planB</td>\n",
       "      <td>email</td>\n",
       "    </tr>\n",
       "    <tr>\n",
       "      <th>8</th>\n",
       "      <td>9</td>\n",
       "      <td>nurse</td>\n",
       "      <td>female</td>\n",
       "      <td>18</td>\n",
       "      <td>planC</td>\n",
       "      <td>phone</td>\n",
       "    </tr>\n",
       "  </tbody>\n",
       "</table>\n",
       "</div>"
      ],
      "text/plain": [
       "   ID    Occupation  Gender  Age Policy Type Pref Channel\n",
       "0   1      lab tech  female   43       planC        email\n",
       "1   2      farmhand  female   57       planA        phone\n",
       "2   3  biophysicist    male   21       planA        email\n",
       "3   4       sheriff  female   47       planB        phone\n",
       "4   5       painter    male   55       planC        phone\n",
       "5   6       manager    male   19       planA        email\n",
       "6   7     geologist    male   49       planC        phone\n",
       "7   8     messenger    male   51       planB        email\n",
       "8   9         nurse  female   18       planC        phone"
      ]
     },
     "execution_count": 28,
     "metadata": {},
     "output_type": "execute_result"
    }
   ],
   "source": [
    "insurance_policy"
   ]
  },
  {
   "cell_type": "markdown",
   "id": "fd8a179e-0e68-4eba-a761-6d79f9f22932",
   "metadata": {},
   "source": [
    "### a. Using equal-frequency binning transform the Age feature into a categorical feature with three levels: young, middle-aged, mature."
   ]
  },
  {
   "cell_type": "code",
   "execution_count": 29,
   "id": "80ccd48d-a325-4585-87cb-92b71082b208",
   "metadata": {},
   "outputs": [
    {
     "data": {
      "text/html": [
       "<div>\n",
       "<style scoped>\n",
       "    .dataframe tbody tr th:only-of-type {\n",
       "        vertical-align: middle;\n",
       "    }\n",
       "\n",
       "    .dataframe tbody tr th {\n",
       "        vertical-align: top;\n",
       "    }\n",
       "\n",
       "    .dataframe thead th {\n",
       "        text-align: right;\n",
       "    }\n",
       "</style>\n",
       "<table border=\"1\" class=\"dataframe\">\n",
       "  <thead>\n",
       "    <tr style=\"text-align: right;\">\n",
       "      <th></th>\n",
       "      <th>ID</th>\n",
       "      <th>Occupation</th>\n",
       "      <th>Gender</th>\n",
       "      <th>Age</th>\n",
       "      <th>Policy Type</th>\n",
       "      <th>Pref Channel</th>\n",
       "    </tr>\n",
       "  </thead>\n",
       "  <tbody>\n",
       "    <tr>\n",
       "      <th>8</th>\n",
       "      <td>9</td>\n",
       "      <td>nurse</td>\n",
       "      <td>female</td>\n",
       "      <td>18</td>\n",
       "      <td>planC</td>\n",
       "      <td>phone</td>\n",
       "    </tr>\n",
       "    <tr>\n",
       "      <th>5</th>\n",
       "      <td>6</td>\n",
       "      <td>manager</td>\n",
       "      <td>male</td>\n",
       "      <td>19</td>\n",
       "      <td>planA</td>\n",
       "      <td>email</td>\n",
       "    </tr>\n",
       "    <tr>\n",
       "      <th>2</th>\n",
       "      <td>3</td>\n",
       "      <td>biophysicist</td>\n",
       "      <td>male</td>\n",
       "      <td>21</td>\n",
       "      <td>planA</td>\n",
       "      <td>email</td>\n",
       "    </tr>\n",
       "    <tr>\n",
       "      <th>0</th>\n",
       "      <td>1</td>\n",
       "      <td>lab tech</td>\n",
       "      <td>female</td>\n",
       "      <td>43</td>\n",
       "      <td>planC</td>\n",
       "      <td>email</td>\n",
       "    </tr>\n",
       "    <tr>\n",
       "      <th>3</th>\n",
       "      <td>4</td>\n",
       "      <td>sheriff</td>\n",
       "      <td>female</td>\n",
       "      <td>47</td>\n",
       "      <td>planB</td>\n",
       "      <td>phone</td>\n",
       "    </tr>\n",
       "    <tr>\n",
       "      <th>6</th>\n",
       "      <td>7</td>\n",
       "      <td>geologist</td>\n",
       "      <td>male</td>\n",
       "      <td>49</td>\n",
       "      <td>planC</td>\n",
       "      <td>phone</td>\n",
       "    </tr>\n",
       "    <tr>\n",
       "      <th>7</th>\n",
       "      <td>8</td>\n",
       "      <td>messenger</td>\n",
       "      <td>male</td>\n",
       "      <td>51</td>\n",
       "      <td>planB</td>\n",
       "      <td>email</td>\n",
       "    </tr>\n",
       "    <tr>\n",
       "      <th>4</th>\n",
       "      <td>5</td>\n",
       "      <td>painter</td>\n",
       "      <td>male</td>\n",
       "      <td>55</td>\n",
       "      <td>planC</td>\n",
       "      <td>phone</td>\n",
       "    </tr>\n",
       "    <tr>\n",
       "      <th>1</th>\n",
       "      <td>2</td>\n",
       "      <td>farmhand</td>\n",
       "      <td>female</td>\n",
       "      <td>57</td>\n",
       "      <td>planA</td>\n",
       "      <td>phone</td>\n",
       "    </tr>\n",
       "  </tbody>\n",
       "</table>\n",
       "</div>"
      ],
      "text/plain": [
       "   ID    Occupation  Gender  Age Policy Type Pref Channel\n",
       "8   9         nurse  female   18       planC        phone\n",
       "5   6       manager    male   19       planA        email\n",
       "2   3  biophysicist    male   21       planA        email\n",
       "0   1      lab tech  female   43       planC        email\n",
       "3   4       sheriff  female   47       planB        phone\n",
       "6   7     geologist    male   49       planC        phone\n",
       "7   8     messenger    male   51       planB        email\n",
       "4   5       painter    male   55       planC        phone\n",
       "1   2      farmhand  female   57       planA        phone"
      ]
     },
     "execution_count": 29,
     "metadata": {},
     "output_type": "execute_result"
    }
   ],
   "source": [
    "sorted_insurance_age = insurance_policy.sort_values(by = 'Age')\n",
    "sorted_insurance_age"
   ]
  },
  {
   "cell_type": "code",
   "execution_count": 30,
   "id": "800932c5-8d7c-4252-8b11-cd8b3722f110",
   "metadata": {},
   "outputs": [
    {
     "data": {
      "text/html": [
       "<div>\n",
       "<style scoped>\n",
       "    .dataframe tbody tr th:only-of-type {\n",
       "        vertical-align: middle;\n",
       "    }\n",
       "\n",
       "    .dataframe tbody tr th {\n",
       "        vertical-align: top;\n",
       "    }\n",
       "\n",
       "    .dataframe thead th {\n",
       "        text-align: right;\n",
       "    }\n",
       "</style>\n",
       "<table border=\"1\" class=\"dataframe\">\n",
       "  <thead>\n",
       "    <tr style=\"text-align: right;\">\n",
       "      <th></th>\n",
       "      <th>ID</th>\n",
       "      <th>Occupation</th>\n",
       "      <th>Gender</th>\n",
       "      <th>Age</th>\n",
       "      <th>Policy Type</th>\n",
       "      <th>Pref Channel</th>\n",
       "    </tr>\n",
       "  </thead>\n",
       "  <tbody>\n",
       "    <tr>\n",
       "      <th>0</th>\n",
       "      <td>1</td>\n",
       "      <td>lab tech</td>\n",
       "      <td>female</td>\n",
       "      <td>middle-aged</td>\n",
       "      <td>planC</td>\n",
       "      <td>email</td>\n",
       "    </tr>\n",
       "    <tr>\n",
       "      <th>1</th>\n",
       "      <td>2</td>\n",
       "      <td>farmhand</td>\n",
       "      <td>female</td>\n",
       "      <td>mature</td>\n",
       "      <td>planA</td>\n",
       "      <td>phone</td>\n",
       "    </tr>\n",
       "    <tr>\n",
       "      <th>2</th>\n",
       "      <td>3</td>\n",
       "      <td>biophysicist</td>\n",
       "      <td>male</td>\n",
       "      <td>young</td>\n",
       "      <td>planA</td>\n",
       "      <td>email</td>\n",
       "    </tr>\n",
       "    <tr>\n",
       "      <th>3</th>\n",
       "      <td>4</td>\n",
       "      <td>sheriff</td>\n",
       "      <td>female</td>\n",
       "      <td>middle-aged</td>\n",
       "      <td>planB</td>\n",
       "      <td>phone</td>\n",
       "    </tr>\n",
       "    <tr>\n",
       "      <th>4</th>\n",
       "      <td>5</td>\n",
       "      <td>painter</td>\n",
       "      <td>male</td>\n",
       "      <td>mature</td>\n",
       "      <td>planC</td>\n",
       "      <td>phone</td>\n",
       "    </tr>\n",
       "    <tr>\n",
       "      <th>5</th>\n",
       "      <td>6</td>\n",
       "      <td>manager</td>\n",
       "      <td>male</td>\n",
       "      <td>young</td>\n",
       "      <td>planA</td>\n",
       "      <td>email</td>\n",
       "    </tr>\n",
       "    <tr>\n",
       "      <th>6</th>\n",
       "      <td>7</td>\n",
       "      <td>geologist</td>\n",
       "      <td>male</td>\n",
       "      <td>middle-aged</td>\n",
       "      <td>planC</td>\n",
       "      <td>phone</td>\n",
       "    </tr>\n",
       "    <tr>\n",
       "      <th>7</th>\n",
       "      <td>8</td>\n",
       "      <td>messenger</td>\n",
       "      <td>male</td>\n",
       "      <td>mature</td>\n",
       "      <td>planB</td>\n",
       "      <td>email</td>\n",
       "    </tr>\n",
       "    <tr>\n",
       "      <th>8</th>\n",
       "      <td>9</td>\n",
       "      <td>nurse</td>\n",
       "      <td>female</td>\n",
       "      <td>young</td>\n",
       "      <td>planC</td>\n",
       "      <td>phone</td>\n",
       "    </tr>\n",
       "  </tbody>\n",
       "</table>\n",
       "</div>"
      ],
      "text/plain": [
       "   ID    Occupation  Gender          Age Policy Type Pref Channel\n",
       "0   1      lab tech  female  middle-aged       planC        email\n",
       "1   2      farmhand  female       mature       planA        phone\n",
       "2   3  biophysicist    male        young       planA        email\n",
       "3   4       sheriff  female  middle-aged       planB        phone\n",
       "4   5       painter    male       mature       planC        phone\n",
       "5   6       manager    male        young       planA        email\n",
       "6   7     geologist    male  middle-aged       planC        phone\n",
       "7   8     messenger    male       mature       planB        email\n",
       "8   9         nurse  female        young       planC        phone"
      ]
     },
     "execution_count": 30,
     "metadata": {},
     "output_type": "execute_result"
    }
   ],
   "source": [
    "insurance_freq_bin = insurance_policy.copy()\n",
    "\n",
    "i = 0\n",
    "for age in insurance_policy['Age']:\n",
    "    if age < 42:\n",
    "        insurance_freq_bin.at[i, 'Age'] = 'young'\n",
    "    elif 43 <= age < 50:\n",
    "        insurance_freq_bin.at[i, 'Age'] = 'middle-aged'\n",
    "    elif age >= 51:\n",
    "        insurance_freq_bin.at[i, 'Age'] = 'mature'\n",
    "    i+=1\n",
    "        \n",
    "insurance_freq_bin"
   ]
  },
  {
   "cell_type": "markdown",
   "id": "7e3881e9-06c4-40cc-bab1-0c816cebaa92",
   "metadata": {},
   "source": [
    "### b. Examine the descriptive features in the dataset and list the features that you would exclude before you would use the dataset to build a predictive model. For each feature you decide to exclude, explain why you have made this decision."
   ]
  },
  {
   "cell_type": "code",
   "execution_count": 31,
   "id": "ec05b72e-6f6e-4095-9ec0-743665ec986a",
   "metadata": {},
   "outputs": [
    {
     "name": "stdout",
     "output_type": "stream",
     "text": [
      "   ID    Occupation  Gender          Age Policy Type Pref Channel\n",
      "0   1      lab tech  female  middle-aged       planC        email\n",
      "1   2      farmhand  female       mature       planA        phone\n",
      "2   3  biophysicist    male        young       planA        email\n",
      "3   4       sheriff  female  middle-aged       planB        phone\n",
      "4   5       painter    male       mature       planC        phone\n",
      "5   6       manager    male        young       planA        email\n",
      "6   7     geologist    male  middle-aged       planC        phone\n",
      "7   8     messenger    male       mature       planB        email\n",
      "8   9         nurse  female        young       planC        phone\n"
     ]
    }
   ],
   "source": [
    "print(insurance_freq_bin)"
   ]
  },
  {
   "cell_type": "code",
   "execution_count": 32,
   "id": "4828e59f-1857-435c-943c-39514ce27be2",
   "metadata": {},
   "outputs": [
    {
     "name": "stdout",
     "output_type": "stream",
     "text": [
      "   ID    Occupation  Gender          Age Policy Type Pref Channel\n",
      "2   3  biophysicist    male        young       planA        email\n",
      "1   2      farmhand  female       mature       planA        phone\n",
      "6   7     geologist    male  middle-aged       planC        phone\n",
      "0   1      lab tech  female  middle-aged       planC        email\n",
      "5   6       manager    male        young       planA        email\n",
      "7   8     messenger    male       mature       planB        email\n",
      "8   9         nurse  female        young       planC        phone\n",
      "4   5       painter    male       mature       planC        phone\n",
      "3   4       sheriff  female  middle-aged       planB        phone\n",
      "\n",
      "    ID    Occupation  Gender          Age Policy Type Pref Channel\n",
      "0   1      lab tech  female  middle-aged       planC        email\n",
      "1   2      farmhand  female       mature       planA        phone\n",
      "3   4       sheriff  female  middle-aged       planB        phone\n",
      "8   9         nurse  female        young       planC        phone\n",
      "2   3  biophysicist    male        young       planA        email\n",
      "4   5       painter    male       mature       planC        phone\n",
      "5   6       manager    male        young       planA        email\n",
      "6   7     geologist    male  middle-aged       planC        phone\n",
      "7   8     messenger    male       mature       planB        email\n",
      "\n",
      "    ID    Occupation  Gender          Age Policy Type Pref Channel\n",
      "1   2      farmhand  female       mature       planA        phone\n",
      "4   5       painter    male       mature       planC        phone\n",
      "7   8     messenger    male       mature       planB        email\n",
      "0   1      lab tech  female  middle-aged       planC        email\n",
      "3   4       sheriff  female  middle-aged       planB        phone\n",
      "6   7     geologist    male  middle-aged       planC        phone\n",
      "2   3  biophysicist    male        young       planA        email\n",
      "5   6       manager    male        young       planA        email\n",
      "8   9         nurse  female        young       planC        phone\n",
      "\n",
      "    ID    Occupation  Gender          Age Policy Type Pref Channel\n",
      "1   2      farmhand  female       mature       planA        phone\n",
      "2   3  biophysicist    male        young       planA        email\n",
      "5   6       manager    male        young       planA        email\n",
      "3   4       sheriff  female  middle-aged       planB        phone\n",
      "7   8     messenger    male       mature       planB        email\n",
      "0   1      lab tech  female  middle-aged       planC        email\n",
      "4   5       painter    male       mature       planC        phone\n",
      "6   7     geologist    male  middle-aged       planC        phone\n",
      "8   9         nurse  female        young       planC        phone\n",
      "\n",
      "    ID    Occupation  Gender          Age Policy Type Pref Channel\n",
      "0   1      lab tech  female  middle-aged       planC        email\n",
      "2   3  biophysicist    male        young       planA        email\n",
      "5   6       manager    male        young       planA        email\n",
      "7   8     messenger    male       mature       planB        email\n",
      "1   2      farmhand  female       mature       planA        phone\n",
      "3   4       sheriff  female  middle-aged       planB        phone\n",
      "4   5       painter    male       mature       planC        phone\n",
      "6   7     geologist    male  middle-aged       planC        phone\n",
      "8   9         nurse  female        young       planC        phone\n"
     ]
    }
   ],
   "source": [
    "print(insurance_freq_bin.sort_values(by = 'Occupation'))\n",
    "print(\"\\n\", insurance_freq_bin.sort_values(by = 'Gender'))\n",
    "print(\"\\n\", insurance_freq_bin.sort_values(by = 'Age'))\n",
    "print(\"\\n\", insurance_freq_bin.sort_values(by = 'Policy Type'))\n",
    "print(\"\\n\", insurance_freq_bin.sort_values(by = 'Pref Channel'))"
   ]
  },
  {
   "cell_type": "markdown",
   "id": "27c188bd-83bd-41dd-9cc9-f668e75ebd50",
   "metadata": {},
   "source": [
    "    After viewing the data by sorting the set by different features, I would remove the 'occupation' feature.  Every occupation is different, therefore it isn't providing any further insight necessary to reduce the purview of the data.  Also, 'ID' isn't necessary for calculating a bayes model, as this feature it typically used solely for data indexing."
   ]
  },
  {
   "cell_type": "markdown",
   "id": "4e605fd9-c358-4bc3-bbfd-7476e1ba803f",
   "metadata": {},
   "source": [
    "### c. Calculate the probabilities required by a naive Bayes model to represent this domain."
   ]
  },
  {
   "cell_type": "raw",
   "id": "2a78fd99-55ab-44b8-bbb1-7d758427f177",
   "metadata": {},
   "source": [
    "    The following output uses the function \".bayes_network()\" from the attached MLequations file.  It recursively outputs the probability of every unique value in every column given it's parent's probability. The '---->' characters represent the depth of the recursive process.  No '---->' means the function has returned to the initial column.\n",
    "\n",
    "    Let...\n",
    "    n = number of columns\n",
    "    i = 0\n",
    "    P(x.sub.0, ..., x.sub.n) = product[P(x.sub.i | Parents(x.sub.i))]"
   ]
  },
  {
   "cell_type": "code",
   "execution_count": 33,
   "id": "1fbf2a4b-eec3-412f-888e-fe8fc3502507",
   "metadata": {},
   "outputs": [
    {
     "name": "stdout",
     "output_type": "stream",
     "text": [
      "Starting in the 'Gender' column, the initial probability of 'male' is 0.56%\n",
      "\n",
      "----> \n",
      "In the next column 'Age', given the probability of 'male' as 0.56%, the probability of 'young' is 0.22%\n",
      "\n",
      "----> ----> \n",
      "In the next column 'Policy Type', given the probability of 'young' as 0.22%, the probability of 'planA' is 0.22%\n",
      "\n",
      "----> ----> ----> \n",
      "In the next column 'Pref Channel', given the probability of 'planA' as 0.22%, the probability of 'email' is 0.22%\n",
      "\n",
      "----> \n",
      "In the next column 'Age', given the probability of 'male' as 0.56%, the probability of 'mature' is 0.22%\n",
      "\n",
      "----> ----> \n",
      "In the next column 'Policy Type', given the probability of 'mature' as 0.22%, the probability of 'planC' is 0.11%\n",
      "\n",
      "----> ----> ----> \n",
      "In the next column 'Pref Channel', given the probability of 'planC' as 0.11%, the probability of 'phone' is 0.11%\n",
      "\n",
      "----> ----> \n",
      "In the next column 'Policy Type', given the probability of 'mature' as 0.22%, the probability of 'planB' is 0.11%\n",
      "\n",
      "----> ----> ----> \n",
      "In the next column 'Pref Channel', given the probability of 'planB' as 0.11%, the probability of 'email' is 0.11%\n",
      "\n",
      "----> \n",
      "In the next column 'Age', given the probability of 'male' as 0.56%, the probability of 'middle-aged' is 0.11%\n",
      "\n",
      "----> ----> \n",
      "In the next column 'Policy Type', given the probability of 'middle-aged' as 0.11%, the probability of 'planC' is 0.11%\n",
      "\n",
      "----> ----> ----> \n",
      "In the next column 'Pref Channel', given the probability of 'planC' as 0.11%, the probability of 'phone' is 0.11%\n",
      "\n",
      "Starting in the 'Gender' column, the initial probability of 'female' is 0.44%\n",
      "\n",
      "----> \n",
      "In the next column 'Age', given the probability of 'female' as 0.44%, the probability of 'middle-aged' is 0.22%\n",
      "\n",
      "----> ----> \n",
      "In the next column 'Policy Type', given the probability of 'middle-aged' as 0.22%, the probability of 'planC' is 0.11%\n",
      "\n",
      "----> ----> ----> \n",
      "In the next column 'Pref Channel', given the probability of 'planC' as 0.11%, the probability of 'email' is 0.11%\n",
      "\n",
      "----> ----> \n",
      "In the next column 'Policy Type', given the probability of 'middle-aged' as 0.22%, the probability of 'planB' is 0.11%\n",
      "\n",
      "----> ----> ----> \n",
      "In the next column 'Pref Channel', given the probability of 'planB' as 0.11%, the probability of 'phone' is 0.11%\n",
      "\n",
      "----> \n",
      "In the next column 'Age', given the probability of 'female' as 0.44%, the probability of 'mature' is 0.11%\n",
      "\n",
      "----> ----> \n",
      "In the next column 'Policy Type', given the probability of 'mature' as 0.11%, the probability of 'planA' is 0.11%\n",
      "\n",
      "----> ----> ----> \n",
      "In the next column 'Pref Channel', given the probability of 'planA' as 0.11%, the probability of 'phone' is 0.11%\n",
      "\n",
      "----> \n",
      "In the next column 'Age', given the probability of 'female' as 0.44%, the probability of 'young' is 0.11%\n",
      "\n",
      "----> ----> \n",
      "In the next column 'Policy Type', given the probability of 'young' as 0.11%, the probability of 'planC' is 0.11%\n",
      "\n",
      "----> ----> ----> \n",
      "In the next column 'Pref Channel', given the probability of 'planC' as 0.11%, the probability of 'phone' is 0.11%\n",
      "\n"
     ]
    }
   ],
   "source": [
    "insurance_ex = insurance_freq_bin[['Gender', 'Age', 'Policy Type', 'Pref Channel']]\n",
    "data = insurance_ex.copy()\n",
    "bayes_network(data)"
   ]
  },
  {
   "cell_type": "markdown",
   "id": "bd30507d-e572-4cf9-8d72-5668b703f31f",
   "metadata": {},
   "source": [
    "### d. What target level will a naive Bayes model predict for the following query: Gender = female, Age = 30, Policy = planA."
   ]
  },
  {
   "cell_type": "code",
   "execution_count": 34,
   "id": "fcb55f48-9c0d-4d5e-af57-400b9508512b",
   "metadata": {},
   "outputs": [
    {
     "name": "stdout",
     "output_type": "stream",
     "text": [
      "Prediction: 0.0%\n"
     ]
    }
   ],
   "source": [
    "columns = ['Gender', 'Age', 'Policy Type']\n",
    "values = ['female', 'young', 'planA']\n",
    "print(f'Prediction: {bayes_predict(data, columns, values)}%') "
   ]
  },
  {
   "cell_type": "markdown",
   "id": "e9e03c5a-8381-4642-aa97-b941b1f9f626",
   "metadata": {},
   "source": [
    "    After the dataset is partitioned into a pure set of 'Age == young/30', no instances remain where 'Policy Type == planA'.  Therefore, the probability of this query happening is 0%."
   ]
  },
  {
   "cell_type": "markdown",
   "id": "fc6206a7-c55c-4d72-9071-da0c4309b5b0",
   "metadata": {},
   "source": [
    "# **5 Another Naive Bayes Model**"
   ]
  },
  {
   "cell_type": "markdown",
   "id": "6314d7ad-2c8c-4b15-b452-1fff2b87555d",
   "metadata": {},
   "source": [
    "Imagine that you have been given a dataset of 1,000 documents that have been classified as being about entertainment or education. There are 700 entertainment documents in the dataset and 300 education documents in the dataset. The tables below give the number of documents from each topic that a selection of words occurred in."
   ]
  },
  {
   "cell_type": "code",
   "execution_count": 35,
   "id": "11f1411e-5acd-4d0c-9833-1a457eb304f5",
   "metadata": {},
   "outputs": [
    {
     "data": {
      "text/html": [
       "<div>\n",
       "<style scoped>\n",
       "    .dataframe tbody tr th:only-of-type {\n",
       "        vertical-align: middle;\n",
       "    }\n",
       "\n",
       "    .dataframe tbody tr th {\n",
       "        vertical-align: top;\n",
       "    }\n",
       "\n",
       "    .dataframe thead th {\n",
       "        text-align: right;\n",
       "    }\n",
       "</style>\n",
       "<table border=\"1\" class=\"dataframe\">\n",
       "  <thead>\n",
       "    <tr style=\"text-align: right;\">\n",
       "      <th></th>\n",
       "      <th>fun</th>\n",
       "      <th>is</th>\n",
       "      <th>machine</th>\n",
       "      <th>christmas</th>\n",
       "      <th>family</th>\n",
       "      <th>learning</th>\n",
       "    </tr>\n",
       "  </thead>\n",
       "  <tbody>\n",
       "    <tr>\n",
       "      <th>0</th>\n",
       "      <td>415</td>\n",
       "      <td>695</td>\n",
       "      <td>35</td>\n",
       "      <td>0</td>\n",
       "      <td>400</td>\n",
       "      <td>70</td>\n",
       "    </tr>\n",
       "  </tbody>\n",
       "</table>\n",
       "</div>"
      ],
      "text/plain": [
       "   fun   is  machine  christmas  family  learning\n",
       "0  415  695       35          0     400        70"
      ]
     },
     "execution_count": 35,
     "metadata": {},
     "output_type": "execute_result"
    }
   ],
   "source": [
    "entertainment"
   ]
  },
  {
   "cell_type": "code",
   "execution_count": 36,
   "id": "48c5d2fe-2b6b-4a85-aa80-c13ebf1ff913",
   "metadata": {},
   "outputs": [
    {
     "data": {
      "text/html": [
       "<div>\n",
       "<style scoped>\n",
       "    .dataframe tbody tr th:only-of-type {\n",
       "        vertical-align: middle;\n",
       "    }\n",
       "\n",
       "    .dataframe tbody tr th {\n",
       "        vertical-align: top;\n",
       "    }\n",
       "\n",
       "    .dataframe thead th {\n",
       "        text-align: right;\n",
       "    }\n",
       "</style>\n",
       "<table border=\"1\" class=\"dataframe\">\n",
       "  <thead>\n",
       "    <tr style=\"text-align: right;\">\n",
       "      <th></th>\n",
       "      <th>fun</th>\n",
       "      <th>is</th>\n",
       "      <th>machine</th>\n",
       "      <th>christmas</th>\n",
       "      <th>family</th>\n",
       "      <th>learning</th>\n",
       "    </tr>\n",
       "  </thead>\n",
       "  <tbody>\n",
       "    <tr>\n",
       "      <th>0</th>\n",
       "      <td>200</td>\n",
       "      <td>295</td>\n",
       "      <td>120</td>\n",
       "      <td>0</td>\n",
       "      <td>10</td>\n",
       "      <td>105</td>\n",
       "    </tr>\n",
       "  </tbody>\n",
       "</table>\n",
       "</div>"
      ],
      "text/plain": [
       "   fun   is  machine  christmas  family  learning\n",
       "0  200  295      120          0      10       105"
      ]
     },
     "execution_count": 36,
     "metadata": {},
     "output_type": "execute_result"
    }
   ],
   "source": [
    "education"
   ]
  },
  {
   "cell_type": "markdown",
   "id": "7c58ddc4-49f6-477b-a0b3-fcb9542638e9",
   "metadata": {},
   "source": [
    "### a. What target level will a naive Bayes model predict for the following query document: machine learning is fun"
   ]
  },
  {
   "cell_type": "code",
   "execution_count": 37,
   "id": "941692ba-4aaf-436d-8493-e6949e6634e0",
   "metadata": {},
   "outputs": [
    {
     "name": "stdout",
     "output_type": "stream",
     "text": [
      "Prediction in 'entertainment' document: 0.0029%\n",
      "Prediction in 'education' document: 0.0918%\n"
     ]
    }
   ],
   "source": [
    "columns = ['machine', 'learning', 'is', 'fun']\n",
    "entertainment_values = [35, 70, 695, 415]\n",
    "\n",
    "print(f'Prediction in \\'entertainment\\' document: {bayes_predict_sin(entertainment, columns, entertainment_values, 700):.4f}%') \n",
    "\n",
    "columns = ['machine', 'learning', 'is', 'fun']\n",
    "education_values = [120, 105, 295, 200]\n",
    "\n",
    "print(f'Prediction in \\'education\\' document: {bayes_predict_sin(education, columns, education_values, 300):.4f}%') "
   ]
  },
  {
   "cell_type": "markdown",
   "id": "95541e54-c5a6-48be-b739-c2e8877206fb",
   "metadata": {},
   "source": [
    "### b. What target level will a naive Bayes model predict for the following query document: christmas family fun"
   ]
  },
  {
   "cell_type": "markdown",
   "id": "cc30ca03-69b5-4268-adfd-e0b57eb7a7fb",
   "metadata": {},
   "source": [
    "    No calculation is necessary; the feature 'christmas' has zero occurences in both documents.  Therefore a naive Bayes model would predict 0% probability."
   ]
  },
  {
   "cell_type": "markdown",
   "id": "bcfa8e29-a38d-478b-a8b1-b7c819b05ade",
   "metadata": {},
   "source": [
    "### c. What target level will a naive Bayes model predict for the query document in part (b) of this question, if Laplace smoothing with k = 10 and a vocabulary size of 6 is used?"
   ]
  },
  {
   "cell_type": "code",
   "execution_count": 38,
   "id": "7857a371-8ae4-4909-82c5-33b3b110e733",
   "metadata": {},
   "outputs": [
    {
     "name": "stdout",
     "output_type": "stream",
     "text": [
      "Prediction in 'entertainment' with k = 10 and domain = 6: 0.0040%\n",
      "\n",
      "Prediction in 'education' with k = 10 and domain = 6: 0.0009%\n"
     ]
    }
   ],
   "source": [
    "%run MLequations_v3.ipynb\n",
    "\n",
    "columns = ['christmas', 'family', 'fun']\n",
    "entertainment_values = [0, 400, 415]\n",
    "\n",
    "print(f'Prediction in \\'entertainment\\' with k = {10} and domain = {6}: {bayes_predict_sin(entertainment, columns, entertainment_values, 700, 10, 6):.4f}%') \n",
    "\n",
    "columns = ['christmas', 'family', 'fun']\n",
    "education_values = [0, 10, 200]\n",
    "\n",
    "print(f'\\nPrediction in \\'education\\' with k = {10} and domain = {6}: {bayes_predict_sin(education, columns, education_values, 300, 10, 6):.4f}%') "
   ]
  },
  {
   "cell_type": "markdown",
   "id": "4c9e2e82-3f41-477d-a534-5f83b9470566",
   "metadata": {},
   "source": [
    "    Full disclosure, in the Laplacian smoothing formula:\n",
    "        count(f = v|t) + k / count(f|t) + (k * |Domain(f)|)\n",
    "                                ^\n",
    "    I'm not 100% confident that I'm interpreting this value correctly.  I know in other datasets where there are more potential values in a column, I can count the number of occurences given a target feature.  But since there wasn't a clear target feature in this particular case, I went with just the value of occurences of each word.  So for 'fun' in the document 'entertainment', I went with it's count(f|t) being '415'.\n",
    "    \n",
    "    If you could, please let me know in the feedback if my understanding is incorrect.  Thanks Dr. Gudivada!"
   ]
  }
 ],
 "metadata": {
  "kernelspec": {
   "display_name": "Python 3 (ipykernel)",
   "language": "python",
   "name": "python3"
  },
  "language_info": {
   "codemirror_mode": {
    "name": "ipython",
    "version": 3
   },
   "file_extension": ".py",
   "mimetype": "text/x-python",
   "name": "python",
   "nbconvert_exporter": "python",
   "pygments_lexer": "ipython3",
   "version": "3.12.0"
  }
 },
 "nbformat": 4,
 "nbformat_minor": 5
}
