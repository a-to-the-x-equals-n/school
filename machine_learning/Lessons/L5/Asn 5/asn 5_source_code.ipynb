{
 "cells": [
  {
   "cell_type": "markdown",
   "id": "08849ac5-9361-4b32-9c17-79fcb3db827a",
   "metadata": {},
   "source": [
    "# Written Assignment 05\n",
    "\n",
    "*Author: Logan Reine*"
   ]
  },
  {
   "cell_type": "markdown",
   "id": "754472d5-1d2f-444b-966a-b05386bcc803",
   "metadata": {},
   "source": [
    "### Headings"
   ]
  },
  {
   "cell_type": "code",
   "execution_count": 1,
   "id": "7497bc5a-9f47-46ec-887c-669ef2e54ddc",
   "metadata": {},
   "outputs": [],
   "source": [
    "%run MLequations_v2.ipynb\n",
    "import warnings\n",
    "warnings.simplefilter(action = 'ignore', category = FutureWarning)"
   ]
  },
  {
   "cell_type": "markdown",
   "id": "0cc1c9ee-03d4-4a99-aeeb-70c8a30a69b3",
   "metadata": {},
   "source": [
    "### Data Files"
   ]
  },
  {
   "cell_type": "code",
   "execution_count": 2,
   "id": "090864da-f5e0-4b8c-a036-a42fb3bac51d",
   "metadata": {},
   "outputs": [],
   "source": [
    "corrupt = pd.read_csv(\"corruption-data.csv\")\n",
    "surf = pd.read_csv(\"surf.tsv\", delimiter = '\\t')\n",
    "email = pd.read_csv('spam_email.tsv', delimiter = '\\t')\n",
    "rec_sys = pd.read_csv('rec_system.tsv', delimiter = '\\t')\n",
    "houses = pd.read_csv('house_prices.tsv', delimiter = '\\t')"
   ]
  },
  {
   "cell_type": "markdown",
   "id": "5676c42d-f428-487a-b83b-7b6f995736d5",
   "metadata": {},
   "source": [
    "# **1 A Nearest Neighbor Machine Learning Algorithm**"
   ]
  },
  {
   "cell_type": "markdown",
   "id": "02448099-7f81-45e7-8e71-8d67ff668378",
   "metadata": {},
   "source": [
    "The table below lists a dataset that was used to create a nearest neighbor model that predicts whether it will be a good day to go surfing."
   ]
  },
  {
   "cell_type": "code",
   "execution_count": 3,
   "id": "babd097e-59f3-4963-bd88-28e7485e3a63",
   "metadata": {},
   "outputs": [
    {
     "data": {
      "text/html": [
       "<div>\n",
       "<style scoped>\n",
       "    .dataframe tbody tr th:only-of-type {\n",
       "        vertical-align: middle;\n",
       "    }\n",
       "\n",
       "    .dataframe tbody tr th {\n",
       "        vertical-align: top;\n",
       "    }\n",
       "\n",
       "    .dataframe thead th {\n",
       "        text-align: right;\n",
       "    }\n",
       "</style>\n",
       "<table border=\"1\" class=\"dataframe\">\n",
       "  <thead>\n",
       "    <tr style=\"text-align: right;\">\n",
       "      <th></th>\n",
       "      <th>ID</th>\n",
       "      <th>Wave Size (ft)</th>\n",
       "      <th>Wave Period (secs)</th>\n",
       "      <th>Wind Speed (MPH/hr)</th>\n",
       "      <th>Good to Surf</th>\n",
       "    </tr>\n",
       "  </thead>\n",
       "  <tbody>\n",
       "    <tr>\n",
       "      <th>0</th>\n",
       "      <td>1</td>\n",
       "      <td>6</td>\n",
       "      <td>15</td>\n",
       "      <td>5</td>\n",
       "      <td>yes</td>\n",
       "    </tr>\n",
       "    <tr>\n",
       "      <th>1</th>\n",
       "      <td>2</td>\n",
       "      <td>1</td>\n",
       "      <td>6</td>\n",
       "      <td>9</td>\n",
       "      <td>no</td>\n",
       "    </tr>\n",
       "    <tr>\n",
       "      <th>2</th>\n",
       "      <td>3</td>\n",
       "      <td>7</td>\n",
       "      <td>10</td>\n",
       "      <td>4</td>\n",
       "      <td>yes</td>\n",
       "    </tr>\n",
       "    <tr>\n",
       "      <th>3</th>\n",
       "      <td>4</td>\n",
       "      <td>7</td>\n",
       "      <td>12</td>\n",
       "      <td>3</td>\n",
       "      <td>yes</td>\n",
       "    </tr>\n",
       "    <tr>\n",
       "      <th>4</th>\n",
       "      <td>5</td>\n",
       "      <td>2</td>\n",
       "      <td>2</td>\n",
       "      <td>10</td>\n",
       "      <td>no</td>\n",
       "    </tr>\n",
       "    <tr>\n",
       "      <th>5</th>\n",
       "      <td>6</td>\n",
       "      <td>10</td>\n",
       "      <td>2</td>\n",
       "      <td>20</td>\n",
       "      <td>no</td>\n",
       "    </tr>\n",
       "  </tbody>\n",
       "</table>\n",
       "</div>"
      ],
      "text/plain": [
       "   ID  Wave Size (ft)  Wave Period (secs)  Wind Speed (MPH/hr) Good to Surf\n",
       "0   1               6                  15                    5          yes\n",
       "1   2               1                   6                    9           no\n",
       "2   3               7                  10                    4          yes\n",
       "3   4               7                  12                    3          yes\n",
       "4   5               2                   2                   10           no\n",
       "5   6              10                   2                   20           no"
      ]
     },
     "execution_count": 3,
     "metadata": {},
     "output_type": "execute_result"
    }
   ],
   "source": [
    "surf"
   ]
  },
  {
   "cell_type": "markdown",
   "id": "d39d1a0f-7ab3-479c-866d-2e7bb5cdbda0",
   "metadata": {},
   "source": [
    "Assuming that the model uses Euclidean distance to find the nearest neighbor, what prediction will the model return for each of the following query instances:\n",
    "\n",
    "**q1 = {'Wave Size (ft)': 8, 'Wave Period (secs)': 15, 'Wind Speed (MPH/hr)': 2}**  \n",
    "**q2 = {'Wave Size (ft)': 8, 'Wave Period (secs)': 2, 'Wind Speed (MPH/hr)': 18}**  \n",
    "**q3 = {'Wave Size (ft)': 6, 'Wave Period (secs)': 11, 'Wind Speed (MPH/hr)': 4}**  "
   ]
  },
  {
   "cell_type": "code",
   "execution_count": 4,
   "id": "c479e018-d545-435a-bc70-3c6e3f93d115",
   "metadata": {},
   "outputs": [
    {
     "name": "stdout",
     "output_type": "stream",
     "text": [
      "This 1-NN Euclidean Distance model returns: \n",
      "\n",
      "(INDEX, VALUE)\n",
      "(3, 3.3166247903554)\n",
      "\n",
      "The 1 nearest neighbors predict a target feature of: True \n"
     ]
    }
   ],
   "source": [
    "q1 = {'Wave Size (ft)': 8, 'Wave Period (secs)': 15, 'Wind Speed (MPH/hr)': 2}\n",
    "q2 = {'Wave Size (ft)': 8, 'Wave Period (secs)': 2, 'Wind Speed (MPH/hr)': 18}\n",
    "q3 = {'Wave Size (ft)': 6, 'Wave Period (secs)': 11, 'Wind Speed (MPH/hr)': 4}\n",
    "\n",
    "surf_c = format_frame(surf, surf.iloc[0, -1])\n",
    "\n",
    "n = e_dist(q1, surf_c)\n",
    "form('Euclidean Distance', n, 1, maj_vote(n, surf_c))"
   ]
  },
  {
   "cell_type": "code",
   "execution_count": 5,
   "id": "660e9c55-6751-48b1-a63a-c5cf4065c19b",
   "metadata": {},
   "outputs": [
    {
     "name": "stdout",
     "output_type": "stream",
     "text": [
      "This 1-NN Euclidean Distance model returns: \n",
      "\n",
      "(INDEX, VALUE)\n",
      "(5, 2.8284271247461903)\n",
      "\n",
      "The 1 nearest neighbors predict a target feature of: False \n"
     ]
    }
   ],
   "source": [
    "n = e_dist(q2, surf_c)\n",
    "form('Euclidean Distance', n, 1, maj_vote(n, surf_c)) "
   ]
  },
  {
   "cell_type": "code",
   "execution_count": 6,
   "id": "6300bc27-85d5-4018-bc25-93f115149495",
   "metadata": {},
   "outputs": [
    {
     "name": "stdout",
     "output_type": "stream",
     "text": [
      "This 1-NN Euclidean Distance model returns: \n",
      "\n",
      "(INDEX, VALUE)\n",
      "(2, 1.4142135623730951)\n",
      "\n",
      "The 1 nearest neighbors predict a target feature of: True \n"
     ]
    }
   ],
   "source": [
    "n = e_dist(q3, surf_c)\n",
    "form('Euclidean Distance', n, 1, maj_vote(n, surf_c)) "
   ]
  },
  {
   "cell_type": "markdown",
   "id": "6ec6947b-a569-4bf5-824c-7a04cf3d0d76",
   "metadata": {},
   "source": [
    "### Q1 Good to Surf = *yes*  \n",
    "### Q2 Good to Surf = *no*  \n",
    "### Q3 Good to Surf = *yes*  "
   ]
  },
  {
   "cell_type": "markdown",
   "id": "f5e345bc-8b24-4fb7-b260-fbda100562a1",
   "metadata": {},
   "source": [
    "# **2 Email Spam Filtering**  \n"
   ]
  },
  {
   "cell_type": "markdown",
   "id": "442768fd-0616-4c35-ba30-52ef4bd974c0",
   "metadata": {},
   "source": [
    "\n",
    "Email spam filtering models often use a bag-of-words representation for emails. In a bag-of-words representation, the descriptive features that describe a document (in our case, an email) each represent how many times a particular word occurs in the document. One descriptive feature is included for each word in a predefined dictionary. The dictionary is typically defined as the complete set of words that occur in the training dataset.  \n",
    "\n",
    "The table below lists the bag-of-words representation for the following five emails and a target feature, spam, whether they are spam emails or genuine emails:  \n",
    "\n",
    "  1. money, money, money\n",
    "  2. free money of free gambling fun\n",
    "  3. gambling of fun\n",
    "  4. machine learning of fun, fun, fun\n",
    "  5. free machine learning"
   ]
  },
  {
   "cell_type": "code",
   "execution_count": 7,
   "id": "0e28a67e-1123-43c8-b243-ce873f85c45a",
   "metadata": {},
   "outputs": [
    {
     "data": {
      "text/html": [
       "<div>\n",
       "<style scoped>\n",
       "    .dataframe tbody tr th:only-of-type {\n",
       "        vertical-align: middle;\n",
       "    }\n",
       "\n",
       "    .dataframe tbody tr th {\n",
       "        vertical-align: top;\n",
       "    }\n",
       "\n",
       "    .dataframe thead th {\n",
       "        text-align: right;\n",
       "    }\n",
       "</style>\n",
       "<table border=\"1\" class=\"dataframe\">\n",
       "  <thead>\n",
       "    <tr style=\"text-align: right;\">\n",
       "      <th></th>\n",
       "      <th>ID</th>\n",
       "      <th>money</th>\n",
       "      <th>free</th>\n",
       "      <th>of</th>\n",
       "      <th>gambling</th>\n",
       "      <th>fun</th>\n",
       "      <th>machine</th>\n",
       "      <th>learning</th>\n",
       "      <th>spam</th>\n",
       "    </tr>\n",
       "  </thead>\n",
       "  <tbody>\n",
       "    <tr>\n",
       "      <th>0</th>\n",
       "      <td>1</td>\n",
       "      <td>3</td>\n",
       "      <td>0</td>\n",
       "      <td>0</td>\n",
       "      <td>0</td>\n",
       "      <td>0</td>\n",
       "      <td>0</td>\n",
       "      <td>0</td>\n",
       "      <td>True</td>\n",
       "    </tr>\n",
       "    <tr>\n",
       "      <th>1</th>\n",
       "      <td>2</td>\n",
       "      <td>1</td>\n",
       "      <td>2</td>\n",
       "      <td>1</td>\n",
       "      <td>1</td>\n",
       "      <td>1</td>\n",
       "      <td>0</td>\n",
       "      <td>0</td>\n",
       "      <td>True</td>\n",
       "    </tr>\n",
       "    <tr>\n",
       "      <th>2</th>\n",
       "      <td>3</td>\n",
       "      <td>0</td>\n",
       "      <td>0</td>\n",
       "      <td>1</td>\n",
       "      <td>1</td>\n",
       "      <td>1</td>\n",
       "      <td>0</td>\n",
       "      <td>0</td>\n",
       "      <td>True</td>\n",
       "    </tr>\n",
       "    <tr>\n",
       "      <th>3</th>\n",
       "      <td>4</td>\n",
       "      <td>0</td>\n",
       "      <td>0</td>\n",
       "      <td>1</td>\n",
       "      <td>0</td>\n",
       "      <td>3</td>\n",
       "      <td>1</td>\n",
       "      <td>1</td>\n",
       "      <td>False</td>\n",
       "    </tr>\n",
       "    <tr>\n",
       "      <th>4</th>\n",
       "      <td>5</td>\n",
       "      <td>0</td>\n",
       "      <td>1</td>\n",
       "      <td>0</td>\n",
       "      <td>0</td>\n",
       "      <td>0</td>\n",
       "      <td>1</td>\n",
       "      <td>1</td>\n",
       "      <td>False</td>\n",
       "    </tr>\n",
       "  </tbody>\n",
       "</table>\n",
       "</div>"
      ],
      "text/plain": [
       "   ID  money  free  of  gambling  fun  machine  learning   spam\n",
       "0   1      3     0   0         0    0        0         0   True\n",
       "1   2      1     2   1         1    1        0         0   True\n",
       "2   3      0     0   1         1    1        0         0   True\n",
       "3   4      0     0   1         0    3        1         1  False\n",
       "4   5      0     1   0         0    0        1         1  False"
      ]
     },
     "execution_count": 7,
     "metadata": {},
     "output_type": "execute_result"
    }
   ],
   "source": [
    "email"
   ]
  },
  {
   "cell_type": "markdown",
   "id": "f6d5009f-f53e-4f40-8478-107eb34cccd1",
   "metadata": {},
   "source": [
    "1. What target level would a nearest neighbor model using Euclidean distance return for the following email: **machine learning of free**?"
   ]
  },
  {
   "cell_type": "code",
   "execution_count": 8,
   "id": "6b3dae41-71fa-4a4f-8232-49f0b5b0ef39",
   "metadata": {},
   "outputs": [
    {
     "name": "stdout",
     "output_type": "stream",
     "text": [
      "This 1-NN Euclidean Distance model returns: \n",
      "\n",
      "(INDEX, VALUE)\n",
      "(4, 1.0)\n",
      "\n",
      "The 1 nearest neighbors predict a target feature of: False \n"
     ]
    }
   ],
   "source": [
    "q1 = pd.DataFrame({\n",
    "    'money': [0],\n",
    "    'free': [1],\n",
    "    'of': [1], \n",
    "    'gambling': [0],\n",
    "    'fun': [0],\n",
    "    'machine': [1],\n",
    "    'learning': [1]\n",
    "})\n",
    "\n",
    "n = e_dist(q1, email)\n",
    "form('Euclidean Distance', n, 1, maj_vote(n, email))  "
   ]
  },
  {
   "cell_type": "markdown",
   "id": "61a2c161-1dcc-463a-90e8-e04152a2ae1d",
   "metadata": {},
   "source": [
    "  2. What target level would a k ⁣− ⁣NN model with k = 3 and using the **Euclidean distance** return for the same query?"
   ]
  },
  {
   "cell_type": "code",
   "execution_count": 9,
   "id": "ac9adbc9-879e-4d73-ba5a-607c5400aacd",
   "metadata": {},
   "outputs": [
    {
     "name": "stdout",
     "output_type": "stream",
     "text": [
      "This 3-NN Euclidean Distance model returns: \n",
      "\n",
      "(INDEX, VALUE)\n",
      "(4, 1.0)\n",
      "(2, 2.23606797749979)\n",
      "(1, 2.449489742783178)\n",
      "\n",
      "The 3 nearest neighbors predict a target feature of: True \n"
     ]
    }
   ],
   "source": [
    "n = e_dist(q1, email, 3)\n",
    "form('Euclidean Distance', n, 3, maj_vote(n, email))  "
   ]
  },
  {
   "cell_type": "markdown",
   "id": "630c420a-3200-4745-a63d-081130123323",
   "metadata": {},
   "source": [
    "  3. What target level would a weighted k ⁣− ⁣NN model with k=5 and using a weighting scheme of the reciprocal of the squared Euclidean distance between the neighbor and the query, return for the query?"
   ]
  },
  {
   "cell_type": "code",
   "execution_count": 10,
   "id": "1dd0b454-69f6-4ce9-a4d5-4438e2f7a425",
   "metadata": {},
   "outputs": [
    {
     "name": "stdout",
     "output_type": "stream",
     "text": [
      "True Weight: 0.44358974358974357 \n",
      "False Weight: 1.1\n",
      "A 5-NN Weighted Euclidean Distance would return the target level: False\n"
     ]
    }
   ],
   "source": [
    "print('A 5-NN Weighted Euclidean Distance would return the target level:', w_knn(q1, email, 5))"
   ]
  },
  {
   "cell_type": "markdown",
   "id": "e30f164a-f1ef-43b5-9728-0c3fae71bb9d",
   "metadata": {},
   "source": [
    "  4. What target level would a k ⁣− ⁣NN model with k = 3 and using the Manhattan distance return for the same query?"
   ]
  },
  {
   "cell_type": "code",
   "execution_count": 11,
   "id": "fd83f93a-2fa9-41ea-b0a7-bf7126039bc4",
   "metadata": {},
   "outputs": [
    {
     "name": "stdout",
     "output_type": "stream",
     "text": [
      "This 3-NN Manhattan distance model returns: \n",
      "\n",
      "(INDEX, VALUE)\n",
      "(4, 1.0)\n",
      "(3, 4.0)\n",
      "(2, 5.0)\n",
      "\n",
      "The 3 nearest neighbors predict a target feature of: False \n"
     ]
    }
   ],
   "source": [
    "n = man_d(q1, email, 3)\n",
    "form('Manhattan distance', n, 3, maj_vote(n, email)) "
   ]
  },
  {
   "cell_type": "markdown",
   "id": "47db9874-5681-48b2-80f7-3d63167715bf",
   "metadata": {},
   "source": [
    "  5. There are a lot of zero entries in the spam bag-of-words dataset. This is indicative of sparse data and is typical for text analytics. Cosine similarity is often a good choice when dealing with sparse non-binary data. What target level would a 3−NN model using the cosine similarity return for the query?"
   ]
  },
  {
   "cell_type": "code",
   "execution_count": 12,
   "id": "9bda718c-f7a2-4884-ad2a-975cd0a66912",
   "metadata": {},
   "outputs": [
    {
     "name": "stdout",
     "output_type": "stream",
     "text": [
      "This 3-NN Cosine Similarity model returns: \n",
      "\n",
      "(INDEX, VALUE)\n",
      "(3, 0.4330127018922194)\n",
      "(1, 0.5303300858899106)\n",
      "(4, 0.8660254037844388)\n",
      "\n",
      "The 3 nearest neighbors predict a target feature of: False \n"
     ]
    }
   ],
   "source": [
    "n = cos_sim(q1, email, 3)\n",
    "form('Cosine Similarity', n, 3, maj_vote(n, email))                   "
   ]
  },
  {
   "cell_type": "markdown",
   "id": "e50d9a8c-0772-45d9-9bf9-b52a7c72f33b",
   "metadata": {},
   "source": [
    "# **3 Corruption Prediction**  \n"
   ]
  },
  {
   "cell_type": "markdown",
   "id": "5ea3a29b-37df-425f-9625-362bb0421975",
   "metadata": {},
   "source": [
    "The predictive task in this question is to predict the level of corruption in a country based on a range of macro-economic and social features. The following table lists some countries described by the following descriptive features:  \n",
    "\n",
    "  1. **Life Exp** - the mean life expectancy at birth\n",
    "  2. **Top-10 Income** – the percentage of the annual income of the country that goes to the top 10% of earners\n",
    "  3. **Infant Mor** – the number of infant deaths per 1,000 births\n",
    "  4. **Mil Spend** – the percentage of GDP spent on the military\n",
    "  5. **School Years** – the mean number years spent in school by adult females\n",
    "\n",
    "The target feature is the **Corruption Perception Index** (CPI). The **CPI** measures the perceived levels of corruption in the public sector of countries and ranges from 0 (highly corrupt) to 100 (very clean)."
   ]
  },
  {
   "cell_type": "code",
   "execution_count": 13,
   "id": "d0fc732f-cb81-4a80-9d67-094227805980",
   "metadata": {
    "scrolled": true
   },
   "outputs": [
    {
     "data": {
      "text/html": [
       "<div>\n",
       "<style scoped>\n",
       "    .dataframe tbody tr th:only-of-type {\n",
       "        vertical-align: middle;\n",
       "    }\n",
       "\n",
       "    .dataframe tbody tr th {\n",
       "        vertical-align: top;\n",
       "    }\n",
       "\n",
       "    .dataframe thead th {\n",
       "        text-align: right;\n",
       "    }\n",
       "</style>\n",
       "<table border=\"1\" class=\"dataframe\">\n",
       "  <thead>\n",
       "    <tr style=\"text-align: right;\">\n",
       "      <th></th>\n",
       "      <th>ID</th>\n",
       "      <th>Exp</th>\n",
       "      <th>Income</th>\n",
       "      <th>Mor</th>\n",
       "      <th>Spending</th>\n",
       "      <th>Years</th>\n",
       "      <th>CPI</th>\n",
       "    </tr>\n",
       "  </thead>\n",
       "  <tbody>\n",
       "    <tr>\n",
       "      <th>0</th>\n",
       "      <td>Afghanistan</td>\n",
       "      <td>59.61</td>\n",
       "      <td>23.21</td>\n",
       "      <td>74.3</td>\n",
       "      <td>4.44</td>\n",
       "      <td>0.4</td>\n",
       "      <td>1.5171</td>\n",
       "    </tr>\n",
       "    <tr>\n",
       "      <th>1</th>\n",
       "      <td>Haiti</td>\n",
       "      <td>45.00</td>\n",
       "      <td>47.67</td>\n",
       "      <td>73.1</td>\n",
       "      <td>0.09</td>\n",
       "      <td>3.4</td>\n",
       "      <td>1.7999</td>\n",
       "    </tr>\n",
       "    <tr>\n",
       "      <th>2</th>\n",
       "      <td>Nigeria</td>\n",
       "      <td>51.30</td>\n",
       "      <td>38.23</td>\n",
       "      <td>82.6</td>\n",
       "      <td>1.07</td>\n",
       "      <td>4.1</td>\n",
       "      <td>2.4493</td>\n",
       "    </tr>\n",
       "    <tr>\n",
       "      <th>3</th>\n",
       "      <td>Egypt</td>\n",
       "      <td>70.48</td>\n",
       "      <td>26.58</td>\n",
       "      <td>19.6</td>\n",
       "      <td>1.86</td>\n",
       "      <td>5.3</td>\n",
       "      <td>2.8622</td>\n",
       "    </tr>\n",
       "    <tr>\n",
       "      <th>4</th>\n",
       "      <td>Argentina</td>\n",
       "      <td>75.77</td>\n",
       "      <td>32.30</td>\n",
       "      <td>13.3</td>\n",
       "      <td>0.76</td>\n",
       "      <td>10.1</td>\n",
       "      <td>2.9961</td>\n",
       "    </tr>\n",
       "    <tr>\n",
       "      <th>5</th>\n",
       "      <td>China</td>\n",
       "      <td>74.87</td>\n",
       "      <td>29.98</td>\n",
       "      <td>13.7</td>\n",
       "      <td>1.95</td>\n",
       "      <td>6.4</td>\n",
       "      <td>3.6356</td>\n",
       "    </tr>\n",
       "    <tr>\n",
       "      <th>6</th>\n",
       "      <td>Brazil</td>\n",
       "      <td>73.12</td>\n",
       "      <td>42.93</td>\n",
       "      <td>14.5</td>\n",
       "      <td>1.43</td>\n",
       "      <td>7.2</td>\n",
       "      <td>3.7741</td>\n",
       "    </tr>\n",
       "    <tr>\n",
       "      <th>7</th>\n",
       "      <td>Israel</td>\n",
       "      <td>81.30</td>\n",
       "      <td>28.80</td>\n",
       "      <td>3.6</td>\n",
       "      <td>6.77</td>\n",
       "      <td>12.5</td>\n",
       "      <td>5.8069</td>\n",
       "    </tr>\n",
       "    <tr>\n",
       "      <th>8</th>\n",
       "      <td>U.S.A</td>\n",
       "      <td>78.51</td>\n",
       "      <td>29.85</td>\n",
       "      <td>6.3</td>\n",
       "      <td>4.72</td>\n",
       "      <td>13.7</td>\n",
       "      <td>7.1357</td>\n",
       "    </tr>\n",
       "    <tr>\n",
       "      <th>9</th>\n",
       "      <td>Ireland</td>\n",
       "      <td>80.15</td>\n",
       "      <td>27.23</td>\n",
       "      <td>3.5</td>\n",
       "      <td>0.60</td>\n",
       "      <td>11.5</td>\n",
       "      <td>7.5360</td>\n",
       "    </tr>\n",
       "    <tr>\n",
       "      <th>10</th>\n",
       "      <td>U.K.</td>\n",
       "      <td>80.09</td>\n",
       "      <td>28.49</td>\n",
       "      <td>4.4</td>\n",
       "      <td>2.59</td>\n",
       "      <td>13.0</td>\n",
       "      <td>7.7751</td>\n",
       "    </tr>\n",
       "    <tr>\n",
       "      <th>11</th>\n",
       "      <td>Germany</td>\n",
       "      <td>80.24</td>\n",
       "      <td>22.07</td>\n",
       "      <td>3.5</td>\n",
       "      <td>1.31</td>\n",
       "      <td>12.0</td>\n",
       "      <td>8.0461</td>\n",
       "    </tr>\n",
       "    <tr>\n",
       "      <th>12</th>\n",
       "      <td>Canada</td>\n",
       "      <td>80.99</td>\n",
       "      <td>24.79</td>\n",
       "      <td>4.9</td>\n",
       "      <td>1.42</td>\n",
       "      <td>14.2</td>\n",
       "      <td>8.6725</td>\n",
       "    </tr>\n",
       "    <tr>\n",
       "      <th>13</th>\n",
       "      <td>Australia</td>\n",
       "      <td>82.09</td>\n",
       "      <td>25.40</td>\n",
       "      <td>4.2</td>\n",
       "      <td>1.86</td>\n",
       "      <td>11.5</td>\n",
       "      <td>8.8442</td>\n",
       "    </tr>\n",
       "    <tr>\n",
       "      <th>14</th>\n",
       "      <td>Sweden</td>\n",
       "      <td>81.43</td>\n",
       "      <td>22.18</td>\n",
       "      <td>2.4</td>\n",
       "      <td>1.27</td>\n",
       "      <td>12.8</td>\n",
       "      <td>9.2985</td>\n",
       "    </tr>\n",
       "    <tr>\n",
       "      <th>15</th>\n",
       "      <td>New Zealand</td>\n",
       "      <td>80.67</td>\n",
       "      <td>27.81</td>\n",
       "      <td>4.9</td>\n",
       "      <td>1.13</td>\n",
       "      <td>12.3</td>\n",
       "      <td>9.4627</td>\n",
       "    </tr>\n",
       "  </tbody>\n",
       "</table>\n",
       "</div>"
      ],
      "text/plain": [
       "             ID    Exp  Income   Mor  Spending  Years     CPI\n",
       "0   Afghanistan  59.61   23.21  74.3      4.44    0.4  1.5171\n",
       "1         Haiti  45.00   47.67  73.1      0.09    3.4  1.7999\n",
       "2       Nigeria  51.30   38.23  82.6      1.07    4.1  2.4493\n",
       "3         Egypt  70.48   26.58  19.6      1.86    5.3  2.8622\n",
       "4     Argentina  75.77   32.30  13.3      0.76   10.1  2.9961\n",
       "5         China  74.87   29.98  13.7      1.95    6.4  3.6356\n",
       "6        Brazil  73.12   42.93  14.5      1.43    7.2  3.7741\n",
       "7        Israel  81.30   28.80   3.6      6.77   12.5  5.8069\n",
       "8         U.S.A  78.51   29.85   6.3      4.72   13.7  7.1357\n",
       "9       Ireland  80.15   27.23   3.5      0.60   11.5  7.5360\n",
       "10         U.K.  80.09   28.49   4.4      2.59   13.0  7.7751\n",
       "11      Germany  80.24   22.07   3.5      1.31   12.0  8.0461\n",
       "12       Canada  80.99   24.79   4.9      1.42   14.2  8.6725\n",
       "13    Australia  82.09   25.40   4.2      1.86   11.5  8.8442\n",
       "14       Sweden  81.43   22.18   2.4      1.27   12.8  9.2985\n",
       "15  New Zealand  80.67   27.81   4.9      1.13   12.3  9.4627"
      ]
     },
     "execution_count": 13,
     "metadata": {},
     "output_type": "execute_result"
    }
   ],
   "source": [
    "corrupt"
   ]
  },
  {
   "cell_type": "markdown",
   "id": "ebd9aebb-7a24-404e-a5fe-5bb7afc1d493",
   "metadata": {},
   "source": [
    "We will use Russia as our query country for CPI prediction with the following values for the descriptive features:  \n",
    "\n",
    "    Life Expectancy = 67.62\n",
    "    Top-10 Income = 31.68\n",
    "    Infant Mortality = 10.0\n",
    "    Military Spending = 3.87\n",
    "    School Years = 12.9\n",
    "\n",
    "  a. What value would a 3-nearest neighbor prediction model using Euclidean distance return for the CPI of Russia?"
   ]
  },
  {
   "cell_type": "code",
   "execution_count": 14,
   "id": "5e01f709-fd1d-4877-9e9b-85c69d14452c",
   "metadata": {},
   "outputs": [
    {
     "name": "stdout",
     "output_type": "stream",
     "text": [
      "This 3-NN Euclidean Distance model returns: \n",
      "\n",
      "(INDEX, VALUE)\n",
      "(4, 9.757509928255255)\n",
      "(5, 10.72748339546606)\n",
      "(8, 11.704422241187302)\n",
      "\n",
      "The 3 nearest neighbors predict a target feature of: 4.589133333333334 CPI\n"
     ]
    }
   ],
   "source": [
    "russia = pd.DataFrame({\n",
    "    'ID': ['Russia'],\n",
    "    'Exp': [67.62],\n",
    "    'Income': [31.68],\n",
    "    'Mor': [10.],\n",
    "    'Spending': [3.87],\n",
    "    'Years': [12.9],\n",
    "    'CPI': [None]\n",
    "})\n",
    "\n",
    "n = e_dist(russia, corrupt, 3)\n",
    "form('Euclidean Distance', n, 3, maj_vote_f(n, corrupt), 'CPI')"
   ]
  },
  {
   "cell_type": "markdown",
   "id": "918567dc-f794-4a92-8cac-53f7b12b1516",
   "metadata": {},
   "source": [
    "  b. What value would a weighted k ⁣− ⁣NN prediction model return for the CPI of Russia? Use k=16 (i.e., the full dataset) and a weighting scheme of the reciprocal of the squared Euclidean distance between the neighbor and the query."
   ]
  },
  {
   "cell_type": "code",
   "execution_count": 15,
   "id": "7911aee7-fc21-4955-8d20-eeffbb4a1f29",
   "metadata": {},
   "outputs": [
    {
     "name": "stdout",
     "output_type": "stream",
     "text": [
      "This 16-NN Weighted Euclidean Distance model would predict: 5.908707536841123 CPI\n"
     ]
    }
   ],
   "source": [
    "wn = w_knn_f(russia, corrupt, 16)\n",
    "print('This 16-NN Weighted Euclidean Distance model would predict:', wn, 'CPI')"
   ]
  },
  {
   "cell_type": "markdown",
   "id": "793d952a-f5db-4753-9fe7-95f2742c6223",
   "metadata": {},
   "source": [
    "c. The descriptive features in this dataset are of different types. For example, some are percentages, others are measured in years, and others are measured in counts per 1,000. We should always consider normalizing our data, but it is particularly important to do this when the descriptive features are measured in different units. What value would a 3-nearest neighbor prediction model using Euclidean distance return for the CPI of Russia when the descriptive features have been normalized using range normalization?"
   ]
  },
  {
   "cell_type": "code",
   "execution_count": 16,
   "id": "51213d9a-9d61-464e-b7fc-3513987074d3",
   "metadata": {},
   "outputs": [
    {
     "name": "stdout",
     "output_type": "stream",
     "text": [
      "This 3-NN Euclidean Distance model returns: \n",
      "\n",
      "(INDEX, VALUE)\n",
      "(8, 0.336150849995879)\n",
      "(10, 0.4125642049866904)\n",
      "(4, 0.5554148303798639)\n",
      "\n",
      "The 3 nearest neighbors predict a target feature of: 5.968966666666667 CPI\n"
     ]
    }
   ],
   "source": [
    "# Concatenate query and dataframe\n",
    "query_frame = pd.concat([corrupt, russia], ignore_index = True)\n",
    "\n",
    "# normalize query and dataframe together\n",
    "norm_query_frame = norm(query_frame)\n",
    "\n",
    "# separate query and frame\n",
    "norm_russia = norm_query_frame.iloc[16:, 0:]\n",
    "\n",
    "# adjust query index\n",
    "norm_russia = norm_russia.rename(index = {16: 0})\n",
    "\n",
    "# normalized dataframe without russia\n",
    "norm_corrupt = norm_query_frame.drop(16)\n",
    "\n",
    "n = e_dist(norm_russia, norm_corrupt, 3)\n",
    "form('Euclidean Distance', n, 3, maj_vote_f(n, norm_corrupt), 'CPI')"
   ]
  },
  {
   "cell_type": "markdown",
   "id": "55d82ff2-9583-4b55-a227-124c83c6b082",
   "metadata": {},
   "source": [
    "d. What value would a weighted k ⁣− ⁣NN prediction model—with k=16 (i.e., the full dataset) and using a weighting scheme of the reciprocal of the squared Euclidean distance between the neighbor and the query—return for the CPI of Russia when it is applied to the range-normalized data?"
   ]
  },
  {
   "cell_type": "code",
   "execution_count": 17,
   "id": "e6931459-164c-48e3-be35-a0c809ba4097",
   "metadata": {},
   "outputs": [
    {
     "name": "stdout",
     "output_type": "stream",
     "text": [
      "This 16-NN Weighted Euclidean Distance model would predict: 6.63466119877024 CPI\n"
     ]
    }
   ],
   "source": [
    "wn = w_knn_f(norm_russia, norm_corrupt, 16)\n",
    "print('This 16-NN Weighted Euclidean Distance model would predict:', wn, 'CPI')"
   ]
  },
  {
   "cell_type": "markdown",
   "id": "98806171-3bac-43f1-bdec-1ef908086df2",
   "metadata": {},
   "source": [
    "e. The actual 2011 CPI for Russia was 2.4488. Which of the predictions made was the most accurate? Why do you think this was?"
   ]
  },
  {
   "cell_type": "markdown",
   "id": "4e62efdd-e719-4d9d-8b15-c87f6f9d4faf",
   "metadata": {},
   "source": [
    "*Well, with intuition alone I would assume a weighted and normalized set would predict the nearest neighbor, but my answer for 3.a is the closest to the 2011 actual with a CPI of 4.5891.  This made me think my functions/calculations might've been off, so I went back and re-calculated earlier problems, but the equations/results were accurate.  I do not know how to logically declare why my answer for 3.a was the closest, as requested by this question.  I know there is always a possibility for an instance query to return a result that's not an accurate representation of the data based on a \"freak\" instance.  But I don't know where my equations are getting mixed up arithmetically.  I've actually delayed submitting this assignment by several days so I could troubleshoot my code just to make sure, and to no avail.  So reluctantly, I'll "
   ]
  },
  {
   "cell_type": "markdown",
   "id": "136dbdab-29c5-4954-bb11-07358f9cea28",
   "metadata": {},
   "source": [
    "# 4 Recommender systems"
   ]
  },
  {
   "cell_type": "markdown",
   "id": "e9f12e92-90fe-43d8-b56f-cef1f9c77f2a",
   "metadata": {},
   "source": [
    "You have been given the job of building a recommender system for a large online shop that has a stock of over 100,000 items. In this domain the behavior of customers is captured in terms of what items they have bought or not bought. For example, the following table lists the behavior of two customers in this domain for a subset of the items that at least one of the customers has bought."
   ]
  },
  {
   "cell_type": "code",
   "execution_count": 18,
   "id": "db7221e9-39a1-421c-b224-8bbc7e7163dc",
   "metadata": {},
   "outputs": [
    {
     "data": {
      "text/html": [
       "<div>\n",
       "<style scoped>\n",
       "    .dataframe tbody tr th:only-of-type {\n",
       "        vertical-align: middle;\n",
       "    }\n",
       "\n",
       "    .dataframe tbody tr th {\n",
       "        vertical-align: top;\n",
       "    }\n",
       "\n",
       "    .dataframe thead th {\n",
       "        text-align: right;\n",
       "    }\n",
       "</style>\n",
       "<table border=\"1\" class=\"dataframe\">\n",
       "  <thead>\n",
       "    <tr style=\"text-align: right;\">\n",
       "      <th></th>\n",
       "      <th>ID</th>\n",
       "      <th>Item 107</th>\n",
       "      <th>Item 498</th>\n",
       "      <th>Item 7256</th>\n",
       "      <th>Item 28063</th>\n",
       "      <th>Item 75328</th>\n",
       "    </tr>\n",
       "  </thead>\n",
       "  <tbody>\n",
       "    <tr>\n",
       "      <th>0</th>\n",
       "      <td>1</td>\n",
       "      <td>True</td>\n",
       "      <td>True</td>\n",
       "      <td>True</td>\n",
       "      <td>False</td>\n",
       "      <td>False</td>\n",
       "    </tr>\n",
       "    <tr>\n",
       "      <th>1</th>\n",
       "      <td>2</td>\n",
       "      <td>True</td>\n",
       "      <td>False</td>\n",
       "      <td>False</td>\n",
       "      <td>True</td>\n",
       "      <td>True</td>\n",
       "    </tr>\n",
       "  </tbody>\n",
       "</table>\n",
       "</div>"
      ],
      "text/plain": [
       "   ID  Item 107  Item 498  Item 7256  Item 28063  Item 75328\n",
       "0   1      True      True       True       False       False\n",
       "1   2      True     False      False        True        True"
      ]
     },
     "execution_count": 18,
     "metadata": {},
     "output_type": "execute_result"
    }
   ],
   "source": [
    "rec_sys"
   ]
  },
  {
   "cell_type": "markdown",
   "id": "1b16ea99-c389-4368-bd21-c1e7d3031e31",
   "metadata": {},
   "source": [
    "The company has decided to use a similarity-based model to implement the recommender system.\n",
    "\n",
    "  1. Which of the following three similarity indexes do you think the system should be based on?"
   ]
  },
  {
   "cell_type": "markdown",
   "id": "47ad56b2-670d-44c1-a8b3-93673dc3eee2",
   "metadata": {},
   "source": [
    "*I think Russel-Rao would do well in this context.  If the online store has over 100,000 items, then that's a lot of inventory a hypothetical shopper might not have even seen.  The Russel-Rao index doesn't account for any co-absences, so any obscure items not viewed by a shopper wouldn't affect the formula.  But instead the Russel-Rao index would almost convey a ratio of (total purchases) / (total items viewed).  It would assosciate similar purchases with other buyers, versus base suggestions on what buyers didn't buy*"
   ]
  },
  {
   "cell_type": "markdown",
   "id": "3b297499-f5e3-46c4-892e-744410e6e928",
   "metadata": {},
   "source": [
    "  2. What items will the system recommend to the following customer? Assume that the recommender system uses the similarity index you chose in the first part of this question and is trained on the sample dataset listed above. Also assume that the system generates recommendations for query customers by finding the customer most similar to them in the dataset and then recommending the items that this similar customer has bought but that the query customer has not bought."
   ]
  },
  {
   "cell_type": "code",
   "execution_count": 19,
   "id": "54024f0f-61ac-442d-9252-fa7917937854",
   "metadata": {},
   "outputs": [
    {
     "data": {
      "text/html": [
       "<div>\n",
       "<style scoped>\n",
       "    .dataframe tbody tr th:only-of-type {\n",
       "        vertical-align: middle;\n",
       "    }\n",
       "\n",
       "    .dataframe tbody tr th {\n",
       "        vertical-align: top;\n",
       "    }\n",
       "\n",
       "    .dataframe thead th {\n",
       "        text-align: right;\n",
       "    }\n",
       "</style>\n",
       "<table border=\"1\" class=\"dataframe\">\n",
       "  <thead>\n",
       "    <tr style=\"text-align: right;\">\n",
       "      <th></th>\n",
       "      <th>ID</th>\n",
       "      <th>Item 107</th>\n",
       "      <th>Item 498</th>\n",
       "      <th>Item 7256</th>\n",
       "      <th>Item 28063</th>\n",
       "      <th>Item 75328</th>\n",
       "    </tr>\n",
       "  </thead>\n",
       "  <tbody>\n",
       "    <tr>\n",
       "      <th>0</th>\n",
       "      <td>Query</td>\n",
       "      <td>True</td>\n",
       "      <td>False</td>\n",
       "      <td>True</td>\n",
       "      <td>False</td>\n",
       "      <td>False</td>\n",
       "    </tr>\n",
       "  </tbody>\n",
       "</table>\n",
       "</div>"
      ],
      "text/plain": [
       "      ID  Item 107  Item 498  Item 7256  Item 28063  Item 75328\n",
       "0  Query      True     False       True       False       False"
      ]
     },
     "execution_count": 19,
     "metadata": {},
     "output_type": "execute_result"
    }
   ],
   "source": [
    "query = pd.DataFrame({\n",
    "    'ID': ['Query'],\n",
    "    'Item 107': [True],\n",
    "    'Item 498': [False],\n",
    "    'Item 7256': [True],\n",
    "    'Item 28063': [False],\n",
    "    'Item 75328': [False]\n",
    "})\n",
    "query"
   ]
  },
  {
   "cell_type": "code",
   "execution_count": 20,
   "id": "687d1923-4930-4ae8-b58c-70d5668d4712",
   "metadata": {},
   "outputs": [
    {
     "name": "stdout",
     "output_type": "stream",
     "text": [
      "\n",
      "QUERY\n",
      "    Item 107  Item 498  Item 7256  Item 28063  Item 75328\n",
      "0      True     False       True       False       False\n",
      "\n",
      "DATA INSTANCE\n",
      "    Item 107  Item 498  Item 7256  Item 28063  Item 75328\n",
      "0      True      True       True       False       False\n",
      "\n",
      "QUERY\n",
      "    Item 107  Item 498  Item 7256  Item 28063  Item 75328\n",
      "0      True     False       True       False       False\n",
      "\n",
      "DATA INSTANCE\n",
      "    Item 107  Item 498  Item 7256  Item 28063  Item 75328\n",
      "1      True     False      False        True        True\n",
      "\n",
      "Russel-Rao Index\n",
      "Query 1: 0.4 \n",
      "Query 2: 0.2\n"
     ]
    }
   ],
   "source": [
    "q1 = rr(query.iloc[0:,1:], rec_sys.iloc[[0],1:])\n",
    "q2 = rr(query.iloc[0:,1:], rec_sys.iloc[[1],1:])\n",
    "\n",
    "print('\\nRussel-Rao Index\\nQuery 1:', q1, '\\nQuery 2:', q2)"
   ]
  },
  {
   "cell_type": "markdown",
   "id": "88889ad2-a403-4827-8af9-2e30cae9c67b",
   "metadata": {},
   "source": [
    "*Since Query 1 has a higher similarity index, it would be more suitable for recommendations.  Next, the recommender system would check where values were true in the data instance and false in the query instance.  These would be the items recommended to the shopper.  Item 498 is true for the data instance, yet false for the query instance.  Item 498 would be recommended.*"
   ]
  },
  {
   "cell_type": "markdown",
   "id": "384c3843-4484-44c4-804b-1023d10aac6a",
   "metadata": {},
   "source": [
    "# 5 Rent Prediction  \n",
    "\n",
    "You have been asked by a San Francisco property investment company to create a predictive model that will generate house price estimates for properties they are considering purchasing as rental properties. The table below lists a sample of properties that have recently been sold for rental in the city. The descriptive features in this dataset are Size (the property size in square feet) and Rent (the estimated monthly rental value of the property in dollars). The target feature, Price, lists the prices that these properties were sold for in dollars."
   ]
  },
  {
   "cell_type": "code",
   "execution_count": 21,
   "id": "ae9e8f82-7607-4537-ba78-3fb528d147d0",
   "metadata": {},
   "outputs": [
    {
     "data": {
      "text/html": [
       "<div>\n",
       "<style scoped>\n",
       "    .dataframe tbody tr th:only-of-type {\n",
       "        vertical-align: middle;\n",
       "    }\n",
       "\n",
       "    .dataframe tbody tr th {\n",
       "        vertical-align: top;\n",
       "    }\n",
       "\n",
       "    .dataframe thead th {\n",
       "        text-align: right;\n",
       "    }\n",
       "</style>\n",
       "<table border=\"1\" class=\"dataframe\">\n",
       "  <thead>\n",
       "    <tr style=\"text-align: right;\">\n",
       "      <th></th>\n",
       "      <th>ID</th>\n",
       "      <th>Size</th>\n",
       "      <th>Rent</th>\n",
       "      <th>Price</th>\n",
       "    </tr>\n",
       "  </thead>\n",
       "  <tbody>\n",
       "    <tr>\n",
       "      <th>0</th>\n",
       "      <td>1</td>\n",
       "      <td>2700</td>\n",
       "      <td>9235</td>\n",
       "      <td>2000000</td>\n",
       "    </tr>\n",
       "    <tr>\n",
       "      <th>1</th>\n",
       "      <td>2</td>\n",
       "      <td>1315</td>\n",
       "      <td>1800</td>\n",
       "      <td>820000</td>\n",
       "    </tr>\n",
       "    <tr>\n",
       "      <th>2</th>\n",
       "      <td>3</td>\n",
       "      <td>1050</td>\n",
       "      <td>1250</td>\n",
       "      <td>800000</td>\n",
       "    </tr>\n",
       "    <tr>\n",
       "      <th>3</th>\n",
       "      <td>4</td>\n",
       "      <td>2200</td>\n",
       "      <td>7000</td>\n",
       "      <td>1750000</td>\n",
       "    </tr>\n",
       "    <tr>\n",
       "      <th>4</th>\n",
       "      <td>5</td>\n",
       "      <td>1800</td>\n",
       "      <td>3800</td>\n",
       "      <td>1450000</td>\n",
       "    </tr>\n",
       "    <tr>\n",
       "      <th>5</th>\n",
       "      <td>6</td>\n",
       "      <td>1900</td>\n",
       "      <td>4000</td>\n",
       "      <td>1500500</td>\n",
       "    </tr>\n",
       "    <tr>\n",
       "      <th>6</th>\n",
       "      <td>7</td>\n",
       "      <td>960</td>\n",
       "      <td>800</td>\n",
       "      <td>720000</td>\n",
       "    </tr>\n",
       "  </tbody>\n",
       "</table>\n",
       "</div>"
      ],
      "text/plain": [
       "   ID  Size  Rent    Price\n",
       "0   1  2700  9235  2000000\n",
       "1   2  1315  1800   820000\n",
       "2   3  1050  1250   800000\n",
       "3   4  2200  7000  1750000\n",
       "4   5  1800  3800  1450000\n",
       "5   6  1900  4000  1500500\n",
       "6   7   960   800   720000"
      ]
     },
     "execution_count": 21,
     "metadata": {},
     "output_type": "execute_result"
    }
   ],
   "source": [
    "houses"
   ]
  },
  {
   "cell_type": "markdown",
   "id": "238e8c20-b47d-449c-b69f-b175b0537237",
   "metadata": {},
   "source": [
    "  1. Create a k−d tree for this dataset. Assume the following order over the features: Rent, then Size."
   ]
  },
  {
   "cell_type": "code",
   "execution_count": 22,
   "id": "5a30e978-f6c4-467f-bf27-ca180074a72f",
   "metadata": {},
   "outputs": [],
   "source": [
    "tree_seeds = houses[['Size', 'Rent']].to_records(index = False).tolist()\n",
    "kd_tree = build_treehouse(tree_seeds)"
   ]
  },
  {
   "cell_type": "markdown",
   "id": "50f484d0-023e-4db5-864f-59bec5c47e6b",
   "metadata": {},
   "source": [
    "  2. Using the k ⁣− ⁣d tree that you created in the first part of this question, find the nearest neighbor to the following query: Size = 1,000, Rent = 2,200."
   ]
  },
  {
   "cell_type": "code",
   "execution_count": 23,
   "id": "1a5a399e-74b9-44f1-8b13-f9bfd380fd36",
   "metadata": {},
   "outputs": [
    {
     "name": "stdout",
     "output_type": "stream",
     "text": [
      "Nearest Neighbor: (1315, 1800)\n"
     ]
    }
   ],
   "source": [
    "# Query for nearest neighbors\n",
    "n = k_neighbor(kd_tree, [1000, 2200])\n",
    "\n",
    "print(\"Nearest Neighbor:\", n.item)"
   ]
  }
 ],
 "metadata": {
  "kernelspec": {
   "display_name": "Python 3 (ipykernel)",
   "language": "python",
   "name": "python3"
  },
  "language_info": {
   "codemirror_mode": {
    "name": "ipython",
    "version": 3
   },
   "file_extension": ".py",
   "mimetype": "text/x-python",
   "name": "python",
   "nbconvert_exporter": "python",
   "pygments_lexer": "ipython3",
   "version": "3.12.0"
  }
 },
 "nbformat": 4,
 "nbformat_minor": 5
}
