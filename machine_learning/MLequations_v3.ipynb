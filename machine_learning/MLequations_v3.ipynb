{
 "cells": [
  {
   "cell_type": "markdown",
   "id": "65a538f5-c67c-4fe3-a05c-4f67fec727a8",
   "metadata": {
    "jp-MarkdownHeadingCollapsed": true
   },
   "source": [
    "### If you want to use these functions in your code, save this file in the same folder as your homework file. Then put `%run MLequations_v3.ipynb` at the top of your current notebook to import this package."
   ]
  },
  {
   "cell_type": "markdown",
   "id": "eca3946d-77d7-4d51-b196-fea9c25a865d",
   "metadata": {
    "jp-MarkdownHeadingCollapsed": true
   },
   "source": [
    "# Imports"
   ]
  },
  {
   "cell_type": "code",
   "execution_count": 3,
   "id": "a036b14e-cbcb-4165-a358-dac8a4404ce6",
   "metadata": {},
   "outputs": [],
   "source": [
    "import math as m\n",
    "import pandas as pd\n",
    "import numpy as np\n",
    "import statistics as stat\n",
    "import matplotlib.pyplot as plt"
   ]
  },
  {
   "cell_type": "markdown",
   "id": "8b747982-46a0-46aa-89f5-d1834ca3ab04",
   "metadata": {
    "jp-MarkdownHeadingCollapsed": true
   },
   "source": [
    "# Information Based Learning "
   ]
  },
  {
   "cell_type": "markdown",
   "id": "c0b0913b-c348-485e-94e6-c5f1722b4c6b",
   "metadata": {},
   "source": [
    "### Shannon's Entropy"
   ]
  },
  {
   "cell_type": "code",
   "execution_count": 56,
   "id": "964bf47f-e2d5-4709-bcde-473760c8dafd",
   "metadata": {},
   "outputs": [],
   "source": [
    "# t = target features\n",
    "# _D = dataframe / partitioned dataframe\n",
    "# x = unique classifications of target feature\n",
    "# i = dictionary; keys[features]; values[number of occurences]\n",
    "# n = length of the column vector\n",
    "def shannon_entropy(_D):\n",
    "    i = dict(_D[_D.columns[-1]].value_counts())\n",
    "    n = _D.iloc[:,-1].size\n",
    "    return sum([-(i[x] / n) * m.log2((i[x] / n)) for x in i.keys()])"
   ]
  },
  {
   "cell_type": "markdown",
   "id": "60d59d63-f9f8-4f6c-ad7d-3ff15bdf1854",
   "metadata": {},
   "source": [
    "### Remainder"
   ]
  },
  {
   "cell_type": "code",
   "execution_count": 63,
   "id": "97ee6a52-119b-41ec-8c5a-806f58f838da",
   "metadata": {},
   "outputs": [],
   "source": [
    "# d = descriptive feature column\n",
    "# _D = dataframe\n",
    "# t = target feature column\n",
    "# n_D = new dataframe with only 'd' and 't'\n",
    "def remainder(d, _D):\n",
    "    i = dict(d.value_counts())\n",
    "    t = _D.iloc[:,-1]\n",
    "    n = d.size\n",
    "    n_D = pd.DataFrame({'d': d, 't': t})\n",
    "    return sum((i[x] / n ) * shannon_entropy(n_D[n_D['d'] == x]) for x in i.keys())"
   ]
  },
  {
   "attachments": {},
   "cell_type": "markdown",
   "id": "400ec419-a2e2-478f-97a6-76893852e20c",
   "metadata": {},
   "source": [
    "### Information Gain"
   ]
  },
  {
   "cell_type": "code",
   "execution_count": 67,
   "id": "4317eccb-a0d3-44e4-b178-c0b8a2928d8e",
   "metadata": {},
   "outputs": [],
   "source": [
    "# d = descriptive feature column\n",
    "# _D = dataframe\n",
    "def information_gain(d, _D):\n",
    "    return shannon_entropy(_D) - remainder(d, _D)"
   ]
  },
  {
   "cell_type": "markdown",
   "id": "2c5ff14e-c2e5-4a47-9bca-ee386132c0d0",
   "metadata": {},
   "source": [
    "### Information Gain Ratio"
   ]
  },
  {
   "cell_type": "code",
   "execution_count": 61,
   "id": "c0359f52-725f-4298-84e1-651d5e973bf5",
   "metadata": {},
   "outputs": [],
   "source": [
    "def gain_ratio(d, _D):\n",
    "    return information_gain(d,_D) / shannon_entropy(_D)"
   ]
  },
  {
   "cell_type": "markdown",
   "id": "ede28304-1848-484f-93b9-59a776822d4c",
   "metadata": {},
   "source": [
    "### Gini Index"
   ]
  },
  {
   "cell_type": "code",
   "execution_count": 57,
   "id": "db599ad2-23f6-413d-87a2-d95edc54c718",
   "metadata": {},
   "outputs": [],
   "source": [
    "def gini_index(_D):\n",
    "    i = dict(_D[_D.columns[-1]].value_counts())\n",
    "    n = _D.iloc[:,-1].size\n",
    "    return 1 - (sum([(i[x] / n)**2 for x in i.keys()]))"
   ]
  },
  {
   "cell_type": "markdown",
   "id": "de920588-e145-44d2-ade2-7ab34014411b",
   "metadata": {},
   "source": [
    "### Remainder by Gini Index"
   ]
  },
  {
   "cell_type": "code",
   "execution_count": 66,
   "id": "c635b8f6-9622-4d27-bb41-fb940557eb34",
   "metadata": {},
   "outputs": [],
   "source": [
    "def gini_remainder(d, _D):\n",
    "    i = dict(d.value_counts())\n",
    "    t = _D.iloc[:,-1]\n",
    "    n = d.size\n",
    "    n_D = pd.DataFrame({'d': d, 't': t})\n",
    "    return sum((i[x] / n ) * gini_index(n_D[n_D['d'] == x]) for x in i.keys())"
   ]
  },
  {
   "cell_type": "markdown",
   "id": "b8ea5194-66b1-422e-a28c-e793828ab45b",
   "metadata": {},
   "source": [
    "### Information Gain using Gini Index"
   ]
  },
  {
   "cell_type": "code",
   "execution_count": 69,
   "id": "f2844e55-a160-4cd6-8d59-c7853d8a37ae",
   "metadata": {},
   "outputs": [],
   "source": [
    "def gini_info_gain(d, _D):\n",
    "    return gini_index(_D) - gini_remainder(d, _D)"
   ]
  },
  {
   "cell_type": "markdown",
   "id": "c4edd03f-1e6a-48ab-b477-e548dbb54267",
   "metadata": {},
   "source": [
    "# Similarity Based Learning"
   ]
  },
  {
   "cell_type": "markdown",
   "id": "696b236a-e67f-4be6-9d08-e9d77011c4b6",
   "metadata": {},
   "source": [
    "### Euclidean Distance"
   ]
  },
  {
   "cell_type": "code",
   "execution_count": 13,
   "id": "e17b4cba-707f-46ec-879c-f1086c293ca3",
   "metadata": {},
   "outputs": [],
   "source": [
    "# n = distances to neighbors\n",
    "# k = number of neighbors\n",
    "def e_dist(query, df, k = 1):\n",
    "    n = []\n",
    "    df = df.iloc[:,1:-1]\n",
    "    for i, row in df.iterrows():\n",
    "        dist = m.sqrt(sum(((query[col] - row[col]) ** 2) for col in df.columns))\n",
    "        n.append((i, dist))\n",
    "    n.sort(key = lambda s: s[1])\n",
    "    return n[:k]"
   ]
  },
  {
   "cell_type": "markdown",
   "id": "dc892af2-1594-46f1-b456-6ecdf6ef0e3d",
   "metadata": {
    "jp-MarkdownHeadingCollapsed": true
   },
   "source": [
    "### Weighted K-NN Boolean"
   ]
  },
  {
   "cell_type": "code",
   "execution_count": 14,
   "id": "00815988-d45d-4a12-8f78-8a9c4f544f46",
   "metadata": {},
   "outputs": [],
   "source": [
    "# k = number of neighbors\n",
    "# df = dataframe\n",
    "# w_m = dictionary of weighted distances\n",
    "# n = sorted distances to k neighbors\n",
    "# t = sum of weights where neighbor is 'True'\n",
    "# f = sum of weights where neighbor is 'False'\n",
    "# returns True if 't' is greater than 'f'; False otherwise\n",
    "def w_knn(query, df, k = 1):\n",
    "    w_n = {}\n",
    "    n = e_dist(query, df, k)\n",
    "    w_n = {n[i][0]: 1 / (n[i][1]**2) for i in range(k)}\n",
    "    t, f = 0, 0\n",
    "    for i in range(k):\n",
    "        if df.iat[i, -1] == True:\n",
    "            t += w_n[i] \n",
    "        else:\n",
    "            f += w_n[i]\n",
    "    print('True Weight:', t, '\\nFalse Weight:' ,f)\n",
    "    if t > f:\n",
    "        return True\n",
    "    return False"
   ]
  },
  {
   "cell_type": "markdown",
   "id": "9a237152-5707-466d-8481-ae47ab929ef8",
   "metadata": {},
   "source": [
    "### Weighted K-NN Float"
   ]
  },
  {
   "cell_type": "code",
   "execution_count": 15,
   "id": "fc00879f-0ebb-4ecf-a7ad-01d1d9a05f82",
   "metadata": {},
   "outputs": [],
   "source": [
    "# k = number of neighbors\n",
    "# w_n = dictionary of weighted distances\n",
    "# n = sorted distances to k neighbors\n",
    "# sum_w = sum of the weights\n",
    "# sum_w_tf = sum of the weights * target feature\n",
    "def w_knn_f(query, df, k = 1):\n",
    "    w_n = {}\n",
    "    n = e_dist(query, df, k)\n",
    "    w_n = {n[i][0]: 1 / (n[i][1]**2) for i in range(k)}\n",
    "    sum_w, sum_w_tf= 0, 0\n",
    "    for x in w_n.keys():\n",
    "        sum_w += w_n[x]\n",
    "        sum_w_tf += (w_n[x] * df.iloc[x,-1])\n",
    "    return sum_w_tf / sum_w"
   ]
  },
  {
   "cell_type": "markdown",
   "id": "7f2be388-f038-4378-9d4c-404cb408f808",
   "metadata": {},
   "source": [
    "### Manhattan Distance"
   ]
  },
  {
   "cell_type": "code",
   "execution_count": 16,
   "id": "ddacb684-9c24-4817-ab5d-cdbc954c7966",
   "metadata": {},
   "outputs": [],
   "source": [
    "# k = number of neighbors\n",
    "# n = tuple of distances between query to nearest neighbors; n[index][distance]\n",
    "# df = dataframe\n",
    "# i = index\n",
    "# dist = distance from query to current neighbor\n",
    "# returns the closest k distances; indexes consistent with original 'df'\n",
    "def man_d(query, df, k = 1):\n",
    "    n = []\n",
    "    df = df.iloc[:,1:-1]\n",
    "    for i, row in df.iterrows():\n",
    "        dist = sum(abs(float(query[col] - row[col])) for col in df.columns)\n",
    "        n.append((i, dist))\n",
    "    n.sort(key = lambda s: s[1])\n",
    "    return n[:k]"
   ]
  },
  {
   "cell_type": "markdown",
   "id": "5a4198af-ef4e-4f76-867e-b0c8bbab729a",
   "metadata": {},
   "source": [
    "### Cosine Similarity"
   ]
  },
  {
   "cell_type": "code",
   "execution_count": 17,
   "id": "a145c323-0091-4daf-9735-c6478d51b123",
   "metadata": {},
   "outputs": [],
   "source": [
    "# c_sim = cosine similarity of current instance\n",
    "# a_vec = magnitude of query vector\n",
    "# b_vec = magnitude of current instance vector\n",
    "# n = tuple of query's cosine similarities with k neighbors; indexes consistent with original 'df'\n",
    "def cos_sim(query, df, k = 1):\n",
    "    n = []\n",
    "    df = df.iloc[:,1:-1]\n",
    "    a_vec = m.sqrt(sum(query[a]**2 for a in query.keys()))\n",
    "    for i, row in df.iterrows():\n",
    "        b_vec = m.sqrt(sum(row[b]**2 for b in df.columns))\n",
    "        sim = float(sum((query[col] * row[col]) / (a_vec * b_vec) for col in df.columns))\n",
    "        n.append((i, sim))\n",
    "    n.sort(key = lambda s: s[1])\n",
    "    return n[-k:]"
   ]
  },
  {
   "cell_type": "markdown",
   "id": "e4f99e45-6bd2-4819-a6ef-3652142a0fbc",
   "metadata": {},
   "source": [
    "### Majority Vote Boolean"
   ]
  },
  {
   "cell_type": "code",
   "execution_count": 18,
   "id": "0e23e92c-e799-4eb2-a41a-107efa633b10",
   "metadata": {},
   "outputs": [],
   "source": [
    "def maj_vote(n, df):\n",
    "    t, f = 0, 0\n",
    "    for i in range(len(n)):\n",
    "        if df.iat[n[i][0], -1] == True:\n",
    "            t += 1\n",
    "        else:\n",
    "            f += 1\n",
    "    if max(t, f) == t:\n",
    "        return 'True'\n",
    "    return 'False'"
   ]
  },
  {
   "cell_type": "markdown",
   "id": "d3c6ed09-9b06-42e5-818c-f141a7c1f99a",
   "metadata": {},
   "source": [
    "### Majority Vote Float"
   ]
  },
  {
   "cell_type": "code",
   "execution_count": 19,
   "id": "d0b5df08-9835-4443-9e30-907a340e9db4",
   "metadata": {},
   "outputs": [],
   "source": [
    "def maj_vote_f(n, df):\n",
    "    num = 0\n",
    "    for i in range(len(n)):\n",
    "        num += df.iat[n[i][0], -1]\n",
    "    return num / len(n)"
   ]
  },
  {
   "cell_type": "markdown",
   "id": "166841cc-9b71-493a-9830-c932f17dcd03",
   "metadata": {},
   "source": [
    "### Formatted Output"
   ]
  },
  {
   "cell_type": "code",
   "execution_count": 20,
   "id": "2cf69d32-9dee-49d2-9dab-5fa430b7376f",
   "metadata": {},
   "outputs": [],
   "source": [
    "def form(model, n, k = 1, vote = None, unit = \"\"):\n",
    "    print('This {}-NN {} model returns: \\n\\n(INDEX, VALUE)'.format(k, model))\n",
    "    for x in n: \n",
    "        print(x)\n",
    "    if vote != None:\n",
    "        print('\\nThe {} nearest neighbors predict a target feature of: {} {}'.format(k, vote, unit)) "
   ]
  },
  {
   "cell_type": "markdown",
   "id": "cd5fa60b-d542-4d8b-9152-bae369e9f91c",
   "metadata": {},
   "source": [
    "### Convert Binary Target Feature to True / False"
   ]
  },
  {
   "cell_type": "code",
   "execution_count": 21,
   "id": "0848c22d-eda5-44eb-90d2-31c643a7041a",
   "metadata": {},
   "outputs": [],
   "source": [
    "def format_frame(df, tf):\n",
    "    df_c = df.copy()\n",
    "    for i in range(len(df)):\n",
    "        if df_c.iat[i, -1] == tf:\n",
    "            df_c.iat[i, -1] = 1\n",
    "        else:\n",
    "            df_c.iat[i, -1] = -1\n",
    "    return df_c"
   ]
  },
  {
   "cell_type": "markdown",
   "id": "0dbc406d-4e39-4b93-aee8-eb33fc833329",
   "metadata": {},
   "source": [
    "### Range Normalization"
   ]
  },
  {
   "cell_type": "code",
   "execution_count": 22,
   "id": "94da6fe4-1474-4ad9-8001-a3937f11d425",
   "metadata": {},
   "outputs": [],
   "source": [
    "def norm(df):\n",
    "    df.iloc[:,1:-1] = df.iloc[:,1:-1].apply(normalize)\n",
    "    return df\n",
    "\n",
    "def normalize(v, h = 1, l = 0):\n",
    "    v_min, v_max = v.min(), v.max()\n",
    "    return [((x - v_min) / (v_max - v_min)) * (h - l) + l for x in v]"
   ]
  },
  {
   "cell_type": "markdown",
   "id": "bfb429d1-8d6c-42db-b29b-f37ce4de9c2c",
   "metadata": {
    "jp-MarkdownHeadingCollapsed": true
   },
   "source": [
    "### Russell-Rao"
   ]
  },
  {
   "cell_type": "code",
   "execution_count": 23,
   "id": "02aa38c1-0170-43a3-bcf8-238ecd974885",
   "metadata": {},
   "outputs": [],
   "source": [
    "def rr(query, df):\n",
    "    cp = 0\n",
    "    print('\\nQUERY\\n', query)\n",
    "    print('\\nDATA INSTANCE\\n', df)\n",
    "    for i in range(df.shape[1]):\n",
    "        if query.iat[0, i] == df.iat[0, i]:\n",
    "            if query.iat[0, i]:\n",
    "                cp += 1\n",
    "    return cp / df.shape[1]"
   ]
  },
  {
   "cell_type": "markdown",
   "id": "4ecc5990-3126-479f-8723-938e7bca4e65",
   "metadata": {
    "jp-MarkdownHeadingCollapsed": true
   },
   "source": [
    "# Trees"
   ]
  },
  {
   "cell_type": "markdown",
   "id": "7960305b-88ba-4123-8eda-f909231e8f39",
   "metadata": {
    "jp-MarkdownHeadingCollapsed": true
   },
   "source": [
    "### K-D Tree"
   ]
  },
  {
   "cell_type": "code",
   "execution_count": 24,
   "id": "0c00099d-f257-42b0-ada1-a6f4a3c979b2",
   "metadata": {},
   "outputs": [],
   "source": [
    "class Node:\n",
    "    def __init__(self, item, left = None, right = None, axis = None):\n",
    "        self.item = item\n",
    "        self.left = left\n",
    "        self.right = right\n",
    "        self.axis = axis\n",
    "\n",
    "def build_treehouse(tree_branch, depth = 0):\n",
    "    if not tree_branch:\n",
    "        return None\n",
    "\n",
    "    k = len(tree_branch[0])\n",
    "    axis = depth % k\n",
    "    tree_branch.sort(key = lambda x: (x[1], x[0]))\n",
    "\n",
    "    median_index = len(tree_branch) // 2\n",
    "    actual_median = tree_branch[median_index]\n",
    "    \n",
    "    return Node(\n",
    "        item = actual_median,\n",
    "        left = build_treehouse(tree_branch[:median_index], depth + 1),\n",
    "        right = build_treehouse(tree_branch[median_index + 1:], depth + 1),\n",
    "        axis = axis\n",
    "    )"
   ]
  },
  {
   "cell_type": "markdown",
   "id": "e0ab385d-fe36-490b-a620-ceacc402f505",
   "metadata": {},
   "source": [
    "### K-D Tree Nearest Neighbor"
   ]
  },
  {
   "cell_type": "code",
   "execution_count": 25,
   "id": "8cdbb16d-4d8b-49be-a8cb-e287d8f7f212",
   "metadata": {},
   "outputs": [],
   "source": [
    "def distance(target, root):\n",
    "    return sum((a - b) ** 2 for a, b in zip(target, root))\n",
    "\n",
    "def k_neighbor(tree_root, target, depth = 0, best = None):\n",
    "    if tree_root is None:\n",
    "        return best\n",
    "\n",
    "    k = len(target)\n",
    "    axis = depth % k\n",
    "    \n",
    "    next_best = None\n",
    "    next_branch = None\n",
    "\n",
    "    if best is None or distance(target, tree_root.item) < distance(target, best.item):\n",
    "        next_best = tree_root\n",
    "    if target[axis] < tree_root.item[axis]:\n",
    "        next_branch = tree_root.left\n",
    "    else:\n",
    "        next_branch = tree_root.right\n",
    "        \n",
    "    return k_neighbor(next_branch, target, depth + 1, next_best)"
   ]
  },
  {
   "cell_type": "markdown",
   "id": "d6e95332-3688-4a65-b589-3788bedb9077",
   "metadata": {
    "jp-MarkdownHeadingCollapsed": true
   },
   "source": [
    "# Probability Based Learning"
   ]
  },
  {
   "cell_type": "markdown",
   "id": "7e64de82-bc6f-408f-89ab-5e71489c31c3",
   "metadata": {
    "jp-MarkdownHeadingCollapsed": true
   },
   "source": [
    "### Combinations"
   ]
  },
  {
   "cell_type": "code",
   "execution_count": 28,
   "id": "a54922c0-e026-4aba-a0df-fb3f7dd0cfd4",
   "metadata": {},
   "outputs": [],
   "source": [
    "# n choose r\n",
    "# n = total number of trials\n",
    "# r = number of occurences for a specific outcome\n",
    "def combinations(n, r):\n",
    "    return m.factorial(n) / (m.factorial(r) * m.factorial(n-r))"
   ]
  },
  {
   "cell_type": "markdown",
   "id": "e1e7a87b-d0ee-4393-85d3-da7360b25d70",
   "metadata": {
    "jp-MarkdownHeadingCollapsed": true
   },
   "source": [
    "### Binomial Distribution"
   ]
  },
  {
   "cell_type": "code",
   "execution_count": 26,
   "id": "fce276b7-4f07-4acc-bffa-eeb427682a4c",
   "metadata": {},
   "outputs": [],
   "source": [
    "# n = total number of trials\n",
    "# r = number of occurences for a specific outcome\n",
    "# p = probability of success on a single trial\n",
    "def bin_dist(n, r, p):\n",
    "    return (combinations(n, r) * p**r * (1-p)**(n-r))"
   ]
  },
  {
   "cell_type": "markdown",
   "id": "6278eb31-b9c6-400a-aa1c-41bf1b00b9ed",
   "metadata": {
    "jp-MarkdownHeadingCollapsed": true
   },
   "source": [
    "### Binomial Distribution (At Least)"
   ]
  },
  {
   "cell_type": "code",
   "execution_count": 27,
   "id": "059396be-ce45-4d5d-b52e-940917bba81c",
   "metadata": {},
   "outputs": [],
   "source": [
    "# n = total number of trials\n",
    "# r = number of occurences for a specific outcome\n",
    "# p = probability of success on a single trial\n",
    "def bin_dist_least(n, r, p):\n",
    "    if r == n:\n",
    "        return bin_dist(n, r, p)\n",
    "    return bin_dist(n, r, p) + bin_dist_least(n, r + 1, p)"
   ]
  },
  {
   "cell_type": "markdown",
   "id": "aeca10dd-72ba-4f1d-8e48-a56251953a16",
   "metadata": {
    "jp-MarkdownHeadingCollapsed": true
   },
   "source": [
    "### Z Score"
   ]
  },
  {
   "cell_type": "code",
   "execution_count": 30,
   "id": "a6764548-70e5-40f3-85af-3abb8a99faf2",
   "metadata": {},
   "outputs": [],
   "source": [
    "def z_score(x, mu, sigma):\n",
    "    return (x - mu) / sigma"
   ]
  },
  {
   "cell_type": "markdown",
   "id": "95f38c6c-6037-4a14-9580-961eeddd3552",
   "metadata": {
    "jp-MarkdownHeadingCollapsed": true
   },
   "source": [
    "### Probability Density Function"
   ]
  },
  {
   "cell_type": "code",
   "execution_count": 2,
   "id": "58c74cf3-5bb5-4b51-9c2b-4f90c46da996",
   "metadata": {},
   "outputs": [],
   "source": [
    "def prob_density_function(x, data):\n",
    "    mu = data.mean\n",
    "    sigma = data.stdev\n",
    "    z = z_score(x, mu, sigma)\n",
    "    print(\"  N ( {}, {:.4f}, {:.4f} )\".format(x, mu, sigma))\n",
    "    return 1 / (m.sqrt(2 * m.pi * (sigma**2) * (m.e**(z**2))))"
   ]
  },
  {
   "cell_type": "markdown",
   "id": "c8737206-1fcb-4e68-ae7a-ba5309911c48",
   "metadata": {
    "jp-MarkdownHeadingCollapsed": true
   },
   "source": [
    "### Naive Bayes Product"
   ]
  },
  {
   "cell_type": "code",
   "execution_count": 31,
   "id": "bd982146-1dfa-4a64-9e28-79247e9474ee",
   "metadata": {},
   "outputs": [],
   "source": [
    "# data = pure subset\n",
    "# target = target feature value\n",
    "# x_values = list of x values\n",
    "def bayes_product(data, target, x_values, bayes_prod = 1):\n",
    "    \n",
    "    for feature in data.columns[1:-1]:\n",
    "        \n",
    "        x = x_values.pop(0)\n",
    "        \n",
    "        print(f\"\\n{feature} | {target}\")\n",
    "        \n",
    "        bayes_prod *= prob_density_function(x, data[feature])\n",
    "        \n",
    "    return bayes_prod"
   ]
  },
  {
   "cell_type": "markdown",
   "id": "d371834e-8611-48fb-8c9a-8a32a8feecb8",
   "metadata": {
    "jp-MarkdownHeadingCollapsed": true
   },
   "source": [
    "### Naive Bayes Query"
   ]
  },
  {
   "cell_type": "code",
   "execution_count": 32,
   "id": "06584bc1-a771-4ec9-a4ef-fcbb76c8956c",
   "metadata": {},
   "outputs": [],
   "source": [
    "def bayes_predict(data, features, values):\n",
    "    \n",
    "    if len(features) <= 0:\n",
    "        return 1\n",
    "        \n",
    "    col = features.pop(0)\n",
    "    val = values.pop(0)\n",
    "\n",
    "    try: # catch if the partitioned set no longer includes the next value to query\n",
    "        n = len(data[col])\n",
    "        data_dict = data[col].value_counts().to_dict()\n",
    "        \n",
    "        prob = data_dict[val] / n\n",
    "        \n",
    "    except KeyError as e:\n",
    "        return 0 # returns 0% probability since the query is impossible\n",
    "\n",
    "    return prob * bayes_predict(data[data[col] == val], features, values)"
   ]
  },
  {
   "cell_type": "markdown",
   "id": "7879d43e-b025-4124-aa53-af47770b3d23",
   "metadata": {
    "jp-MarkdownHeadingCollapsed": true
   },
   "source": [
    "### Bayes Prediction Query Singular"
   ]
  },
  {
   "cell_type": "code",
   "execution_count": 33,
   "id": "77f853cb-e9f8-4dcc-93c1-b29e530bc6ec",
   "metadata": {},
   "outputs": [],
   "source": [
    "def bayes_predict_sin(data, features, values, n, k = 0, domain = 0):\n",
    "    \n",
    "    if len(features) <= 0:\n",
    "        return 1\n",
    "        \n",
    "    col = features.pop(0)\n",
    "    val = values.pop(0)\n",
    "    \n",
    "    if not k:\n",
    "        prob = val / n\n",
    "        return prob * bayes_predict_sin(data[data[col] == val], features, values, n)\n",
    "    \n",
    "    prob = (val + k) / (n + (k * domain))\n",
    "\n",
    "    return prob * bayes_predict_sin(data[data[col] == val], features, values, n, k, domain)"
   ]
  },
  {
   "cell_type": "markdown",
   "id": "67ea2f56-8ba0-4e3b-b0ee-ad87d12081b1",
   "metadata": {
    "jp-MarkdownHeadingCollapsed": true
   },
   "source": [
    "### Naive Bayes Network"
   ]
  },
  {
   "cell_type": "code",
   "execution_count": 34,
   "id": "7f97f5e2-6b28-495b-9703-3629ab6a2cd6",
   "metadata": {},
   "outputs": [],
   "source": [
    "def bayes_network(data, y = None, given_y = None, index = 0):\n",
    "    \n",
    "    # base case\n",
    "    if index == len(data.columns):\n",
    "        return 1\n",
    "\n",
    "    # total number of instances\n",
    "    n_rows = len(data.iloc[:, index])\n",
    "\n",
    "    # retrieve all unique values of a column and how many times they occur\n",
    "    bayes_dict = data.iloc[:, index].value_counts().to_dict()\n",
    "\n",
    "    # Get the name of the current column\n",
    "    columns = data.columns.to_list()\n",
    "    column_name = columns[index]\n",
    "\n",
    "    # Get all unique values of current column as a list\n",
    "    keys = list(bayes_dict.keys())\n",
    "    \n",
    "    for key_value in bayes_dict.keys():\n",
    "        x_key = keys.pop(0)\n",
    "        prob_x = bayes_dict[key_value] / n_rows\n",
    "        data_next = data[data[column_name] == x_key]\n",
    "        if not given_y:\n",
    "            print(f\"Starting in the '{column_name}' column, the initial probability of '{x_key}' is {prob_x:.2f}%\\n\")\n",
    "            bayes_network(data_next, x_key, prob_x, index + 1)\n",
    "        else:\n",
    "            for i in range(index):\n",
    "                print(\"---->\", end = ' ')\n",
    "            print()\n",
    "            prob_x_y = prob_x * given_y\n",
    "            print(f\"In the next column '{column_name}', given the probability of '{y}' as {given_y:.2f}%, the probability of '{x_key}' is {prob_x_y:.2f}%\\n\")\n",
    "            bayes_network(data_next, x_key, prob_x_y, index + 1)"
   ]
  },
  {
   "cell_type": "markdown",
   "id": "61d6b4fb-6cd5-49cc-b585-5bc716bcca01",
   "metadata": {
    "jp-MarkdownHeadingCollapsed": true
   },
   "source": [
    "# Error Based Learning"
   ]
  },
  {
   "cell_type": "markdown",
   "id": "dda7e603-8f20-42d7-8164-b8ea64880033",
   "metadata": {
    "jp-MarkdownHeadingCollapsed": true
   },
   "source": [
    "### Multivariate Regression"
   ]
  },
  {
   "cell_type": "code",
   "execution_count": 35,
   "id": "60125a15-ee98-4e81-9a02-83edcb8f684d",
   "metadata": {},
   "outputs": [],
   "source": [
    "# w = list of weights\n",
    "# d = list of feature values\n",
    "# x = current index of weights\n",
    "# y = current index of feature values\n",
    "def multi_reg(w, d, d_0 = [1]):\n",
    "    d = d_0 + d # prepend '1' to the list of feature values\n",
    "    return sum([x * y for x, y in zip(w, d)])"
   ]
  },
  {
   "cell_type": "markdown",
   "id": "82b5a70d-572a-45f1-ae77-74ee9f013dca",
   "metadata": {
    "jp-MarkdownHeadingCollapsed": true
   },
   "source": [
    "### Error Sum"
   ]
  },
  {
   "cell_type": "code",
   "execution_count": 36,
   "id": "501789b5-1fc4-4c5b-aa3f-aad890834a80",
   "metadata": {},
   "outputs": [],
   "source": [
    "# t = list of target values\n",
    "# w = list of weights\n",
    "# data = dataset as a dataframe\n",
    "# start = beginning column index for multivariate linear regression formula\n",
    "# end = ending column index for multivariate linear regression\n",
    "\n",
    "def error_sum(t, w, data, start = 1, end = None, error_sum = 0):\n",
    "\n",
    "    for i in range(len(t)):\n",
    "        d = data.iloc[i, start:end].tolist()\n",
    "        error = (t[i] - multi_reg(w, d))\n",
    "        error_sum += error\n",
    "        \n",
    "    return error_sum"
   ]
  },
  {
   "cell_type": "markdown",
   "id": "32a4b845-aa18-4d87-85d4-07bab60cc95f",
   "metadata": {
    "jp-MarkdownHeadingCollapsed": true
   },
   "source": [
    "### Squared Error Sum"
   ]
  },
  {
   "cell_type": "code",
   "execution_count": 37,
   "id": "e9247c31-a8b7-4af1-9147-258b70ba5ad7",
   "metadata": {},
   "outputs": [],
   "source": [
    "# t = list of target values\n",
    "# w = list of weights\n",
    "# data = dataset as a dataframe\n",
    "# start = beginning column index for multivariate linear regression formula\n",
    "# end = ending column index for multivariate linear regression\n",
    "\n",
    "def squared_error_sum(t, w, data, start = 1, end = None, squared_error_sum = 0):\n",
    "    \n",
    "    for i in range(len(t)):\n",
    "            d = data.iloc[i, start:end].tolist()\n",
    "            error = (t[i] - multi_reg(w, d))**2\n",
    "            squared_error_sum += error\n",
    "        \n",
    "    return squared_error_sum / 2"
   ]
  },
  {
   "cell_type": "markdown",
   "id": "6e17e0ca-5ec8-47be-88d7-2aaf6642972c",
   "metadata": {
    "jp-MarkdownHeadingCollapsed": true
   },
   "source": [
    "### Error Delta"
   ]
  },
  {
   "cell_type": "code",
   "execution_count": 38,
   "id": "241e3cd2-cab7-4f1a-99d3-c9ed77cb563b",
   "metadata": {},
   "outputs": [],
   "source": [
    "# t = list of target values\n",
    "# w = list of weights\n",
    "# data = dataset as a dataframe\n",
    "# start = beginning column index for multivariate linear regression formula\n",
    "# end = ending column index for multivariate linear regression\n",
    "# d = feature value column as list\n",
    "\n",
    "def error_delta(t, w, col, data, start = 1, end = None, delta = 0):\n",
    "\n",
    "    for i in range(len(t)):\n",
    "        d = data.iloc[i, start:end].tolist()\n",
    "        error = col[i] * (t[i] - multi_reg(w, d))\n",
    "        delta += error\n",
    "        \n",
    "    return delta"
   ]
  },
  {
   "cell_type": "markdown",
   "id": "ffd91cfd-1bbc-4af7-9275-12a2136f99d2",
   "metadata": {
    "jp-MarkdownHeadingCollapsed": true
   },
   "source": [
    "### Logistic Regression"
   ]
  },
  {
   "cell_type": "code",
   "execution_count": 39,
   "id": "9a1920b7-41b6-4f13-a9e5-823d1d2a8354",
   "metadata": {},
   "outputs": [],
   "source": [
    "def logistic(w, i, data):\n",
    "    \n",
    "    x = data.iloc[i, 1:].tolist()\n",
    "    degree = [1, x[0], x[1], (x[0]**2), (x[1]**2), (x[0]**3), (x[1]**3), (x[0]*x[1])]\n",
    "    \n",
    "    log_reg = sum([a * b for a, b, in zip(w, degree)])\n",
    "    \n",
    "    return 1 / (1 + m.e**-(log_reg))"
   ]
  },
  {
   "cell_type": "markdown",
   "id": "f9e66e2f-721d-48ff-9b43-f226dfc33f3b",
   "metadata": {
    "jp-MarkdownHeadingCollapsed": true
   },
   "source": [
    "### Support Vector Machines"
   ]
  },
  {
   "cell_type": "code",
   "execution_count": 40,
   "id": "dc8ca4fc-4852-4acc-b243-586ac9409bbd",
   "metadata": {},
   "outputs": [],
   "source": [
    "def svm(input_vector, data, alpha, w0, d_dot_q = 0, vector = 0):\n",
    "    \n",
    "    for i in range(len(data)):\n",
    "        support_vector = data.iloc[i, 0:].tolist()\n",
    "        \n",
    "        d_dot_q = sum([d * q for d,q in zip(support_vector, input_vector)])\n",
    "        \n",
    "        vector += (support_vector[-1] * alpha[i] * d_dot_q + w0)\n",
    "\n",
    "    return vector"
   ]
  },
  {
   "cell_type": "markdown",
   "id": "11572b8e-c1e9-4553-bd8e-c520591d935c",
   "metadata": {
    "jp-MarkdownHeadingCollapsed": true
   },
   "source": [
    "### Kernel Trick"
   ]
  },
  {
   "cell_type": "code",
   "execution_count": 41,
   "id": "1507d541-14eb-46d4-b426-7e853c8f5354",
   "metadata": {
    "jupyter": {
     "source_hidden": true
    }
   },
   "outputs": [],
   "source": [
    "def svm_kernel(t, input_vector, data, alpha, w0, start = 0, end = None, svm = 0):\n",
    "    \n",
    "    for i in range(len(data)):\n",
    "        support_vector = data.iloc[i, start:end].tolist()\n",
    "\n",
    "        kernel = sum([((d * q) + 1)**2 for d, q in zip(support_vector, input_vector)])\n",
    "        svm += (t[i] * alpha[i] * kernel + w0)\n",
    "\n",
    "    return svm"
   ]
  },
  {
   "cell_type": "markdown",
   "id": "56c72969-05f0-4668-98d7-3ff68d7b98c1",
   "metadata": {
    "jp-MarkdownHeadingCollapsed": true
   },
   "source": [
    "### Basis Functions With SVM"
   ]
  },
  {
   "cell_type": "code",
   "execution_count": 42,
   "id": "8dc3367d-c86b-4b18-9252-146aba2dc7ef",
   "metadata": {},
   "outputs": [],
   "source": [
    "def svm_basis(t, q, data, alpha, w0, start = 0, end = None, basis = 0):\n",
    "\n",
    "    input_vector = [(q[0]**2), (q[1]**2), (m.sqrt(2) * q[0] * q[1]), (m.sqrt(2) * q[0]), (m.sqrt(2) * q[1]), 1]\n",
    "    \n",
    "    for i in range(len(data)):\n",
    "        \n",
    "        d = data.iloc[i, start:end].tolist()\n",
    "        support_vector = [(d[0]**2), (d[1]**2), (m.sqrt(2) * d[0] * d[1]), (m.sqrt(2) * d[0]), (m.sqrt(2) * d[1]), 1]\n",
    "        \n",
    "        d_dot_q = sum([d * q for d,q in zip(support_vector, input_vector)])\n",
    "        basis += (d[-1] * alpha[i] * d_dot_q + w0)\n",
    "\n",
    "    return basis"
   ]
  },
  {
   "cell_type": "markdown",
   "id": "d02527c2-09ed-4d7d-aa19-2735563efc4c",
   "metadata": {
    "jp-MarkdownHeadingCollapsed": true
   },
   "source": [
    "# Evaluation Based Learning"
   ]
  },
  {
   "cell_type": "markdown",
   "id": "0cd92a96-bf0e-48a6-af62-6026c4f88f24",
   "metadata": {},
   "source": [
    "### Misclassification Rate"
   ]
  },
  {
   "cell_type": "code",
   "execution_count": 57,
   "id": "8b965aab-00a2-4ddc-a765-36e7f198e98c",
   "metadata": {},
   "outputs": [],
   "source": [
    "def mis_rate(target_col, predict_col):\n",
    "    miss = 0\n",
    "    for expected, predicted in zip(target_col, predict_col):\n",
    "        if expected != predicted:\n",
    "            miss += 1\n",
    "    return miss / len(predict_col)"
   ]
  },
  {
   "cell_type": "markdown",
   "id": "5b42db9c-bd4d-40a1-b17f-252a65970c60",
   "metadata": {},
   "source": [
    "### Target and Prediction Values"
   ]
  },
  {
   "cell_type": "code",
   "execution_count": 13,
   "id": "91f56fc4-e430-476c-b89a-937bdc744ca9",
   "metadata": {},
   "outputs": [],
   "source": [
    "def t_p(target_col, predict_col):\n",
    "    \n",
    "    TP, FN, FP, TN = 0, 0, 0, 0\n",
    "    \n",
    "    for expected, predicted in zip(target_col, predict_col):\n",
    "        if expected:\n",
    "            if expected == predicted:\n",
    "                TP += 1\n",
    "            else:\n",
    "                FN += 1\n",
    "        else:\n",
    "            if expected == predicted:\n",
    "                TN += 1\n",
    "            else:\n",
    "                FP += 1\n",
    "                \n",
    "    return TP, FN, FP, TN"
   ]
  },
  {
   "cell_type": "markdown",
   "id": "d9267a19-eebe-4022-ba27-c2cf52d36797",
   "metadata": {},
   "source": [
    "### Confusion Matrix"
   ]
  },
  {
   "cell_type": "code",
   "execution_count": 11,
   "id": "d5ae1a79-3f12-4cbd-ad1d-6a0287ac8125",
   "metadata": {},
   "outputs": [],
   "source": [
    "def con_matrix(target_col, predict_col):\n",
    "\n",
    "    TP, FN, FP, TN = t_p(target_col, predict_col)\n",
    "\n",
    "    data = {'Positive': [TP, FP],\n",
    "            'Negative': [FN, TN]}\n",
    "    \n",
    "    row_index = ['Positive', 'Negative']\n",
    "    \n",
    "    matrix = pd.DataFrame(data, index = row_index)\n",
    "    \n",
    "    return matrix"
   ]
  },
  {
   "cell_type": "markdown",
   "id": "b4df3dc2-4a61-4cd0-b30d-795dc2f53abf",
   "metadata": {},
   "source": [
    "### Recall"
   ]
  },
  {
   "cell_type": "code",
   "execution_count": 3,
   "id": "61aba70a-a346-4498-95c3-a9514c40f08e",
   "metadata": {},
   "outputs": [],
   "source": [
    "def recall(x, y):\n",
    "    return x / (x + y)"
   ]
  },
  {
   "cell_type": "markdown",
   "id": "6a1a2152-931d-4e0c-b239-6cce1e70b34d",
   "metadata": {},
   "source": [
    "### Class Average (Harmonic Mean)"
   ]
  },
  {
   "cell_type": "code",
   "execution_count": 1,
   "id": "f9736d9f-9f16-4657-a19e-80669050cf4d",
   "metadata": {},
   "outputs": [],
   "source": [
    "def harmonic_mean(target_col, predict_col):\n",
    "\n",
    "    TP, FN, FP, TN = t_p(target_col, predict_col)\n",
    "\n",
    "    return 1 / ((1 / 2) * (1 / recall(TP, FN) + 1 / recall(TN, FP)))"
   ]
  },
  {
   "cell_type": "markdown",
   "id": "1abd1dd9-5a64-46fd-bfa3-fe58504ef158",
   "metadata": {},
   "source": [
    "### Average Class Accuracy"
   ]
  },
  {
   "cell_type": "code",
   "execution_count": null,
   "id": "eddb4c78-b8ba-4012-ab04-ba725af9e4fe",
   "metadata": {},
   "outputs": [],
   "source": [
    "def average_class_accuracy(target_col, predict_col):\n",
    "\n",
    "    TP, FN, FP, TN = t_p(target_col, predict_col)\n",
    "\n",
    "    return (recall(TP, FN) + recall(TN, FP)) / 2"
   ]
  },
  {
   "cell_type": "markdown",
   "id": "547e7185-f696-4a94-b9cb-55aacc0d0b3d",
   "metadata": {},
   "source": [
    "### Simple Accuracy"
   ]
  },
  {
   "cell_type": "code",
   "execution_count": 3,
   "id": "2d5a202b-f71c-45dd-ab8d-1c7db0f4ad58",
   "metadata": {},
   "outputs": [],
   "source": [
    "def simple_accuracy(target_col, predict_col):\n",
    "\n",
    "    TP, FN, FP, TN = t_p(target_col, predict_col)\n",
    "\n",
    "    return (TP + TN) / (TP + FN + FP + TN)"
   ]
  },
  {
   "cell_type": "markdown",
   "id": "4c302841-7d1c-4a0a-8a17-c075d9b0bd24",
   "metadata": {
    "jp-MarkdownHeadingCollapsed": true
   },
   "source": [
    "### F1 Measure"
   ]
  },
  {
   "cell_type": "code",
   "execution_count": 21,
   "id": "2f723bc4-8375-4c40-badd-691184665914",
   "metadata": {
    "jupyter": {
     "source_hidden": true
    }
   },
   "outputs": [],
   "source": [
    "def f1(target_col, predict_col):\n",
    "    \n",
    "    TP, FN, FP, TN = t_p(target_col, predict_col)\n",
    "\n",
    "    precision = recall(TP, FP)\n",
    "    rec = recall(TP, FN)\n",
    "\n",
    "    return 2 * ((precision * rec) / (precision + rec))"
   ]
  },
  {
   "cell_type": "markdown",
   "id": "273f5aa6-9cb0-44e8-8998-7a5bf05b0ee6",
   "metadata": {},
   "source": [
    "### Squared Error"
   ]
  },
  {
   "cell_type": "code",
   "execution_count": 53,
   "id": "2da8837c-7c97-4af6-b987-698877d89305",
   "metadata": {},
   "outputs": [],
   "source": [
    "def squared_error(target_col, predict_col):\n",
    "    return sum([(expected - predicted)**2 for expected, predicted in zip(target_col, predict_col)]) / 2"
   ]
  },
  {
   "cell_type": "markdown",
   "id": "36f6d4ea-b2b3-4903-ac14-993d9a9a5070",
   "metadata": {},
   "source": [
    "### Sum of Squares"
   ]
  },
  {
   "cell_type": "code",
   "execution_count": 77,
   "id": "e4950aa7-4b9f-4d1a-a81a-05ee04f6c68c",
   "metadata": {},
   "outputs": [],
   "source": [
    "def squares_sum_eval(target_col, predict_col):\n",
    "    mean_bar = m.mean(predict_col)\n",
    "    return sum([(expected - mean_bar)**2 for expected in target_col]) / 2"
   ]
  },
  {
   "cell_type": "markdown",
   "id": "6905c5bb-18e1-4667-817f-72c845fd70ed",
   "metadata": {},
   "source": [
    "### R2 Measure"
   ]
  },
  {
   "cell_type": "code",
   "execution_count": 70,
   "id": "6fb31181-7835-420f-8fd2-5cce32773651",
   "metadata": {},
   "outputs": [],
   "source": [
    "def r2(target_col, predict_col):\n",
    "    return 1 - (squared_error(target_col, predict_col) / squares_sum_eval(target_col, predict_col))"
   ]
  }
 ],
 "metadata": {
  "kernelspec": {
   "display_name": "Python 3",
   "language": "python",
   "name": "python3"
  },
  "language_info": {
   "codemirror_mode": {
    "name": "ipython",
    "version": 3
   },
   "file_extension": ".py",
   "mimetype": "text/x-python",
   "name": "python",
   "nbconvert_exporter": "python",
   "pygments_lexer": "ipython3",
   "version": "3.10.12"
  }
 },
 "nbformat": 4,
 "nbformat_minor": 5
}
